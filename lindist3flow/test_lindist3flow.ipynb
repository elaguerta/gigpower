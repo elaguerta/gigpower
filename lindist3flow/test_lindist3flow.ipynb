{
 "metadata": {
  "language_info": {
   "codemirror_mode": {
    "name": "ipython",
    "version": 3
   },
   "file_extension": ".py",
   "mimetype": "text/x-python",
   "name": "python",
   "nbconvert_exporter": "python",
   "pygments_lexer": "ipython3",
   "version": "3.7.6-final"
  },
  "orig_nbformat": 2,
  "kernelspec": {
   "name": "python37664bitpycigartestconda6f494e4b862a4280a0a0055c3626089c",
   "display_name": "Python 3.7.6 64-bit ('pycigar-test': conda)"
  }
 },
 "nbformat": 4,
 "nbformat_minor": 2,
 "cells": [
  {
   "cell_type": "code",
   "execution_count": 1,
   "metadata": {},
   "outputs": [
    {
     "output_type": "execute_result",
     "data": {
      "text/plain": "(array([[ 1. +0.j       ,  1. +0.j       ,  1. +0.j       ,\n          1. +0.j       ,  1. +0.j       ,  1. +0.j       ,\n          0. +0.j       ],\n        [-0.5-0.8660254j, -0.5-0.8660254j, -0.5-0.8660254j,\n         -0.5-0.8660254j,  0. +0.j       , -0.5-0.8660254j,\n         -0.5-0.8660254j],\n        [-0.5+0.8660254j, -0.5+0.8660254j, -0.5+0.8660254j,\n         -0.5+0.8660254j, -0.5+0.8660254j,  0. +0.j       ,\n          0. +0.j       ]]),\n array([[0.+0.j, 0.+0.j, 0.+0.j, 0.+0.j, 0.+0.j, 0.+0.j],\n        [0.+0.j, 0.+0.j, 0.+0.j, 0.+0.j, 0.+0.j, 0.+0.j],\n        [0.+0.j, 0.+0.j, 0.+0.j, 0.+0.j, 0.+0.j, 0.+0.j]]),\n array([[ 0.        +0.j        ,  0.        +0.j        ,\n          0.1       -0.025j     ,  0.1       -0.025j     ,\n          0.1       -0.025j     ,  0.1       -0.025j     ,\n          0.        +0.j        ],\n        [ 0.        +0.j        ,  0.        +0.j        ,\n         -0.07165064-0.07410254j, -0.07165064-0.07410254j,\n          0.        +0.j        , -0.07165064-0.07410254j,\n         -0.07165064-0.07410254j],\n        [ 0.        +0.j        ,  0.        +0.j        ,\n         -0.02834936+0.09910254j, -0.02834936+0.09910254j,\n         -0.02834936+0.09910254j,  0.        +0.j        ,\n          0.        +0.j        ]]),\n array([[0. +0.j   , 0. +0.j   , 0.1+0.025j, 0.1+0.025j, 0.1+0.025j,\n         0.1+0.025j, 0. +0.j   ],\n        [0. +0.j   , 0. +0.j   , 0.1+0.025j, 0.1+0.025j, 0. +0.j   ,\n         0.1+0.025j, 0.1+0.025j],\n        [0. +0.j   , 0. +0.j   , 0.1+0.025j, 0.1+0.025j, 0.1+0.025j,\n         0. +0.j   , 0. +0.j   ]]),\n array([[0.+0.j, 0.+0.j, 0.+0.j, 0.+0.j, 0.+0.j, 0.+0.j],\n        [0.+0.j, 0.+0.j, 0.+0.j, 0.+0.j, 0.+0.j, 0.+0.j],\n        [0.+0.j, 0.+0.j, 0.+0.j, 0.+0.j, 0.+0.j, 0.+0.j]]),\n array([[0.+0.j, 0.+0.j, 0.+0.j, 0.+0.j, 0.+0.j, 0.+0.j],\n        [0.+0.j, 0.+0.j, 0.+0.j, 0.+0.j, 0.+0.j, 0.+0.j],\n        [0.+0.j, 0.+0.j, 0.+0.j, 0.+0.j, 0.+0.j, 0.+0.j]]))"
     },
     "metadata": {},
     "execution_count": 1
    }
   ],
   "source": [
    "from lindist3flow import LinDist3Flow\n",
    "import numpy as np\n",
    "\n",
    "dss_path = './data/compare_opendss_05node_threephase_unbalanced_oscillation_03.dss'\n",
    "\n",
    "slackidx = 0\n",
    "Vslack = np.array([1, np.exp(1j*-120*np.pi/180), np.exp(1j*120*np.pi/180)])\n",
    "\n",
    "LinDist3Flow = LinDist3Flow(dss_path, slackidx, Vslack)\n",
    "LinDist3Flow.solve()"
   ]
  },
  {
   "cell_type": "code",
   "execution_count": 2,
   "metadata": {
    "tags": []
   },
   "outputs": [
    {
     "output_type": "execute_result",
     "data": {
      "text/plain": "(array([[ 1. +0.j       ,  1. +0.j       ,  1. +0.j       ,\n          1. +0.j       ,  1. +0.j       ,  1. +0.j       ,\n          0. +0.j       ],\n        [-0.5-0.8660254j, -0.5-0.8660254j, -0.5-0.8660254j,\n         -0.5-0.8660254j,  0. +0.j       , -0.5-0.8660254j,\n         -0.5-0.8660254j],\n        [-0.5+0.8660254j, -0.5+0.8660254j, -0.5+0.8660254j,\n         -0.5+0.8660254j, -0.5+0.8660254j,  0. +0.j       ,\n          0. +0.j       ]]),\n array([[0.+0.j, 0.+0.j, 0.+0.j, 0.+0.j, 0.+0.j, 0.+0.j],\n        [0.+0.j, 0.+0.j, 0.+0.j, 0.+0.j, 0.+0.j, 0.+0.j],\n        [0.+0.j, 0.+0.j, 0.+0.j, 0.+0.j, 0.+0.j, 0.+0.j]]),\n array([[0.+0.j, 0.+0.j, 0.+0.j, 0.+0.j, 0.+0.j, 0.+0.j, 0.+0.j],\n        [0.+0.j, 0.+0.j, 0.+0.j, 0.+0.j, 0.+0.j, 0.+0.j, 0.+0.j],\n        [0.+0.j, 0.+0.j, 0.+0.j, 0.+0.j, 0.+0.j, 0.+0.j, 0.+0.j]]),\n array([[0.+0.j, 0.+0.j, 0.+0.j, 0.+0.j, 0.+0.j, 0.+0.j, 0.+0.j],\n        [0.+0.j, 0.+0.j, 0.+0.j, 0.+0.j, 0.+0.j, 0.+0.j, 0.+0.j],\n        [0.+0.j, 0.+0.j, 0.+0.j, 0.+0.j, 0.+0.j, 0.+0.j, 0.+0.j]]),\n array([[0.+0.j, 0.+0.j, 0.+0.j, 0.+0.j, 0.+0.j, 0.+0.j],\n        [0.+0.j, 0.+0.j, 0.+0.j, 0.+0.j, 0.+0.j, 0.+0.j],\n        [0.+0.j, 0.+0.j, 0.+0.j, 0.+0.j, 0.+0.j, 0.+0.j]]),\n array([[0.+0.j, 0.+0.j, 0.+0.j, 0.+0.j, 0.+0.j, 0.+0.j],\n        [0.+0.j, 0.+0.j, 0.+0.j, 0.+0.j, 0.+0.j, 0.+0.j],\n        [0.+0.j, 0.+0.j, 0.+0.j, 0.+0.j, 0.+0.j, 0.+0.j]]))"
     },
     "metadata": {},
     "execution_count": 2
    }
   ],
   "source": [
    "LinDist3Flow.solve()"
   ]
  },
  {
   "cell_type": "code",
   "execution_count": 1,
   "metadata": {
    "tags": []
   },
   "outputs": [
    {
     "output_type": "stream",
     "name": "stdout",
     "text": "[[ 1.        +0.j          0.99881434+0.00285394j  0.99762869+0.00570789j\n   0.99539355+0.00972331j  0.99662511+0.0097544j   0.99206618+0.01201538j\n   0.        +0.j        ]\n [-0.5       -0.8660254j  -0.498296  -0.86838677j -0.49659199-0.87074814j\n  -0.49471926-0.87474368j  0.        +0.j         -0.49576335-0.87635006j\n  -0.49556479-0.87586776j]\n [-0.5       +0.8660254j  -0.5030413 +0.86355281j -0.50608259+0.86108022j\n  -0.51077419+0.85710962j -0.51078774+0.85445899j  0.        +0.j\n   0.        +0.j        ]]\n[[ 1.        +0.j          0.99881434+0.00285394j  0.99762869+0.00570789j\n   0.99539355+0.00972331j  0.99662511+0.0097544j   0.99206618+0.01201538j\n   0.        +0.j        ]\n [-0.5       -0.8660254j  -0.498296  -0.86838677j -0.49659199-0.87074814j\n  -0.49471926-0.87474368j  0.        +0.j         -0.49576335-0.87635006j\n  -0.49556479-0.87586776j]\n [-0.5       +0.8660254j  -0.5030413 +0.86355281j -0.50608259+0.86108022j\n  -0.51077419+0.85710962j -0.51078774+0.85445899j  0.        +0.j\n   0.        +0.j        ]]\n[[ 1.        +0.j          0.99880252+0.00288191j  0.99760505+0.00576382j\n   0.99534767+0.00981849j  0.99659142+0.00985014j  0.99198734+0.0121326j\n   0.        +0.j        ]\n [-0.5       -0.8660254j  -0.49827899-0.86841009j -0.49655798-0.87079478j\n  -0.49466639-0.87482986j  0.        +0.j         -0.49572066-0.87645254j\n  -0.49552021-0.87596549j]\n [-0.5       +0.8660254j  -0.5030709 +0.86352782j -0.5061418 +0.86103025j\n  -0.510879  +0.85701943j -0.51089237+0.85434262j  0.        +0.j\n   0.        +0.j        ]]\n[[ 1.        +0.j          0.99879082+0.0029096j   0.99758163+0.0058192j\n   0.99530223+0.00991274j  0.99655804+0.00994493j  0.99190925+0.01224865j\n   0.        +0.j        ]\n [-0.5       -0.8660254j  -0.49826214-0.86843318j -0.49652428-0.87084096j\n  -0.49461403-0.8749152j   0.        +0.j         -0.49567838-0.87655403j\n  -0.49547604-0.87606229j]\n [-0.5       +0.8660254j  -0.50310021+0.86350307j -0.50620041+0.86098073j\n  -0.51098276+0.85693007j -0.51099596+0.85422734j  0.        +0.j\n   0.        +0.j        ]]\n[[ 1.        +0.j          0.99877934+0.00293674j  0.99755867+0.00587349j\n   0.99525767+0.01000513j  0.99652531+0.01003786j  0.99183268+0.01236242j\n   0.        +0.j        ]\n [-0.5       -0.8660254j  -0.49824562-0.86845583j -0.49649123-0.87088625j\n  -0.49456267-0.87499888j  0.        +0.j         -0.4956369 -0.87665355j\n  -0.49543272-0.87615721j]\n [-0.5       +0.8660254j  -0.50312893+0.86347878j -0.50625787+0.86093217j\n  -0.51108446+0.85684241j -0.51109749+0.85411427j  0.        +0.j\n   0.        +0.j        ]]\n0.06508016586303711\n"
    }
   ],
   "source": [
    "import opendssdirect as dss\n",
    "from lindist3flow import LinDist3Flow\n",
    "import numpy as np\n",
    "import time\n",
    "dss_path = '/home/toanngo/Documents/GitHub/LinDist3Flow/lindist3flow/data/compare_opendss_05node_threephase_unbalanced_oscillation_03.dss'\n",
    "#dss_path = '/home/toanngo/Documents/GitHub/LinDist3Flow/lindist3flow/data/IEEE_13Node_Modified_01.dss'\n",
    "#dss_path = '/home/toanngo/Documents/GitHub/LinDist3Flow/lindist3flow/data/IEEE_13Node_Modified_01.dss'\n",
    "#dss_path = '/home/toanngo/Documents/GitHub/LinDist3Flow/lindist3flow/data/06node_threephase_unbalanced.dss'\n",
    "dss.run_command('Redirect ' + dss_path)\n",
    "nnode = len(dss.Circuit.AllBusNames())\n",
    "nline = len(dss.Lines.AllNames())\n",
    "\n",
    "\n",
    "# loads\n",
    "# Store the loads\n",
    "slackidx = 0\n",
    "Vslack = np.array([1, np.exp(1j*-120*np.pi/180), np.exp(1j*120*np.pi/180)])\n",
    "times = np.linspace(0, 2*np.pi, 5)\n",
    "\n",
    "kW_list = np.array([])\n",
    "kvar_list = np.array([])\n",
    "for k in range(len(dss.Loads.AllNames())):\n",
    "    dss.Loads.Name(dss.Loads.AllNames()[k])\n",
    "    kW_list = np.append(kW_list, dss.Loads.kW())\n",
    "    kvar_list = np.append(kvar_list, dss.Loads.kvar())\n",
    "all_load_names = dss.Loads.AllNames()\n",
    "\n",
    "VNR01 = np.zeros((len(times), 3, nnode), dtype = \"complex\")\n",
    "INR01 =  np.zeros((len(times), 3, nline), dtype = \"complex\")\n",
    "STXNR01 = np.zeros((len(times), 3, nline), dtype = \"complex\")\n",
    "SRXNR01 = np.zeros((len(times), 3, nline), dtype = \"complex\")\n",
    "iNR01 = np.zeros((len(times), 3, nnode), dtype = \"complex\")\n",
    "sNR01 = np.zeros((len(times), 3, nnode), dtype = \"complex\")\n",
    "\n",
    "LinDist3Flow = LinDist3Flow(dss_path, slackidx, Vslack)\n",
    "start_time = time.time()\n",
    "for i in range(len(times)):\n",
    "\n",
    "    VNR, INR, iNR, sNR, STXNR, SRXNR = LinDist3Flow.solve()\n",
    "    # Time-varying load\n",
    "    for k,v in enumerate(all_load_names):\n",
    "        LinDist3Flow.set_load_kw(v, kW_list[k]* (1 + 0.1*np.sin(2*np.pi*0.01*times[i])))\n",
    "        LinDist3Flow.set_load_kvar(v, kvar_list[k] * (1 + 0.1*np.sin(2*np.pi*0.01*times[i])))\n",
    "    #VNR01[i, :, :] = np.reshape(VNR, (3, nnode))\n",
    "    #INR01[i, :, :] = np.reshape(INR, (3, nline))\n",
    "    #STXNR01[i, :, :] = np.reshape(STXNR, (3, nline))\n",
    "    #SRXNR01[i, :, :] = np.reshape(SRXNR, (3, nline))\n",
    "    #iNR01[i, :, :] = np.reshape(iNR, (3, nnode))\n",
    "    #sNR01[i, :, :] = np.reshape(sNR, (3, nnode))\n",
    "    print(VNR)\n",
    "print(time.time() - start_time)"
   ]
  },
  {
   "cell_type": "code",
   "execution_count": 2,
   "metadata": {},
   "outputs": [
    {
     "output_type": "execute_result",
     "data": {
      "text/plain": "array([[[ 1.        +0.j        ,  0.99881434+0.00285394j,\n          0.99762869+0.00570789j,  0.99539355+0.00972331j,\n          0.99662511+0.0097544j ,  0.99206618+0.01201538j,\n          0.        +0.j        ],\n        [-0.5       -0.8660254j , -0.498296  -0.86838677j,\n         -0.49659199-0.87074814j, -0.49471926-0.87474368j,\n          0.        +0.j        , -0.49576335-0.87635006j,\n         -0.49556479-0.87586776j],\n        [-0.5       +0.8660254j , -0.5030413 +0.86355281j,\n         -0.50608259+0.86108022j, -0.51077419+0.85710962j,\n         -0.51078774+0.85445899j,  0.        +0.j        ,\n          0.        +0.j        ]],\n\n       [[ 1.        +0.j        ,  0.99881434+0.00285394j,\n          0.99762869+0.00570789j,  0.99539355+0.00972331j,\n          0.99662511+0.0097544j ,  0.99206618+0.01201538j,\n          0.        +0.j        ],\n        [-0.5       -0.8660254j , -0.498296  -0.86838677j,\n         -0.49659199-0.87074814j, -0.49471926-0.87474368j,\n          0.        +0.j        , -0.49576335-0.87635006j,\n         -0.49556479-0.87586776j],\n        [-0.5       +0.8660254j , -0.5030413 +0.86355281j,\n         -0.50608259+0.86108022j, -0.51077419+0.85710962j,\n         -0.51078774+0.85445899j,  0.        +0.j        ,\n          0.        +0.j        ]],\n\n       [[ 1.        +0.j        ,  0.99880252+0.00288191j,\n          0.99760505+0.00576382j,  0.99534767+0.00981849j,\n          0.99659142+0.00985014j,  0.99198734+0.0121326j ,\n          0.        +0.j        ],\n        [-0.5       -0.8660254j , -0.49827899-0.86841009j,\n         -0.49655798-0.87079478j, -0.49466639-0.87482986j,\n          0.        +0.j        , -0.49572066-0.87645254j,\n         -0.49552021-0.87596549j],\n        [-0.5       +0.8660254j , -0.5030709 +0.86352782j,\n         -0.5061418 +0.86103025j, -0.510879  +0.85701943j,\n         -0.51089237+0.85434262j,  0.        +0.j        ,\n          0.        +0.j        ]],\n\n       [[ 1.        +0.j        ,  0.99879082+0.0029096j ,\n          0.99758163+0.0058192j ,  0.99530223+0.00991274j,\n          0.99655804+0.00994493j,  0.99190925+0.01224865j,\n          0.        +0.j        ],\n        [-0.5       -0.8660254j , -0.49826214-0.86843318j,\n         -0.49652428-0.87084096j, -0.49461403-0.8749152j ,\n          0.        +0.j        , -0.49567838-0.87655403j,\n         -0.49547604-0.87606229j],\n        [-0.5       +0.8660254j , -0.50310021+0.86350307j,\n         -0.50620041+0.86098073j, -0.51098276+0.85693007j,\n         -0.51099596+0.85422734j,  0.        +0.j        ,\n          0.        +0.j        ]],\n\n       [[ 1.        +0.j        ,  0.99877934+0.00293674j,\n          0.99755867+0.00587349j,  0.99525767+0.01000513j,\n          0.99652531+0.01003786j,  0.99183268+0.01236242j,\n          0.        +0.j        ],\n        [-0.5       -0.8660254j , -0.49824562-0.86845583j,\n         -0.49649123-0.87088625j, -0.49456267-0.87499888j,\n          0.        +0.j        , -0.4956369 -0.87665355j,\n         -0.49543272-0.87615721j],\n        [-0.5       +0.8660254j , -0.50312893+0.86347878j,\n         -0.50625787+0.86093217j, -0.51108446+0.85684241j,\n         -0.51109749+0.85411427j,  0.        +0.j        ,\n          0.        +0.j        ]]])"
     },
     "metadata": {},
     "execution_count": 2
    }
   ],
   "source": [
    "VNR01"
   ]
  },
  {
   "cell_type": "code",
   "execution_count": null,
   "metadata": {},
   "outputs": [],
   "source": []
  }
 ]
}