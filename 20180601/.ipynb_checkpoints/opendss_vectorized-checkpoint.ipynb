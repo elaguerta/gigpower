{
 "cells": [
  {
   "cell_type": "code",
   "execution_count": 1,
   "metadata": {},
   "outputs": [],
   "source": [
    "import numpy as np\n",
    "import opendssdirect as dss\n",
    "import matplotlib.pyplot as plt\n",
    "#from network_mapper_OpenDSSnonvec import network_mapper_function\n",
    "from math import tan,acos\n",
    "import copy\n",
    "import pandas as pd\n",
    "import time\n",
    "import re\n",
    "import sys"
   ]
  },
  {
   "cell_type": "code",
   "execution_count": 2,
   "metadata": {
    "scrolled": true
   },
   "outputs": [],
   "source": [
    "#dss.run_command('Redirect 05node_singlephase_balanced_oscillation_03.dss') #load dss file\n",
    "# dss.run_command('Redirect 05node_threephase_unbalanced_oscillation_03.dss')\n",
    "dss.run_command('Redirect compare_opendss_05node_threephase_unbalanced_oscillation_03.dss')\n",
    "dss.Solution.Solve() \n",
    "\n",
    "nnode = len(dss.Circuit.AllBusNames()) \n",
    "nline = len(dss.Lines.AllNames())"
   ]
  },
  {
   "cell_type": "code",
   "execution_count": null,
   "metadata": {},
   "outputs": [],
   "source": []
  },
  {
   "cell_type": "markdown",
   "metadata": {},
   "source": [
    "Asides: \n",
    " - update Re(d), Im(d); put it into FTKCL\n",
    " - delta wye problem\n",
    " - need to transfer the code again bc i edited it. then i need to run it, prob in a diff nb. \n",
    "\n",
    "\n",
    " \n",
    " "
   ]
  },
  {
   "cell_type": "markdown",
   "metadata": {},
   "source": [
    "### XNR \n",
    "((2 * 3 * (nnode+nline), 1))"
   ]
  },
  {
   "cell_type": "code",
   "execution_count": 3,
   "metadata": {},
   "outputs": [],
   "source": [
    "#this is old code, but it makes XNR\n",
    "\n",
    "V_all = np.array([])\n",
    "for k1 in range(len(dss.Circuit.AllBusNames())):\n",
    "    dss.Circuit.SetActiveBus(dss.Circuit.AllBusNames()[k1])\n",
    "    v_temp = dss.Bus.PuVoltage()\n",
    "    z = np.zeros(6) #preallocate for re/im in 3 ph\n",
    "    z[:len(v_temp)] = np.array([v_temp])   \n",
    "    V_all = np.append(V_all, z)\n",
    "V_all = np.reshape(V_all, (nnode, 6)).T\n",
    "b_SB = V_all[:,:1]\n",
    "\n",
    "\n",
    "I_all = np.array([])\n",
    "for k2 in range(len(dss.Lines.AllNames())):\n",
    "    dss.Lines.Name(dss.Lines.AllNames()[k2]) \n",
    "#     i_temp = np.divide(dss.CktElement.Currents(), dss.Bus.kVBase())\n",
    "    z = np.zeros(6)\n",
    "#     z[:len(i_temp)] = i_temp \n",
    "    I_all = np.append(I_all, z)\n",
    "I_all = np.reshape(I_all, (nline, 6)).T\n",
    "\n",
    "XNR = np.zeros((2*3*(nnode+nline),1))\n",
    "\n",
    "for ph in range(0,3):\n",
    "    for k1 in range(0,nnode):\n",
    "        XNR[2*ph*nnode + 2*k1] = V_all[ph * 2 , k1]\n",
    "        XNR[2*ph*nnode + 2*k1+1] = V_all[(ph * 2) +1,k1]\n",
    "\n",
    "for ph in range(0,3):\n",
    "    for k1 in range(0,nline):\n",
    "        XNR[(2*3*nnode) + 2*ph*nline + 2*k1] = I_all[ph * 2,k1]\n",
    "        XNR[(2*3*nnode) + 2*ph*nline + (2*k1)+1] = I_all[(ph * 2) + 1,k1]\n"
   ]
  },
  {
   "cell_type": "markdown",
   "metadata": {},
   "source": [
    "### Slack Bus"
   ]
  },
  {
   "cell_type": "markdown",
   "metadata": {},
   "source": [
    "$$ \\delta_{SBRE,m} = A_{m}^{\\phi} - \\Re \\left\\{ V_{sl}^{\\phi} \\right\\} \\\\\n",
    "\\delta_{SBIM,m} = B_{m}^{\\phi} - \\Im \\left\\{ V_{sl}^{\\phi} \\right\\} $$\n",
    " --- \n",
    " \n",
    " $$ {\\Delta}_{SB} = {G}_{SB} {X} + {b}_{SB} $$\n",
    " ---\n",
    "$$ X $$ ((2 * 3 * (nnode + nline), 1))"
   ]
  },
  {
   "cell_type": "code",
   "execution_count": 4,
   "metadata": {},
   "outputs": [
    {
     "name": "stdout",
     "output_type": "stream",
     "text": [
      "{'sourcebus': [1, 1, 1], 'a01': [1, 1, 1], 'a02': [1, 1, 1], 'a03': [1, 1, 1], 'a04': [1, 0, 1], 'a05': [1, 1, 0], 'a06': [0, 1, 0]}\n"
     ]
    }
   ],
   "source": [
    "def bus_phases(): #goes through all the buses and saves their phases to a list stored in a dictionary \n",
    "    #1 if phase exists, 0 o.w.\n",
    "    #list goes [a, b, c]\n",
    "    #key is the bus name (without the phase part)\n",
    "    dictionary = {}\n",
    "    for k2 in range(len(dss.Circuit.AllNodeNames())):\n",
    "        for i in range(1, 4):\n",
    "            pattern = r\"\\.%s\" % (str(i))\n",
    "           \n",
    "            m = re.findall(pattern, dss.Circuit.AllNodeNames()[k2])\n",
    "            a, b = dss.Circuit.AllNodeNames()[k2].split('.')\n",
    "            if m and a in dictionary: \n",
    "                temp = dictionary[a]\n",
    "                temp[i - 1] = 1\n",
    "                dictionary[a] = temp\n",
    "            elif m and a not in dictionary:\n",
    "                dictionary[a] = [0, 0, 0]\n",
    "                temp = dictionary[a]\n",
    "                temp[i - 1] = 1\n",
    "                dictionary[a] = temp\n",
    "    return dictionary\n",
    "bus_phase_dict = bus_phases()\n",
    "print(bus_phase_dict)"
   ]
  },
  {
   "cell_type": "code",
   "execution_count": 5,
   "metadata": {},
   "outputs": [
    {
     "name": "stdout",
     "output_type": "stream",
     "text": [
      "{'line_sub_a01': [1, 1, 1], 'line_a01_a02': [1, 1, 1], 'line_a02_a03': [1, 1, 1], 'line_a03_a04': [1, 0, 1], 'line_a03_a05': [1, 1, 0], 'line_a05_a06': [0, 1, 0]}\n"
     ]
    }
   ],
   "source": [
    "def line_phases(): #goes through all the lines and saves their phases to a list stored in a dictionary \n",
    "    #1 if phase exists, 0 o.w.\n",
    "    #list goes [a, b, c]\n",
    "    #key is the line name\n",
    "    dictionary = {}\n",
    "    for k2 in range(len(dss.Lines.AllNames())):\n",
    "        for i in range(1, 4):\n",
    "            pattern = r\"\\.%s\" % (str(i))\n",
    "            dss.Lines.Name(dss.Lines.AllNames()[k2])\n",
    "            m = re.findall(pattern, dss.Lines.Bus1())\n",
    "            if m and dss.Lines.AllNames()[k2] in dictionary: \n",
    "                temp = dictionary[dss.Lines.AllNames()[k2]]\n",
    "                temp[i - 1] = 1\n",
    "                dictionary[dss.Lines.AllNames()[k2]] = temp\n",
    "            elif m and dss.Lines.AllNames()[k2] not in dictionary:\n",
    "                dictionary[dss.Lines.AllNames()[k2]] = [0, 0, 0]\n",
    "                temp = dictionary[dss.Lines.AllNames()[k2]]\n",
    "                temp[i - 1] = 1\n",
    "                dictionary[dss.Lines.AllNames()[k2]] = temp\n",
    "    return dictionary\n",
    "line_phase_dict = line_phases()\n",
    "print(line_phase_dict)"
   ]
  },
  {
   "cell_type": "code",
   "execution_count": 6,
   "metadata": {},
   "outputs": [
    {
     "name": "stdout",
     "output_type": "stream",
     "text": [
      "[0.01, 0.04, 0.04, 0.04, 0.01, 0.04, 0.04, 0.04, 0.01]\n",
      "[0.01, 0.04, 0.04, 0.04, 0.01, 0.04, 0.04, 0.04, 0.01]\n",
      "[0.02, 0.08, 0.08, 0.08, 0.02, 0.08, 0.08, 0.08, 0.02]\n",
      "[0.02, 0.08, 0.08, 0.02]\n",
      "[0.02, 0.08, 0.08, 0.02]\n",
      "[0.02]\n",
      "(78,)\n"
     ]
    }
   ],
   "source": [
    "line_names = dss.Lines.AllNames()\n",
    "\n",
    "A_m = np.array([])\n",
    "B_m = np.array([])\n",
    "\n",
    "C_mn = np.array([])\n",
    "D_mn = np.array([])\n",
    "\n",
    "R_matrix = np.zeros((nline,9))\n",
    "X_matrix = np.zeros((nline,9))\n",
    "\n",
    "dss.Circuit.SetActiveBus(dss.Circuit.AllBusNames()[0])\n",
    "kV_base = dss.Bus.kVBase()\n",
    "\n",
    "\n",
    "for k1 in range(len(dss.Circuit.AllBusNames())):\n",
    "    dss.Circuit.SetActiveBus(dss.Circuit.AllBusNames()[k1])\n",
    "    phases = bus_phase_dict[dss.Circuit.AllBusNames()[k1]] \n",
    "    volts = dss.Bus.PuVoltage() #get bus1's puVoltage\n",
    "    a_temp = np.zeros(3)\n",
    "    b_temp = np.zeros(3)\n",
    "\n",
    "    count = 0\n",
    "    for i in range(0, 3):\n",
    "        if phases[i] == 1: #need to properly assign voltages based on what phases exist\n",
    "            a_temp[i] = volts[count]\n",
    "            b_temp[i] = volts[count+1]\n",
    "            count = count + 2\n",
    "\n",
    "    A_m = np.append(A_m, a_temp) #split into re/im parts\n",
    "    B_m = np.append(B_m, b_temp)\n",
    "    \n",
    "\n",
    "for k2 in range(len(dss.Lines.AllNames())):\n",
    "    dss.Lines.Name(dss.Lines.AllNames()[k2]) #set the line\n",
    "   \n",
    "    linecode = dss.Lines.LineCode() #get the linecode\n",
    "    dss.LineCodes.Name(linecode) #set the linecode\n",
    "    xmat = dss.LineCodes.Xmatrix() #get the xmat \n",
    "    rmat = dss.LineCodes.Rmatrix() #get the rmat\n",
    "    print(xmat)\n",
    "    \n",
    "    for i in range(len(xmat)):\n",
    "        X_matrix[k2][i] = xmat[i] #fill x/r where they are shaped like nline x 9 (for 9 components)\n",
    "    for j in range(len(rmat)):\n",
    "        R_matrix[k2][j] = rmat[j]\n",
    "       \n",
    " \n",
    "    c_temp = np.zeros(3) #retrieve line current\n",
    "    d_temp = np.zeros(3)\n",
    "    \n",
    "    for i in range(0, 3): #len(dss.CktElement.Currents()), 2): #get the currents of the line\n",
    "    \n",
    "        c_temp[i] = 0\n",
    "        d_temp[i] = 0\n",
    "    \n",
    "#         c_temp[i//2] = np.divide(dss.CktElement.Currents()[i], kV_base) #per unit-ify the currents\n",
    "#         d_temp[i//2] = np.divide(dss.CktElement.Currents()[i+1], kV_base) \n",
    "    C_mn = np.append(C_mn, c_temp)\n",
    "    D_mn = np.append(D_mn, d_temp)\n",
    "    \n",
    "X = np.array([]) #make X, X.shape = (2*3*(nline+nnode), 1)\n",
    "\n",
    "for ph in range(0,3):\n",
    "    for nodes in range(nnode):\n",
    "        X = np.append(X, A_m[nodes*3 + ph]) #add a, b by node and then phase\n",
    "        X = np.append(X, B_m[nodes*3 + ph])\n",
    "\n",
    "for ph in range(0, 3):\n",
    "    for lines in range(nline):\n",
    "        X = np.append(X, C_mn[lines*3 + ph]) #add c, d by line and then phase\n",
    "        X = np.append(X, D_mn[lines*3 + ph])\n",
    "\n",
    "print(X.shape)\n"
   ]
  },
  {
   "cell_type": "markdown",
   "metadata": {},
   "source": [
    "$$ G_{SB} $$ \n",
    "((6, 2 * 3 * (nnode+nline)))"
   ]
  },
  {
   "cell_type": "code",
   "execution_count": 7,
   "metadata": {},
   "outputs": [
    {
     "name": "stdout",
     "output_type": "stream",
     "text": [
      "(6, 78)\n"
     ]
    }
   ],
   "source": [
    "g_SB = np.array([]) #assumes slack bus is at index 0 \n",
    "sb_idx = [0, 1, 2*nnode, 2*nnode+1, 3*nnode, 3*nnode+1]\n",
    "for i in range(len(sb_idx)):    \n",
    "    temp_row = np.zeros(len(X))\n",
    "    temp_row[sb_idx[i]] = 1\n",
    "    g_SB = np.append(g_SB, temp_row)\n",
    "g_SB = np.reshape(g_SB, (6, len(g_SB) // 6))\n",
    "## print(g_SB)\n",
    "print(g_SB.shape)\n"
   ]
  },
  {
   "cell_type": "markdown",
   "metadata": {},
   "source": [
    "$$ b_{SB} $$ \n",
    "((6,1))"
   ]
  },
  {
   "cell_type": "code",
   "execution_count": 8,
   "metadata": {},
   "outputs": [
    {
     "name": "stdout",
     "output_type": "stream",
     "text": [
      "[ 9.99997184e-01 -5.44938312e-06 -5.00003216e-01 -8.66020134e-01\n",
      " -8.68923315e-01  0.00000000e+00]\n",
      "(6,)\n"
     ]
    }
   ],
   "source": [
    "b_SB = np.array([])\n",
    "sb_idx = [0, 1, 2*nnode, 2*nnode+1, 3*nnode, 3*nnode+1] #indices of real and im parts of sb voltage\n",
    "for i in range(len(sb_idx)):\n",
    "    b_SB = np.append(b_SB, X[sb_idx[i]])\n",
    "print(b_SB)\n",
    "print(b_SB.shape)\n"
   ]
  },
  {
   "cell_type": "code",
   "execution_count": 9,
   "metadata": {},
   "outputs": [
    {
     "data": {
      "text/plain": [
       "array([0., 0., 0., 0., 0., 0.])"
      ]
     },
     "execution_count": 9,
     "metadata": {},
     "output_type": "execute_result"
    }
   ],
   "source": [
    "g_SB @ X - b_SB"
   ]
  },
  {
   "cell_type": "markdown",
   "metadata": {},
   "source": [
    "Derivatives"
   ]
  },
  {
   "cell_type": "code",
   "execution_count": 10,
   "metadata": {},
   "outputs": [],
   "source": [
    "JSUBV = g_SB"
   ]
  },
  {
   "cell_type": "markdown",
   "metadata": {},
   "source": [
    "### KVL\n"
   ]
  },
  {
   "cell_type": "markdown",
   "metadata": {},
   "source": [
    "X is like $$[a^1_a, b^1_a, a^2_a, b^1_a, ...a^{nnode}_a, b^{nnode}_a, a^1_b, b^1_b, .... a^{nnode}_b, a^{nnode}_b, a1_c, b1_c, ... a^{nnode}_c, b^{nnode}_c, c_{mn, a}^1, d_{mn, a}^1, ..., c_{mn,a}^{nlinelast}, d_{mn, a}^{nlinelast}, c_{mn, b}^1, d_{mn, b}^1, ... , c_{mn, b}^{nlinelast}, d_{mn, b}^{nlinelast}, c_{mn,c}^{1}, d_{mn, c}^{1}, ..., c_{mn,c}^{nlinelast}, d_{mn, c}^{nlinelast} ] $$\n",
    "\n",
    "---\n",
    "\n",
    "Helper Method"
   ]
  },
  {
   "cell_type": "code",
   "execution_count": 11,
   "metadata": {},
   "outputs": [
    {
     "data": {
      "text/plain": [
       "0"
      ]
     },
     "execution_count": 11,
     "metadata": {},
     "output_type": "execute_result"
    }
   ],
   "source": [
    "def get_bus_idx(bus): \n",
    "    k = -1\n",
    "    for n in range(len(dss.Circuit.AllBusNames())): #iterates over all the buses to see which index corresponds to bus\n",
    "        if dss.Circuit.AllBusNames()[n] in bus:\n",
    "            k = n\n",
    "    return k\n",
    "dss.Lines.Name(dss.Lines.AllNames()[0]) #set the line\n",
    "bus1 = dss.Lines.Bus1()\n",
    "get_bus_idx(bus1)\n"
   ]
  },
  {
   "cell_type": "code",
   "execution_count": 12,
   "metadata": {},
   "outputs": [],
   "source": [
    "def identify_bus_phases(bus): #figures out which phases correspond to the bus\n",
    "    #returns a list of the r/x matrix places that have those phase/s\n",
    "    k = np.zeros(3)\n",
    "    for i in range(1, 4):\n",
    "        pattern = r\"\\.%s\" % (str(i))\n",
    "        m = re.findall(pattern, bus)\n",
    "        if m:\n",
    "            k[i - 1] = 1 \n",
    "    return k\n",
    "#     if np.all(k == np.array([1,0,0])):\n",
    "#         return [0]\n",
    "#     elif np.all(k == np.array([0, 1, 0])):\n",
    "#         return [4]\n",
    "#     elif np.all(k == np.array([0, 0, 1])):\n",
    "#         return [8]\n",
    "#     elif np.all(k == np.array([1, 0, 1])):\n",
    "#         return [0, 6,8]\n",
    "#     elif np.all(k == np.array([1, 1, 0])):\n",
    "#         return [0,3,4]\n",
    "#     elif np.all(k == np.array([0, 1, 1])):\n",
    "#         return [4,7,9]\n",
    "#     else:\n",
    "#         return [0,3,  4, 6, 7, 8]\n",
    "    \n",
    "s = identify_bus_phases('a02.1.2.3')\n"
   ]
  },
  {
   "cell_type": "markdown",
   "metadata": {},
   "source": [
    "$$ G_{KVL} $$ \n",
    "\n",
    "((2 * 3 * nline, 2 * 3 * (nnode+nline))"
   ]
  },
  {
   "cell_type": "code",
   "execution_count": 13,
   "metadata": {},
   "outputs": [
    {
     "name": "stdout",
     "output_type": "stream",
     "text": [
      "{'sourcebus': 0, 'a01': 1, 'a02': 2, 'a03': 3, 'a04': 4, 'a05': 5, 'a06': 6}\n"
     ]
    }
   ],
   "source": [
    "dict = {}\n",
    "for i in range(len(dss.Circuit.AllBusNames())):\n",
    "    dict[dss.Circuit.AllBusNames()[i]] = i\n",
    "print(dict)"
   ]
  },
  {
   "cell_type": "code",
   "execution_count": 14,
   "metadata": {},
   "outputs": [
    {
     "name": "stdout",
     "output_type": "stream",
     "text": [
      "6\n",
      "7\n"
     ]
    }
   ],
   "source": [
    "print(nline)\n",
    "print(nnode)"
   ]
  },
  {
   "cell_type": "code",
   "execution_count": 15,
   "metadata": {},
   "outputs": [
    {
     "name": "stdout",
     "output_type": "stream",
     "text": [
      "(36, 78)\n"
     ]
    }
   ],
   "source": [
    "G_KVL = np.array([])\n",
    "counter = 0\n",
    "\n",
    "for ph in range(0, 3):\n",
    "    for line in range(len(dss.Lines.AllNames())):    \n",
    "        dss.Lines.Name(dss.Lines.AllNames()[line]) #set the line\n",
    "        bus1 = dss.Lines.Bus1()\n",
    "        bus2 = dss.Lines.Bus2()\n",
    "        \n",
    "        b1, b2 = dss.CktElement.BusNames() #the buses on a line should have the same phase      \n",
    "        bus1_phases = identify_bus_phases(b1) #identifies which phase is associated with the bus (which is the same as the line)\n",
    "\n",
    "        #you need to know how many phases there are on the line\n",
    "        #which letters those phases correspond to\n",
    "          \n",
    "        bus1_idx = get_bus_idx(bus1) #get the buses of the line\n",
    "        bus2_idx = get_bus_idx(bus2) \n",
    "\n",
    "        temp_row = np.zeros(len(X)) \n",
    "        #real part of KVL residual\n",
    "        #assigning the re voltage coefficients\n",
    "        \n",
    "        temp_row[2*(nnode-1)*ph + 2*(bus1_idx-1)] = 1 #A_m\n",
    "        temp_row[2*(nnode-1)*ph + 2*(bus2_idx-1)] = -1 #A_n\n",
    "\n",
    "        #assigning the summation portion of the residual\n",
    "        temp_row[2*3*(nnode-1) + 2*line] = -R_matrix[line][ph*3] * bus1_phases[0] #C_mn for a\n",
    "        temp_row[2*3*(nnode-1) + 2*line + 1] = X_matrix[line][ph*3] * bus1_phases[0] #D_mn for a\n",
    "        temp_row[2*3*(nnode-1) + 2*nline + 2*line] = -R_matrix[line][ph*3 + 1] * bus1_phases[1] #C_mn for b\n",
    "        temp_row[2*3*(nnode-1) + 2*nline + 2*line + 1] = X_matrix[line][ph*3 + 1] * bus1_phases[1] #D_mn for b\n",
    "        temp_row[2*3*(nnode-1) + 4*nline + 2*line] = -R_matrix[line][ph*3 + 2] * bus1_phases[2] #C_mn for c\n",
    "        temp_row[2*3*(nnode-1) + 4*nline + 2*line + 1] = X_matrix[line][ph*3 + 2] * bus1_phases[2] #D_mn for c\n",
    "        G_KVL = np.append(G_KVL, temp_row)\n",
    "\n",
    "        \n",
    "        #same as above for imaginary part of KVL residual\n",
    "        \n",
    "        temp_row = np.zeros(len(X))\n",
    "        temp_row[2*(nnode-1)*ph + 2*(bus1_idx-1) + 1] = 1 #B_m\n",
    "        temp_row[2*(nnode-1)*ph + 2*(bus2_idx-1) + 1] = -1 #B_n\n",
    "        temp_row[2*3*(nnode-1) + 2*line] = -X_matrix[line][ph*3] * bus1_phases[0] #C_mn for a\n",
    "        temp_row[2*3*(nnode-1) + 2*line + 1] = -R_matrix[line][ph*3] * bus1_phases[0] #D_mn for a\n",
    "        temp_row[2*3*(nnode-1) + 2*nline + 2*line] = -X_matrix[line][ph*3 + 1] * bus1_phases[1] #C_mn for b\n",
    "        temp_row[2*3*(nnode-1) + 2*nline + 2*line + 1] = -R_matrix[line][ph*3 + 1] * bus1_phases[1] #D_mn for b\n",
    "        temp_row[2*3*(nnode-1) + 4*nline + 2*line] = -X_matrix[line][ph*3 + 2] * bus1_phases[2] #C_mn for c\n",
    "        temp_row[2*3*(nnode-1) + 4*nline + 2*line + 1] = -R_matrix[line][ph*3 + 2] * bus1_phases[2] #D_mn for c\n",
    "        G_KVL = np.append(G_KVL, temp_row)\n",
    "        \n",
    "\n",
    "G_KVL = np.reshape(G_KVL,(2*3*nline, len(X))) #shape to correct shape\n",
    "        \n",
    "# np.set_printoptions(threshold=sys.maxsize)\n",
    "print(G_KVL.shape)\n"
   ]
  },
  {
   "cell_type": "markdown",
   "metadata": {},
   "source": [
    "$$ b_{KVL} $$\n",
    "\n",
    "((2 * 3 * nline,1))"
   ]
  },
  {
   "cell_type": "code",
   "execution_count": 16,
   "metadata": {},
   "outputs": [
    {
     "name": "stdout",
     "output_type": "stream",
     "text": [
      "(36,)\n"
     ]
    }
   ],
   "source": [
    "b_kvl = np.zeros(len(G_KVL))\n",
    "print(b_kvl.shape)"
   ]
  },
  {
   "cell_type": "code",
   "execution_count": 17,
   "metadata": {},
   "outputs": [
    {
     "name": "stdout",
     "output_type": "stream",
     "text": [
      "(36,)\n"
     ]
    }
   ],
   "source": [
    "res = G_KVL @ X - b_kvl\n",
    "print(res.shape)"
   ]
  },
  {
   "cell_type": "markdown",
   "metadata": {},
   "source": [
    "KVL derivative"
   ]
  },
  {
   "cell_type": "code",
   "execution_count": 18,
   "metadata": {},
   "outputs": [],
   "source": [
    "KVL_deriv = G_KVL"
   ]
  },
  {
   "cell_type": "markdown",
   "metadata": {},
   "source": [
    "### KCL\n"
   ]
  },
  {
   "cell_type": "markdown",
   "metadata": {},
   "source": [
    "Helpful Methods"
   ]
  },
  {
   "cell_type": "code",
   "execution_count": 19,
   "metadata": {},
   "outputs": [],
   "source": [
    "def linelist(busname): #returns two lists of in and out lines at a bus\n",
    "    in_lines = np.array([])\n",
    "    out_lines = np.array([])\n",
    "    for k in range(len(dss.Lines.AllNames())):\n",
    "        dss.Lines.Name(dss.Lines.AllNames()[k])\n",
    "        if busname in dss.Lines.Bus1():\n",
    "            out_lines = np.append(out_lines, dss.Lines.AllNames()[k])\n",
    "        elif busname in dss.Lines.Bus2():\n",
    "            in_lines = np.append(in_lines,dss.Lines.AllNames()[k])\n",
    "    return in_lines,out_lines\n",
    "\n",
    "def get_line_idx(line): #returns the index of a line as stored in dss.Lines.AllNames()\n",
    "    k = -1\n",
    "    for n in range(len(dss.Lines.AllNames())):\n",
    "        if dss.Lines.AllNames()[n] == line:\n",
    "            k = n\n",
    "    return k\n",
    "\n",
    "def d_factor(busname, cplx):\n",
    "    factor = np.array([])\n",
    "    k = -1\n",
    "    for n in range(len(dss.Loads.AllNames())):\n",
    "        if busname in dss.Loads.AllNames()[n]:\n",
    "            k = n\n",
    "    dss.Loads.Name(dss.Loads.AllNames()[n])\n",
    "    if k == -1:\n",
    "        d_factor = 1\n",
    "    elif cplx == 0:\n",
    "        d_factor = dss.Loads.kW() \n",
    "    elif cplx == 1:\n",
    "        d_factor = dss.Loads.kvar()\n",
    "    return d_factor\n"
   ]
  },
  {
   "cell_type": "code",
   "execution_count": 20,
   "metadata": {},
   "outputs": [],
   "source": [
    "beta_S = 0.85 \n",
    "beta_I = 0.05\n",
    "beta_Z = 0.1 "
   ]
  },
  {
   "cell_type": "markdown",
   "metadata": {},
   "source": [
    "$$X_{KCL}$$"
   ]
  },
  {
   "cell_type": "code",
   "execution_count": 31,
   "metadata": {},
   "outputs": [
    {
     "name": "stdout",
     "output_type": "stream",
     "text": [
      "(72,)\n"
     ]
    }
   ],
   "source": [
    "X_cut = X[2:]\n",
    "X_cut = np.append(X_cut[:2*nnode - 2], X_cut[2*nnode:])\n",
    "X_cut = np.append(X_cut[:2*2*nnode -2], X_cut[2*2*nnode:])\n",
    "print(X_cut.shape)"
   ]
  },
  {
   "cell_type": "markdown",
   "metadata": {},
   "source": [
    "$$ H, g_{KCL}, b_{KCL} $$ \n",
    "\n",
    "$$H$$ - ((2 * 3 * (nnode + nline), 2 * 3 * (nnode + nline), 2 * 3 * nline))\n",
    "$$g_{KCL}$$ - ((1, 2 * 3 * (nnode+nline), 2 * 3 * nline))\n",
    "$$b_{KCL}$$ - ((1, 1, 2 * 3 * nline)) is this right?"
   ]
  },
  {
   "cell_type": "code",
   "execution_count": 32,
   "metadata": {},
   "outputs": [],
   "source": [
    "#resize H and g, so H is 2*3*((nnode-1)+nline) x 2*3*((nnode-1)+nline) x 2*3*nline\n",
    "#X.shape = 2*3*((nnode-1)+nline)"
   ]
  },
  {
   "cell_type": "code",
   "execution_count": 33,
   "metadata": {},
   "outputs": [],
   "source": [
    "H = np.zeros((2 * 3 * (nnode-1 + nline), 2 * 3* (nnode-1 + nline), 2*3*nline))  #instantiate size \n",
    "#xnr x xnr x (2*3*nline)\n",
    "g = np.zeros((1, len(X_cut), 2*3*nline)) \n",
    "\n",
    "b = np.zeros((1,1,2*3*nline)) #scalar I guess\n",
    "\n",
    "\n",
    "\n",
    "def get_line_idx(line):\n",
    "    k = -1\n",
    "    for n in range(len(dss.Lines.AllNames())):\n",
    "        if dss.Lines.AllNames()[n] == line:\n",
    "            k = n\n",
    "    return k\n",
    "\n",
    "for ph in range(0,3):\n",
    "    if ph == 0: #set nominal voltage based on phase\n",
    "        A0 = 1\n",
    "        B0 = 0\n",
    "    elif ph == 1:\n",
    "        A0 = -1/2\n",
    "        B0 = -1 * np.sqrt(3)/2\n",
    "    elif ph == 2:\n",
    "        A0 = -1/2\n",
    "        B0 = np.sqrt(3)/2\n",
    "    for k3 in range(len(dss.Lines.AllNames())):\n",
    "        for cplx in range(0,2):\n",
    "            for k2 in range(len(dss.Circuit.AllBusNames())):                \n",
    "                dss.Circuit.SetActiveBus(dss.Circuit.AllBusNames()[k2])      #set bus\n",
    "                if k2 == 0:\n",
    "                    continue\n",
    "                load_val = d_factor(dss.Circuit.AllBusNames()[k2], cplx)\n",
    "                in_lines, out_lines = linelist(dss.Circuit.AllBusNames()[k2]) #get in/out lines of bus\n",
    "                gradient_mag = np.array([A0 * ((A0**2+B0**2) ** (-1/2)), B0 * ((A0**2+B0**2) ** (-1/2))]) #some derivatives\n",
    "                hessian_mag = np.array([[-((A0**2)*(A0**2+B0**2)**(-3/2))+(A0**2+B0**2)**(-1/2), -A0*B0*(A0**2+B0**2)**(-3/2)],\n",
    "                                    [-A0*B0*(A0**2+B0**2)**(-3/2), -((B0**2)*(A0**2+B0**2)**(-3/2))+((A0**2+B0**2)**(-1/2))]])\n",
    "                \n",
    "                #quadratic terms\n",
    "                H[2*(nnode-1)*ph + 2*k2][2*(nnode-1)*ph + 2*k2][2*ph*nline + line*2 + cplx] = load_val * (beta_Z + (0.5 * beta_I *load_val * hessian_mag[0][0]))#check this line for loadval\n",
    "                H[2*(nnode-1)*ph + 2*k2 + 1][2*(nnode-1)*ph + 2*k2 +1][2*ph*nline + line*2 + cplx] = load_val * (beta_Z + (0.5 * beta_I * hessian_mag[1][1]))\n",
    "                H[2*(nnode-1)*ph + 2*k2][2*(nnode-1)*ph + 2*k2 + 1][2*ph*nline + line*2 + cplx] = 0.5 + (load_val * beta_I * hessian_mag[0][1])\n",
    "                H[2*(nnode-1)*ph + 2*k2 + 1][2*(nnode-1)*ph + 2*k2][2*ph*nline + line*2 + cplx] = 0.5 + (load_val * beta_I * hessian_mag[0][1])\n",
    "                \n",
    "                for i in range(len(in_lines)): #fill in H for the inlines\n",
    "                    dss.Lines.Name(in_lines[i])\n",
    "                    line_idx = get_line_idx(in_lines[i])\n",
    "                    if cplx == 0: #real residual\n",
    "                        #A_m and C_lm\n",
    "                        H[2*(nnode-1)*ph + 2*k2][2*3*(nnode-1) + 2*ph*line_idx][2*ph*nline + line*2 + cplx] = 1/2\n",
    "                        H[2*3*(nnode-1) + 2*ph*line_idx][2*(nnode-1)*ph + 2*k2][2*ph*nline + line*2 + cplx] = 1/2\n",
    "                        #B_m and D_lm\n",
    "                        H[2*(nnode-1)*ph+2*k2+1][2*3*(nnode-1)+2*ph*line_idx+1][2*ph*nline + line*2 + cplx] = 1/2\n",
    "                        H[2*3*(nnode-1)+2*ph*line_idx+1][2*(nnode-1)*ph+2*k2+1][2*ph*nline + line*2 + cplx] = 1/2\n",
    "    \n",
    "                    if cplx == 1: #complex residual\n",
    "                        #AD\n",
    "                        H[2*(nnode-1)*ph + 2*k2][2*3*(nnode-1) + 2 *ph * line_idx + 1][2*ph*nline + line*2 + cplx] = -1/2\n",
    "                        H[2*3*(nnode-1) + 2 *ph * line_idx + 1][2*(nnode-1)*ph + 2*k2][2*ph*nline + line*2 + cplx] = -1/2\n",
    "                        #B_m and C_lm\n",
    "                        H[2*(nnode-1)*ph + 2*k2 + 1][2*3*(nnode-1) + 2 *ph * line_idx][2*ph*nline + line*2 + cplx] = 1/2\n",
    "                        H[2*3*(nnode-1) + 2 * ph *line_idx][2*(nnode-1)*ph + 2*k2 + 1][2*ph*nline + line*2 + cplx] = 1/2\n",
    "                    \n",
    "                for j in range(len(out_lines)): #fill in H for the outlines\n",
    "                    dss.Lines.Name(out_lines[j])\n",
    "                    line_idx = get_line_idx(out_lines[j])\n",
    "                    k = get_bus_idx(dss.Lines.Bus2())\n",
    "                    if cplx == 0:\n",
    "                        #A_m and C_mn\n",
    "                        H[2*(nnode-1)*ph + 2*k2][2*3*(nnode-1) + 2 * ph *line_idx][2*ph*nline + line*2 + cplx] = -1/2\n",
    "                        H[2*3*(nnode-1) + 2 *ph * line_idx][2*(nnode-1)*ph + 2*k2][2*ph*nline + line*2 + cplx] = -1/2\n",
    "                        #B_m and D_mn\n",
    "                        H[2*(nnode-1)*ph + 2*k2 + 1][2*3*(nnode-1) + 2 *ph * line_idx + 1][2*ph*nline + line*2 + cplx] = -1/2\n",
    "                        H[2*3*(nnode-1) + 2 *ph * line_idx + 1][2*(nnode-1)*ph + 2*k2 + 1][2*ph*nline + line*2 + cplx] = -1/2\n",
    "                    if cplx == 1:\n",
    "                        #A_m and D_mn\n",
    "                        H[2*(nnode-1)*ph + 2*k2][2*3*(nnode-1) + 2 *ph * line_idx + 1][2*ph*nline + line*2 + cplx] = 1/2\n",
    "                        H[2*3*(nnode-1) + 2 * ph * line_idx + 1][2 * (nnode-1) * ph + 2 * k2][2*ph*nline + line*2 + cplx] = 1/2\n",
    "                        #C_m and B_mn\n",
    "                        H[2*(nnode-1)*ph + 2*k2 + 1][2*3*(nnode-1) + 2 * ph * line_idx][2*ph*nline + line*2 + cplx] = -1/2\n",
    "                        H[2*3*(nnode-1) + 2 * ph * line_idx ][2*(nnode-1)*ph + 2 * k2 + 1][2*ph*nline + line*2 + cplx] = -1/2\n",
    "\n"
   ]
  },
  {
   "cell_type": "markdown",
   "metadata": {},
   "source": [
    "non static part"
   ]
  },
  {
   "cell_type": "code",
   "execution_count": 34,
   "metadata": {},
   "outputs": [
    {
     "name": "stdout",
     "output_type": "stream",
     "text": [
      "[-11.51570583  -4.04936059 -11.51570583  -4.04936059 -11.51570583\n",
      "  -4.04936059 -11.51570583  -4.04936059 -11.51570583  -4.04936059\n",
      "  30.74077546   6.9300149  -10.57710554  -3.1107603  -10.57710554\n",
      "  -3.1107603  -10.57710554  -3.1107603  -10.57710554  -3.1107603\n",
      " -10.57710554  -3.1107603  214.76195302  19.43427913 -11.51610484\n",
      "  -2.6435096  -11.51610484  -2.6435096  -11.51610484  -2.6435096\n",
      " -11.51610484  -2.6435096  -11.51610484  -2.6435096  100.28354661\n",
      "   6.41849971]\n",
      "(36,)\n",
      "(72, 72, 36)\n",
      "(1, 72, 36)\n",
      "(1, 1, 36)\n"
     ]
    }
   ],
   "source": [
    "for ph in range(0,3):\n",
    "    if ph == 0: #set nominal voltage based on phase\n",
    "        A0 = 1\n",
    "        B0 = 0\n",
    "    elif ph == 1:\n",
    "        A0 = -1/2\n",
    "        B0 = -1 * np.sqrt(3)/2\n",
    "    elif ph == 2:\n",
    "        A0 = -1/2\n",
    "        B0 = np.sqrt(3)/2\n",
    "    for k3 in range(len(dss.Lines.AllNames())):\n",
    "        for cplx in range(0,2):\n",
    "            for k2 in range(len(dss.Circuit.AllBusNames())): \n",
    "                dss.Circuit.SetActiveBus(dss.Circuit.AllBusNames()[k2])      #set bus       \n",
    "                #load_val = load_idx(dss.Circuit.AllBusNames()[k2])\n",
    "                \n",
    "                #constant terms\n",
    "                b_factor = 0\n",
    "\n",
    "                dss.Circuit.SetActiveBus(dss.Circuit.AllBusNames()[k2]) #set bus \n",
    "                Sk = dss.CktElement.Powers() #retrieve powers\n",
    "                if cplx == 1:\n",
    "                    b_factor = dss.Capacitors.kvar() - Sk[1] #depends on if it's real or im residual\n",
    "\n",
    "                elif cplx == 0:\n",
    "                    b_factor = - Sk[0]\n",
    "\n",
    "                #no line dependency\n",
    "                b_temp = d_factor(dss.Circuit.AllBusNames()[k2], cplx) * (beta_S \\\n",
    "                    + (1/2*beta_I) * (2 * hessian_mag[0][1] * A0 * B0 + hessian_mag[0][0] * A0**2 + hessian_mag[1][1] * B0**2) \\\n",
    "                    - beta_I * (gradient_mag[0] + gradient_mag[1]) \\\n",
    "                    + beta_I * (A0**2 + B0**2) ** (1/2)) \\\n",
    "                    + b_factor #calculate out the constant term in the residual\n",
    "                b[0][0][2*nline*ph + 2 *k3+cplx] = b_temp #store the in the b matrix \n",
    "                \n",
    "                \n",
    "            #linear terms \n",
    "            g_temp = np.zeros(len(X_cut))\n",
    "            for i in range(0, len(g), 4):\n",
    "                g_temp[i] = load_val*(-1/2 * beta_I * (2 * A0 * hessian_mag[0][0] - 2 * B0 * hessian_mag[0][1]) \\\n",
    "                                       + beta_I * gradient_mag[0])\n",
    "                g_temp[i + 1] = load_val*(1/2 * beta_I * (-2*hessian_mag[0][1] * A0 - 2 * B0 * hessian_mag[1][1]) \\\n",
    "                                           + beta_I * gradient_mag[1])\n",
    "            g[0,:,2*nline*ph + 2*k3 + cplx] = g_temp\n",
    "            \n",
    "           \n",
    "        \n",
    "                \n",
    "Y = X_cut.reshape(-1, 1) #(72,1)\n",
    "enlarged_X = np.zeros((2*3*(nline+nnode-1), 1, 2*3*nline))\n",
    "X_T= np.zeros((1, 2*3*(nline+nnode-1), 2*3*nline))\n",
    "for n in range(2*3*nline):\n",
    "    enlarged_X[:, :, n] = Y\n",
    "    X_T[:, :, n] = Y.T\n",
    "\n",
    "residuals = np.array([])\n",
    "\n",
    "for i in range(2*3*nline):\n",
    "    \n",
    "    r = (X_T[:, :, i] @ (H[:, :, i] @ enlarged_X[:, :, i])) \\\n",
    "    + (g[0,:,i] @ enlarged_X[:,:,i]) \\\n",
    "    + b[0,0,i]\n",
    "    residuals = np.append(residuals, r)\n",
    "\n",
    "print(residuals)\n",
    "print(residuals.shape)\n",
    "\n",
    "print(H.shape)\n",
    "print(g.shape)\n",
    "print(b.shape)\n"
   ]
  },
  {
   "cell_type": "markdown",
   "metadata": {},
   "source": [
    "Derivatives"
   ]
  },
  {
   "cell_type": "code",
   "execution_count": null,
   "metadata": {},
   "outputs": [],
   "source": [
    "derivatives = np.array([])\n",
    "for i in range(2*3*nline):\n",
    "    \n",
    "    r = (2 * (X_T[:, :, i] @ H[:, :, i])) \\\n",
    "    + (g[0,:,i]) \n",
    "    derivatives = np.append(derivatives, r)\n",
    "\n",
    "print(derivatives.shape)"
   ]
  },
  {
   "cell_type": "markdown",
   "metadata": {},
   "source": [
    "---"
   ]
  },
  {
   "cell_type": "code",
   "execution_count": null,
   "metadata": {},
   "outputs": [],
   "source": []
  },
  {
   "cell_type": "code",
   "execution_count": null,
   "metadata": {},
   "outputs": [],
   "source": []
  }
 ],
 "metadata": {
  "kernelspec": {
   "display_name": "Python 3",
   "language": "python",
   "name": "python3"
  },
  "language_info": {
   "codemirror_mode": {
    "name": "ipython",
    "version": 3
   },
   "file_extension": ".py",
   "mimetype": "text/x-python",
   "name": "python",
   "nbconvert_exporter": "python",
   "pygments_lexer": "ipython3",
   "version": "3.6.10"
  }
 },
 "nbformat": 4,
 "nbformat_minor": 4
}
