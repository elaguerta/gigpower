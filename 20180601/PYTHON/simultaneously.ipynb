{
 "cells": [
  {
   "cell_type": "code",
   "execution_count": 1,
   "metadata": {},
   "outputs": [],
   "source": [
    "import numpy as np\n",
    "import opendssdirect as dss\n",
    "import matplotlib.pyplot as plt\n",
    "import copy\n",
    "import pandas as pd\n",
    "import time\n",
    "import re\n",
    "import sys\n",
    "from lib.network_mapper import network_mapper_function\n",
    "from lib.compute_simultaneously import NR3_function"
   ]
  },
  {
   "cell_type": "code",
   "execution_count": 2,
   "metadata": {
    "tags": []
   },
   "outputs": [
    {
     "name": "stdout",
     "output_type": "stream",
     "text": [
      "BASE\n",
      "Vbase: 2771.2812921102036\n",
      "Sbase: 1000000.0\n",
      "Ibase: 360.8439182435161\n",
      "Zbase: 7.68\n",
      "\n",
      "NODES\n",
      "nnode: 7\n",
      "nodelist: ['sub', 'A01', 'A02', 'A03', 'A04', 'A05', 'A06']\n",
      "phases: ['abc', 'abc', 'abc', 'abc', 'ac', 'ab', 'b']\n",
      "PH:\n",
      " [[1 1 1 1 1 1 0]\n",
      " [1 1 1 1 0 1 1]\n",
      " [1 1 1 1 1 0 0]]\n",
      "\n",
      "LINES\n",
      "nline: 6\n",
      "TXnode: ['sub', 'A01', 'A02', 'A03', 'A03', 'A05']\n",
      "RXnode: ['A01', 'A02', 'A03', 'A04', 'A05', 'A06']\n",
      "TXnum: [0 1 2 3 3 5]\n",
      "RXnum: [1 2 3 4 5 6]\n",
      "phases: ['abc', 'abc', 'abc', 'ac', 'ab', 'b']\n",
      "PH:\n",
      " [[1 1 1 1 1 0]\n",
      " [1 1 1 0 1 1]\n",
      " [1 1 1 1 0 0]]\n",
      "config: ['sub_a01', 'a01_a02', 'a02_a03', 'a03_a04', 'a03_a05', 'a05_a06']\n",
      "length: [1. 1. 1. 1. 1. 1.]\n",
      "\n",
      "NODES + LINES\n",
      "inlines:\n",
      " [[-1  0  1  2  3  4  5]]\n",
      "innodes:\n",
      " [[-1  0  1  2  3  3  5]]\n",
      "outlines:\n",
      " [[ 0  1  2  3 -1  5 -1]\n",
      " [-1 -1 -1  4 -1 -1 -1]]\n",
      "outnodes:\n",
      " [[ 1  2  3  4 -1  6 -1]\n",
      " [-1 -1 -1  5 -1 -1 -1]]\n",
      "\n",
      "CONFIGS\n",
      "nconf: 6\n",
      "conflist: ['sub_a01', 'a01_a02', 'a02_a03', 'a03_a04', 'a03_a05', 'a05_a06']\n",
      "sub_a01 - FZpl:\n",
      " [[0.00195312+0.00130208j 0.00065104+0.00520833j 0.00065104+0.00520833j]\n",
      " [0.00065104+0.00520833j 0.00195312+0.00130208j 0.00065104+0.00520833j]\n",
      " [0.00065104+0.00520833j 0.00065104+0.00520833j 0.00195312+0.00130208j]]\n",
      "a01_a02 - FZpl:\n",
      " [[0.00195312+0.00130208j 0.00065104+0.00520833j 0.00065104+0.00520833j]\n",
      " [0.00065104+0.00520833j 0.00195312+0.00130208j 0.00065104+0.00520833j]\n",
      " [0.00065104+0.00520833j 0.00065104+0.00520833j 0.00195312+0.00130208j]]\n",
      "a02_a03 - FZpl:\n",
      " [[0.00390625+0.00260417j 0.00130208+0.01041667j 0.00130208+0.01041667j]\n",
      " [0.00130208+0.01041667j 0.00390625+0.00260417j 0.00130208+0.01041667j]\n",
      " [0.00130208+0.01041667j 0.00130208+0.01041667j 0.00390625+0.00260417j]]\n",
      "a03_a04 - FZpl:\n",
      " [[0.00390625+0.00260417j 0.        +0.j         0.00130208+0.01041667j]\n",
      " [0.        +0.j         0.        +0.j         0.        +0.j        ]\n",
      " [0.00130208+0.01041667j 0.        +0.j         0.00390625+0.00260417j]]\n",
      "a03_a05 - FZpl:\n",
      " [[0.00390625+0.00260417j 0.00130208+0.01041667j 0.        +0.j        ]\n",
      " [0.00130208+0.01041667j 0.00390625+0.00260417j 0.        +0.j        ]\n",
      " [0.        +0.j         0.        +0.j         0.        +0.j        ]]\n",
      "a05_a06 - FZpl:\n",
      " [[0.        +0.j         0.        +0.j         0.        +0.j        ]\n",
      " [0.        +0.j         0.00390625+0.00260417j 0.        +0.j        ]\n",
      " [0.        +0.j         0.        +0.j         0.        +0.j        ]]\n",
      "\n",
      "IMPEDANCE\n",
      "0 - FZpu:\n",
      " [[0.00195312+0.00130208j 0.00065104+0.00520833j 0.00065104+0.00520833j]\n",
      " [0.00065104+0.00520833j 0.00195312+0.00130208j 0.00065104+0.00520833j]\n",
      " [0.00065104+0.00520833j 0.00065104+0.00520833j 0.00195312+0.00130208j]]\n",
      "1 - FZpu:\n",
      " [[0.00195312+0.00130208j 0.00065104+0.00520833j 0.00065104+0.00520833j]\n",
      " [0.00065104+0.00520833j 0.00195312+0.00130208j 0.00065104+0.00520833j]\n",
      " [0.00065104+0.00520833j 0.00065104+0.00520833j 0.00195312+0.00130208j]]\n",
      "2 - FZpu:\n",
      " [[0.00390625+0.00260417j 0.00130208+0.01041667j 0.00130208+0.01041667j]\n",
      " [0.00130208+0.01041667j 0.00390625+0.00260417j 0.00130208+0.01041667j]\n",
      " [0.00130208+0.01041667j 0.00130208+0.01041667j 0.00390625+0.00260417j]]\n",
      "3 - FZpu:\n",
      " [[0.00390625+0.00260417j 0.        +0.j         0.00130208+0.01041667j]\n",
      " [0.        +0.j         0.        +0.j         0.        +0.j        ]\n",
      " [0.00130208+0.01041667j 0.        +0.j         0.00390625+0.00260417j]]\n",
      "4 - FZpu:\n",
      " [[0.00390625+0.00260417j 0.00130208+0.01041667j 0.        +0.j        ]\n",
      " [0.00130208+0.01041667j 0.00390625+0.00260417j 0.        +0.j        ]\n",
      " [0.        +0.j         0.        +0.j         0.        +0.j        ]]\n",
      "5 - FZpu:\n",
      " [[0.        +0.j         0.        +0.j         0.        +0.j        ]\n",
      " [0.        +0.j         0.00390625+0.00260417j 0.        +0.j        ]\n",
      " [0.        +0.j         0.        +0.j         0.        +0.j        ]]\n",
      "ADMITTANCE\n",
      "0 - FYpu:\n",
      " [[ 58.53524355+127.19312321j -18.26475645-103.20687679j\n",
      "  -18.26475645-103.20687679j]\n",
      " [-18.26475645-103.20687679j  58.53524355+127.19312321j\n",
      "  -18.26475645-103.20687679j]\n",
      " [-18.26475645-103.20687679j -18.26475645-103.20687679j\n",
      "   58.53524355+127.19312321j]]\n",
      "1 - FYpu:\n",
      " [[ 58.53524355+127.19312321j -18.26475645-103.20687679j\n",
      "  -18.26475645-103.20687679j]\n",
      " [-18.26475645-103.20687679j  58.53524355+127.19312321j\n",
      "  -18.26475645-103.20687679j]\n",
      " [-18.26475645-103.20687679j -18.26475645-103.20687679j\n",
      "   58.53524355+127.19312321j]]\n",
      "2 - FYpu:\n",
      " [[29.26762178+63.5965616j -9.13237822-51.6034384j -9.13237822-51.6034384j]\n",
      " [-9.13237822-51.6034384j 29.26762178+63.5965616j -9.13237822-51.6034384j]\n",
      " [-9.13237822-51.6034384j -9.13237822-51.6034384j 29.26762178+63.5965616j]]\n",
      "3 - FYpu:\n",
      " [[32.44137931+24.49655172j  0.         +0.j\n",
      "  -5.95862069-90.70344828j]\n",
      " [ 0.         +0.j          0.         +0.j\n",
      "   0.         +0.j        ]\n",
      " [-5.95862069-90.70344828j  0.         +0.j\n",
      "  32.44137931+24.49655172j]]\n",
      "4 - FYpu:\n",
      " [[32.44137931+24.49655172j -5.95862069-90.70344828j\n",
      "   0.         +0.j        ]\n",
      " [-5.95862069-90.70344828j 32.44137931+24.49655172j\n",
      "   0.         +0.j        ]\n",
      " [ 0.         +0.j          0.         +0.j\n",
      "   0.         +0.j        ]]\n",
      "5 - FYpu:\n",
      " [[  0.          +0.j           0.          +0.j\n",
      "    0.          +0.j        ]\n",
      " [  0.          +0.j         177.23076923-118.15384615j\n",
      "    0.          +0.j        ]\n",
      " [  0.          +0.j           0.          +0.j\n",
      "    0.          +0.j        ]]\n",
      "25.0\n",
      "25.0\n",
      "25.0\n",
      "25.0\n",
      "25.0\n",
      "25.0\n",
      "25.0\n",
      "25.0\n",
      "25.0\n",
      "25.0\n",
      "50.0\n",
      "\n",
      "LOADS\n",
      "aPQ:\n",
      " [[0. 0. 1. 1. 1. 1. 0.]\n",
      " [0. 0. 1. 1. 0. 1. 1.]\n",
      " [0. 0. 1. 1. 1. 0. 0.]]\n",
      "aI:\n",
      " [[0. 0. 0. 0. 0. 0. 0.]\n",
      " [0. 0. 0. 0. 0. 0. 0.]\n",
      " [0. 0. 0. 0. 0. 0. 0.]]\n",
      "aZ:\n",
      " [[0. 0. 0. 0. 0. 0. 0.]\n",
      " [0. 0. 0. 0. 0. 0. 0.]\n",
      " [0. 0. 0. 0. 0. 0. 0.]]\n",
      "ppu:\n",
      " [[0.  0.  0.1 0.1 0.1 0.1 0. ]\n",
      " [0.  0.  0.1 0.1 0.  0.1 0.1]\n",
      " [0.  0.  0.1 0.1 0.1 0.  0. ]]\n",
      "qpu:\n",
      " [[0.    0.    0.025 0.025 0.025 0.025 0.   ]\n",
      " [0.    0.    0.025 0.025 0.    0.025 0.05 ]\n",
      " [0.    0.    0.025 0.025 0.025 0.    0.   ]]\n",
      "spu:\n",
      " [[0. +0.j    0. +0.j    0.1+0.025j 0.1+0.025j 0.1+0.025j 0.1+0.025j\n",
      "  0. +0.j   ]\n",
      " [0. +0.j    0. +0.j    0.1+0.025j 0.1+0.025j 0. +0.j    0.1+0.025j\n",
      "  0.1+0.05j ]\n",
      " [0. +0.j    0. +0.j    0.1+0.025j 0.1+0.025j 0.1+0.025j 0. +0.j\n",
      "  0. +0.j   ]]\n",
      "\n",
      "CAPS\n",
      "cappu:\n",
      " [[0. 0. 0. 0. 0. 0. 0.]\n",
      " [0. 0. 0. 0. 0. 0. 0.]\n",
      " [0. 0. 0. 0. 0. 0. 0.]]\n",
      "\n",
      "CONS\n",
      "wmaxpu:\n",
      " [[0. 0. 0. 0. 0. 0. 0.]\n",
      " [0. 0. 0. 0. 0. 0. 0.]\n",
      " [0. 0. 0. 0. 0. 0. 0.]]\n",
      "wpu:\n",
      " [[0. 0. 0. 0. 0. 0. 0.]\n",
      " [0. 0. 0. 0. 0. 0. 0.]\n",
      " [0. 0. 0. 0. 0. 0. 0.]]\n",
      "fes:\n",
      " [[0. 0. 0. 0. 0. 0. 0.]\n",
      " [0. 0. 0. 0. 0. 0. 0.]\n",
      " [0. 0. 0. 0. 0. 0. 0.]]\n",
      "hpfes:\n",
      " [[0. 0. 0. 0. 0. 0. 0.]\n",
      " [0. 0. 0. 0. 0. 0. 0.]\n",
      " [0. 0. 0. 0. 0. 0. 0.]]\n",
      "lpfes:\n",
      " [[0. 0. 0. 0. 0. 0. 0.]\n",
      " [0. 0. 0. 0. 0. 0. 0.]\n",
      " [0. 0. 0. 0. 0. 0. 0.]]\n",
      "kintes:\n",
      " [[0. 0. 0. 0. 0. 0. 0.]\n",
      " [0. 0. 0. 0. 0. 0. 0.]\n",
      " [0. 0. 0. 0. 0. 0. 0.]]\n",
      "\n",
      "VVC\n",
      "state:\n",
      " [[0. 0. 0. 0. 0. 0. 0.]\n",
      " [0. 0. 0. 0. 0. 0. 0.]\n",
      " [0. 0. 0. 0. 0. 0. 0.]]\n",
      "type:\n",
      " [[0. 0. 0. 0. 0. 0. 0.]\n",
      " [0. 0. 0. 0. 0. 0. 0.]\n",
      " [0. 0. 0. 0. 0. 0. 0.]]\n",
      "Vminpu:\n",
      " [[0. 0. 0. 0. 0. 0. 0.]\n",
      " [0. 0. 0. 0. 0. 0. 0.]\n",
      " [0. 0. 0. 0. 0. 0. 0.]]\n",
      "Vmaxpu:\n",
      " [[0. 0. 0. 0. 0. 0. 0.]\n",
      " [0. 0. 0. 0. 0. 0. 0.]\n",
      " [0. 0. 0. 0. 0. 0. 0.]]\n",
      "qminpu:\n",
      " [[0. 0. 0. 0. 0. 0. 0.]\n",
      " [0. 0. 0. 0. 0. 0. 0.]\n",
      " [0. 0. 0. 0. 0. 0. 0.]]\n",
      "qmaxpu:\n",
      " [[0. 0. 0. 0. 0. 0. 0.]\n",
      " [0. 0. 0. 0. 0. 0. 0.]\n",
      " [0. 0. 0. 0. 0. 0. 0.]]\n"
     ]
    }
   ],
   "source": [
    "fp = \"C:\\\\Users\\\\kathl\\\\Desktop\\\\LinDist3Flow\\\\20180601\\\\PYTHON\\\\\"\n",
    "#fp = '/home/michael/Desktop/git/LinDist3Flow/20180601/PYTHON/'\n",
    "fn = 'compare_lindist3flow_05node_threephase_unbalanced_oscillation_03.txt'\n",
    "network1 = network_mapper_function(fp, fn)\n",
    "\n",
    "nnode1 = network1.nodes.nnode\n",
    "nline1 = network1.lines.nline\n",
    "\n",
    "# Network paramaters\n",
    "\n",
    "nnode = network1.nodes.nnode\n",
    "nline = network1.lines.nline\n",
    "\n",
    "# Load parameters\n",
    "\n",
    "network1.loads.aPQ = .9*np.ones((3,nnode1))*(network1.loads.spu != 0)\n",
    "network1.loads.aI = 0*np.ones((3,nnode1))*(network1.loads.spu != 0)\n",
    "network1.loads.aZ = 0.1*np.ones((3,nnode1))*(network1.loads.spu != 0)\n",
    "\n",
    "\n",
    "#network1.loads.spu = 1.25*network1.loads.spu\n",
    "network1.cons.wpu = np.zeros((3,nnode))\n",
    "network1.vvc.vvcpu = np.zeros((3,nnode))\n",
    "\n",
    "slackidx = 0\n",
    "Vslack = np.array([1, np.exp(1j*-120*np.pi/180), np.exp(1j*120*np.pi/180)])\n",
    "\n"
   ]
  },
  {
   "cell_type": "code",
   "execution_count": 3,
   "metadata": {
    "scrolled": true
   },
   "outputs": [
    {
     "ename": "LinAlgError",
     "evalue": "Singular matrix",
     "output_type": "error",
     "traceback": [
      "\u001b[1;31m---------------------------------------------------------------------------\u001b[0m",
      "\u001b[1;31mLinAlgError\u001b[0m                               Traceback (most recent call last)",
      "\u001b[1;32m<ipython-input-3-99bb89c9cc4a>\u001b[0m in \u001b[0;36m<module>\u001b[1;34m\u001b[0m\n\u001b[0;32m      5\u001b[0m             \u001b[0mJSUBV_nonvec\u001b[0m\u001b[1;33m,\u001b[0m \u001b[0mJKVL_nonvec\u001b[0m\u001b[1;33m,\u001b[0m \u001b[0mJKCL_nonvec\u001b[0m\u001b[1;33m,\u001b[0m\u001b[0;31m \u001b[0m\u001b[0;31m\\\u001b[0m\u001b[1;33m\u001b[0m\u001b[1;33m\u001b[0m\u001b[0m\n\u001b[0;32m      6\u001b[0m             \u001b[0mJSUBV_vec\u001b[0m\u001b[1;33m,\u001b[0m \u001b[0mJKVL_vec\u001b[0m\u001b[1;33m,\u001b[0m \u001b[0mJKCL_vec\u001b[0m\u001b[0;31m \u001b[0m\u001b[0;31m\\\u001b[0m\u001b[1;33m\u001b[0m\u001b[1;33m\u001b[0m\u001b[0m\n\u001b[1;32m----> 7\u001b[1;33m              \u001b[1;33m=\u001b[0m \u001b[0mNR3_function\u001b[0m\u001b[1;33m(\u001b[0m\u001b[0mnetwork1\u001b[0m\u001b[1;33m,\u001b[0m \u001b[0mfn\u001b[0m\u001b[1;33m,\u001b[0m \u001b[0mslackidx\u001b[0m\u001b[1;33m,\u001b[0m\u001b[0mVslack\u001b[0m\u001b[1;33m,\u001b[0m\u001b[1;32mNone\u001b[0m\u001b[1;33m,\u001b[0m\u001b[1;32mNone\u001b[0m\u001b[1;33m,\u001b[0m\u001b[1;32mNone\u001b[0m\u001b[1;33m,\u001b[0m\u001b[1;32mNone\u001b[0m\u001b[1;33m)\u001b[0m\u001b[1;33m\u001b[0m\u001b[1;33m\u001b[0m\u001b[0m\n\u001b[0m",
      "\u001b[1;32m~\\Desktop\\LinDist3Flow\\20180601\\PYTHON\\lib\\compute_simultaneously.py\u001b[0m in \u001b[0;36mNR3_function\u001b[1;34m(network, fn, slacknode, Vslack, V0, I0, tol, maxiter)\u001b[0m\n\u001b[0;32m    163\u001b[0m             \u001b[0mXNR\u001b[0m \u001b[1;33m=\u001b[0m \u001b[0mXNR\u001b[0m \u001b[1;33m-\u001b[0m \u001b[0mnp\u001b[0m\u001b[1;33m.\u001b[0m\u001b[0mlinalg\u001b[0m\u001b[1;33m.\u001b[0m\u001b[0minv\u001b[0m\u001b[1;33m(\u001b[0m\u001b[0mJT\u001b[0m\u001b[1;33m.\u001b[0m\u001b[0mT\u001b[0m\u001b[1;33m@\u001b[0m\u001b[0mJT\u001b[0m\u001b[1;33m)\u001b[0m\u001b[1;33m@\u001b[0m\u001b[0mJT\u001b[0m\u001b[1;33m.\u001b[0m\u001b[0mT\u001b[0m\u001b[1;33m@\u001b[0m\u001b[0mFT\u001b[0m\u001b[1;33m\u001b[0m\u001b[1;33m\u001b[0m\u001b[0m\n\u001b[0;32m    164\u001b[0m         \u001b[1;32mif\u001b[0m \u001b[0mJT1\u001b[0m\u001b[1;33m.\u001b[0m\u001b[0mshape\u001b[0m\u001b[1;33m[\u001b[0m\u001b[1;36m0\u001b[0m\u001b[1;33m]\u001b[0m \u001b[1;33m>=\u001b[0m \u001b[0mJT1\u001b[0m\u001b[1;33m.\u001b[0m\u001b[0mshape\u001b[0m\u001b[1;33m[\u001b[0m\u001b[1;36m1\u001b[0m\u001b[1;33m]\u001b[0m\u001b[1;33m:\u001b[0m \u001b[1;31m#vectorized\u001b[0m\u001b[1;33m\u001b[0m\u001b[1;33m\u001b[0m\u001b[0m\n\u001b[1;32m--> 165\u001b[1;33m             \u001b[0mXNR1\u001b[0m \u001b[1;33m=\u001b[0m \u001b[0mXNR1\u001b[0m \u001b[1;33m-\u001b[0m \u001b[0mnp\u001b[0m\u001b[1;33m.\u001b[0m\u001b[0mlinalg\u001b[0m\u001b[1;33m.\u001b[0m\u001b[0minv\u001b[0m\u001b[1;33m(\u001b[0m\u001b[0mJT1\u001b[0m\u001b[1;33m.\u001b[0m\u001b[0mT\u001b[0m\u001b[1;33m@\u001b[0m\u001b[0mJT1\u001b[0m\u001b[1;33m)\u001b[0m\u001b[1;33m@\u001b[0m\u001b[0mJT1\u001b[0m\u001b[1;33m.\u001b[0m\u001b[0mT\u001b[0m\u001b[1;33m@\u001b[0m\u001b[0mFT1\u001b[0m\u001b[1;33m\u001b[0m\u001b[1;33m\u001b[0m\u001b[0m\n\u001b[0m\u001b[0;32m    166\u001b[0m \u001b[1;33m\u001b[0m\u001b[0m\n\u001b[0;32m    167\u001b[0m         \u001b[1;31m#dump xnr into the mega-XNR matrix\u001b[0m\u001b[1;33m\u001b[0m\u001b[1;33m\u001b[0m\u001b[1;33m\u001b[0m\u001b[0m\n",
      "\u001b[1;32m<__array_function__ internals>\u001b[0m in \u001b[0;36minv\u001b[1;34m(*args, **kwargs)\u001b[0m\n",
      "\u001b[1;32m~\\Anaconda3\\lib\\site-packages\\numpy\\linalg\\linalg.py\u001b[0m in \u001b[0;36minv\u001b[1;34m(a)\u001b[0m\n\u001b[0;32m    544\u001b[0m     \u001b[0msignature\u001b[0m \u001b[1;33m=\u001b[0m \u001b[1;34m'D->D'\u001b[0m \u001b[1;32mif\u001b[0m \u001b[0misComplexType\u001b[0m\u001b[1;33m(\u001b[0m\u001b[0mt\u001b[0m\u001b[1;33m)\u001b[0m \u001b[1;32melse\u001b[0m \u001b[1;34m'd->d'\u001b[0m\u001b[1;33m\u001b[0m\u001b[1;33m\u001b[0m\u001b[0m\n\u001b[0;32m    545\u001b[0m     \u001b[0mextobj\u001b[0m \u001b[1;33m=\u001b[0m \u001b[0mget_linalg_error_extobj\u001b[0m\u001b[1;33m(\u001b[0m\u001b[0m_raise_linalgerror_singular\u001b[0m\u001b[1;33m)\u001b[0m\u001b[1;33m\u001b[0m\u001b[1;33m\u001b[0m\u001b[0m\n\u001b[1;32m--> 546\u001b[1;33m     \u001b[0mainv\u001b[0m \u001b[1;33m=\u001b[0m \u001b[0m_umath_linalg\u001b[0m\u001b[1;33m.\u001b[0m\u001b[0minv\u001b[0m\u001b[1;33m(\u001b[0m\u001b[0ma\u001b[0m\u001b[1;33m,\u001b[0m \u001b[0msignature\u001b[0m\u001b[1;33m=\u001b[0m\u001b[0msignature\u001b[0m\u001b[1;33m,\u001b[0m \u001b[0mextobj\u001b[0m\u001b[1;33m=\u001b[0m\u001b[0mextobj\u001b[0m\u001b[1;33m)\u001b[0m\u001b[1;33m\u001b[0m\u001b[1;33m\u001b[0m\u001b[0m\n\u001b[0m\u001b[0;32m    547\u001b[0m     \u001b[1;32mreturn\u001b[0m \u001b[0mwrap\u001b[0m\u001b[1;33m(\u001b[0m\u001b[0mainv\u001b[0m\u001b[1;33m.\u001b[0m\u001b[0mastype\u001b[0m\u001b[1;33m(\u001b[0m\u001b[0mresult_t\u001b[0m\u001b[1;33m,\u001b[0m \u001b[0mcopy\u001b[0m\u001b[1;33m=\u001b[0m\u001b[1;32mFalse\u001b[0m\u001b[1;33m)\u001b[0m\u001b[1;33m)\u001b[0m\u001b[1;33m\u001b[0m\u001b[1;33m\u001b[0m\u001b[0m\n\u001b[0;32m    548\u001b[0m \u001b[1;33m\u001b[0m\u001b[0m\n",
      "\u001b[1;32m~\\Anaconda3\\lib\\site-packages\\numpy\\linalg\\linalg.py\u001b[0m in \u001b[0;36m_raise_linalgerror_singular\u001b[1;34m(err, flag)\u001b[0m\n\u001b[0;32m     86\u001b[0m \u001b[1;33m\u001b[0m\u001b[0m\n\u001b[0;32m     87\u001b[0m \u001b[1;32mdef\u001b[0m \u001b[0m_raise_linalgerror_singular\u001b[0m\u001b[1;33m(\u001b[0m\u001b[0merr\u001b[0m\u001b[1;33m,\u001b[0m \u001b[0mflag\u001b[0m\u001b[1;33m)\u001b[0m\u001b[1;33m:\u001b[0m\u001b[1;33m\u001b[0m\u001b[1;33m\u001b[0m\u001b[0m\n\u001b[1;32m---> 88\u001b[1;33m     \u001b[1;32mraise\u001b[0m \u001b[0mLinAlgError\u001b[0m\u001b[1;33m(\u001b[0m\u001b[1;34m\"Singular matrix\"\u001b[0m\u001b[1;33m)\u001b[0m\u001b[1;33m\u001b[0m\u001b[1;33m\u001b[0m\u001b[0m\n\u001b[0m\u001b[0;32m     89\u001b[0m \u001b[1;33m\u001b[0m\u001b[0m\n\u001b[0;32m     90\u001b[0m \u001b[1;32mdef\u001b[0m \u001b[0m_raise_linalgerror_nonposdef\u001b[0m\u001b[1;33m(\u001b[0m\u001b[0merr\u001b[0m\u001b[1;33m,\u001b[0m \u001b[0mflag\u001b[0m\u001b[1;33m)\u001b[0m\u001b[1;33m:\u001b[0m\u001b[1;33m\u001b[0m\u001b[1;33m\u001b[0m\u001b[0m\n",
      "\u001b[1;31mLinAlgError\u001b[0m: Singular matrix"
     ]
    }
   ],
   "source": [
    "fn = 'compare_opendss_05node_threephase_unbalanced_oscillation_03.dss'\n",
    "FT_deep_vec, FT_deep_nonvec, JT_deep_vec, JT_deep_nonvec, XNR_deep_vec, XNR_deep_nonvec, \\\n",
    "            FTSUBV_nonvec, FTKVL_nonvec, FTKCL_nonvec, \\\n",
    "            FTSUBV_vec, FTKVL_vec, FTKCL_vec, \\\n",
    "            JSUBV_nonvec, JKVL_nonvec, JKCL_nonvec, \\\n",
    "            JSUBV_vec, JKVL_vec, JKCL_vec \\\n",
    "             = NR3_function(network1, fn, slackidx,Vslack,None,None,None,None)"
   ]
  },
  {
   "cell_type": "code",
   "execution_count": null,
   "metadata": {
    "tags": []
   },
   "outputs": [],
   "source": [
    "print(XNR_deep_nonvec.shape)\n",
    "print(XNR_deep_vec.shape)\n",
    "\n",
    "print('XNR: \\n')\n",
    "for n in range(4):\n",
    "    print(n)\n",
    "    print(XNR_deep_vec[n, :,0] - XNR_deep_nonvec[n, :,0])\n",
    "    print('')\n",
    "\n",
    "n = 1\n",
    "print(XNR_deep_vec[n, :,0] - XNR_deep_nonvec[n, :,0])"
   ]
  },
  {
   "cell_type": "code",
   "execution_count": 4,
   "metadata": {
    "scrolled": false,
    "tags": []
   },
   "outputs": [
    {
     "ename": "NameError",
     "evalue": "name 'FT_deep_nonvec' is not defined",
     "output_type": "error",
     "traceback": [
      "\u001b[1;31m---------------------------------------------------------------------------\u001b[0m",
      "\u001b[1;31mNameError\u001b[0m                                 Traceback (most recent call last)",
      "\u001b[1;32m<ipython-input-4-f61bdd5836a2>\u001b[0m in \u001b[0;36m<module>\u001b[1;34m\u001b[0m\n\u001b[1;32m----> 1\u001b[1;33m \u001b[0mprint\u001b[0m\u001b[1;33m(\u001b[0m\u001b[0mFT_deep_nonvec\u001b[0m\u001b[1;33m.\u001b[0m\u001b[0mshape\u001b[0m\u001b[1;33m)\u001b[0m\u001b[1;33m\u001b[0m\u001b[1;33m\u001b[0m\u001b[0m\n\u001b[0m\u001b[0;32m      2\u001b[0m \u001b[0mprint\u001b[0m\u001b[1;33m(\u001b[0m\u001b[0mFT_deep_vec\u001b[0m\u001b[1;33m.\u001b[0m\u001b[0mshape\u001b[0m\u001b[1;33m)\u001b[0m\u001b[1;33m\u001b[0m\u001b[1;33m\u001b[0m\u001b[0m\n\u001b[0;32m      3\u001b[0m \u001b[1;33m\u001b[0m\u001b[0m\n\u001b[0;32m      4\u001b[0m \u001b[0mprint\u001b[0m\u001b[1;33m(\u001b[0m\u001b[1;34m'ft: \\n'\u001b[0m\u001b[1;33m)\u001b[0m\u001b[1;33m\u001b[0m\u001b[1;33m\u001b[0m\u001b[0m\n\u001b[0;32m      5\u001b[0m \u001b[1;32mfor\u001b[0m \u001b[0mn\u001b[0m \u001b[1;32min\u001b[0m \u001b[0mrange\u001b[0m\u001b[1;33m(\u001b[0m\u001b[1;36m4\u001b[0m\u001b[1;33m)\u001b[0m\u001b[1;33m:\u001b[0m\u001b[1;33m\u001b[0m\u001b[1;33m\u001b[0m\u001b[0m\n",
      "\u001b[1;31mNameError\u001b[0m: name 'FT_deep_nonvec' is not defined"
     ]
    }
   ],
   "source": [
    "print(FT_deep_nonvec.shape)\n",
    "print(FT_deep_vec.shape)\n",
    "\n",
    "print('ft: \\n')\n",
    "for n in range(4):\n",
    "    print(n)\n",
    "    print(FT_deep_vec[n, :, :] - FT_deep_nonvec[n, :, :])\n",
    "    print('')\n",
    "\n",
    "    \n"
   ]
  },
  {
   "cell_type": "code",
   "execution_count": null,
   "metadata": {
    "tags": []
   },
   "outputs": [],
   "source": [
    "print(JT_deep_nonvec.shape)\n",
    "print(JT_deep_vec.shape)\n",
    "\n",
    "print('jt: \\n')\n",
    "# for n in range(len(JT_deep_vec[0][0])): \n",
    "#     print(JT_deep_vec[:, :, n] - JT_deep_nonvec[:, :, n])\n",
    "\n",
    "n = 0\n",
    "print(JT_deep_vec[n, :,:] - JT_deep_nonvec[n, :,:])"
   ]
  },
  {
   "cell_type": "code",
   "execution_count": null,
   "metadata": {
    "scrolled": true
   },
   "outputs": [],
   "source": [
    "print('XNR: \\n')\n",
    "for n in range(4): \n",
    "    print(XNR_deep_vec[n, :, :] - XNR_deep_nonvec[n, :, :])"
   ]
  },
  {
   "cell_type": "markdown",
   "metadata": {},
   "source": [
    "Split up FT and JT into SUBV, KVL and KCL"
   ]
  },
  {
   "cell_type": "code",
   "execution_count": null,
   "metadata": {},
   "outputs": [],
   "source": [
    "print('ftsubv: \\n')\n",
    "print(FTSUBV_vec.shape)\n",
    "for n in range(4): \n",
    "    print(FTSUBV_vec[n,:,:] - FTSUBV_nonvec[n, :, :])\n",
    "# print(FTSUBV_vec.shape)\n",
    "# print(FTSUBV_nonvec.shape)"
   ]
  },
  {
   "cell_type": "code",
   "execution_count": null,
   "metadata": {},
   "outputs": [],
   "source": [
    "print('ftkvl: \\n')\n",
    "print(FTKVL_vec.shape)\n",
    "for n in range(4): \n",
    "    print(FTKVL_vec[n, :, 0] - FTKVL_nonvec[n, :, 0])"
   ]
  },
  {
   "cell_type": "code",
   "execution_count": null,
   "metadata": {},
   "outputs": [],
   "source": [
    "print('ftkcl: \\n')\n",
    "print(FTKCL_vec.shape)\n",
    "for n in range(4): \n",
    "    print(FTKCL_vec[n, :, :] - FTKCL_nonvec[n, :, :])"
   ]
  },
  {
   "cell_type": "code",
   "execution_count": null,
   "metadata": {},
   "outputs": [],
   "source": [
    "print('jsubv: \\n')\n",
    "print(JSUBV_vec.shape)\n",
    "for n in range(4): \n",
    "    print(n)\n",
    "    print(\"\\n\")\n",
    "    print(JSUBV_vec[n, :, :] - JSUBV_nonvec[n, :, :])\n"
   ]
  },
  {
   "cell_type": "code",
   "execution_count": null,
   "metadata": {},
   "outputs": [],
   "source": [
    "\n",
    "print(JKVL_vec.shape)\n",
    "print('jkvl: \\n')\n",
    "for n in range(4): \n",
    "    print(JKVL_vec[:, :, n] - JKVL_nonvec[:, :, n])\n"
   ]
  },
  {
   "cell_type": "code",
   "execution_count": null,
   "metadata": {},
   "outputs": [],
   "source": [
    "\n",
    "\n",
    "print('jkcl: \\n')\n",
    "print(JKCL_vec.shape)\n",
    "for n in range(4): \n",
    "    print(JKCL_vec[:, :, n] - JKCL_nonvec[:, :, n])\n"
   ]
  },
  {
   "cell_type": "code",
   "execution_count": null,
   "metadata": {},
   "outputs": [],
   "source": [
    "print(XNR_deep_nonvec[:,:,1]) "
   ]
  },
  {
   "cell_type": "code",
   "execution_count": null,
   "metadata": {},
   "outputs": [],
   "source": [
    "XNR_deep_nonvec"
   ]
  },
  {
   "cell_type": "code",
   "execution_count": null,
   "metadata": {},
   "outputs": [],
   "source": [
    "k1 = 0\n",
    "k2 = 12\n",
    "print(JKCL_vec.shape)\n",
    "print(JKCL_nonvec[k1, k2, :])\n",
    "print(JKCL_vec[k1, k2, :])"
   ]
  },
  {
   "cell_type": "code",
   "execution_count": null,
   "metadata": {},
   "outputs": [],
   "source": [
    "#at 54th position"
   ]
  },
  {
   "cell_type": "code",
   "execution_count": null,
   "metadata": {},
   "outputs": [],
   "source": [
    "2*3*7 + 2*3*2"
   ]
  },
  {
   "cell_type": "code",
   "execution_count": null,
   "metadata": {},
   "outputs": [],
   "source": [
    "#second line"
   ]
  },
  {
   "cell_type": "code",
   "execution_count": null,
   "metadata": {},
   "outputs": [],
   "source": [
    "#phase A"
   ]
  },
  {
   "cell_type": "code",
   "execution_count": null,
   "metadata": {},
   "outputs": [],
   "source": []
  }
 ],
 "metadata": {
  "kernelspec": {
   "display_name": "Python 3",
   "language": "python",
   "name": "python3"
  },
  "language_info": {
   "codemirror_mode": {
    "name": "ipython",
    "version": 3
   },
   "file_extension": ".py",
   "mimetype": "text/x-python",
   "name": "python",
   "nbconvert_exporter": "python",
   "pygments_lexer": "ipython3",
   "version": "3.6.10"
  }
 },
 "nbformat": 4,
 "nbformat_minor": 4
}
