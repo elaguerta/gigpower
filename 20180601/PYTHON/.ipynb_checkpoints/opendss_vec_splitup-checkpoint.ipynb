{
 "cells": [
  {
   "cell_type": "code",
   "execution_count": 1,
   "metadata": {},
   "outputs": [
    {
     "ename": "IndentationError",
     "evalue": "expected an indented block (compute_NR3FT_vectorized.py, line 21)",
     "output_type": "error",
     "traceback": [
      "Traceback \u001b[1;36m(most recent call last)\u001b[0m:\n",
      "  File \u001b[0;32m\"C:\\Users\\kathl\\Anaconda3\\lib\\site-packages\\IPython\\core\\interactiveshell.py\"\u001b[0m, line \u001b[0;32m3343\u001b[0m, in \u001b[0;35mrun_code\u001b[0m\n    exec(code_obj, self.user_global_ns, self.user_ns)\n",
      "  File \u001b[0;32m\"<ipython-input-1-da1917f9768d>\"\u001b[0m, line \u001b[0;32m10\u001b[0m, in \u001b[0;35m<module>\u001b[0m\n    from lib.NR3_OpenDSSvec_splitup import NR3_function\n",
      "\u001b[1;36m  File \u001b[1;32m\"C:\\Users\\kathl\\Desktop\\LinDist3Flow\\20180601\\PYTHON\\lib\\NR3_OpenDSSvec_splitup.py\"\u001b[1;36m, line \u001b[1;32m2\u001b[1;36m, in \u001b[1;35m<module>\u001b[1;36m\u001b[0m\n\u001b[1;33m    from lib.compute_NR3FT_vectorized import compute_NR3FT_vectorized\u001b[0m\n",
      "\u001b[1;36m  File \u001b[1;32m\"C:\\Users\\kathl\\Desktop\\LinDist3Flow\\20180601\\PYTHON\\lib\\compute_NR3FT_vectorized.py\"\u001b[1;36m, line \u001b[1;32m21\u001b[0m\n\u001b[1;33m    for line in FTSUBV:\u001b[0m\n\u001b[1;37m      ^\u001b[0m\n\u001b[1;31mIndentationError\u001b[0m\u001b[1;31m:\u001b[0m expected an indented block\n"
     ]
    }
   ],
   "source": [
    "import numpy as np\n",
    "import opendssdirect as dss\n",
    "import matplotlib.pyplot as plt\n",
    "import copy\n",
    "import pandas as pd\n",
    "import time\n",
    "import re\n",
    "import sys\n",
    "from lib.network_mapper import network_mapper_function\n",
    "from lib.NR3_OpenDSSvec_splitup import NR3_function"
   ]
  },
  {
   "cell_type": "code",
   "execution_count": null,
   "metadata": {},
   "outputs": [],
   "source": [
    "fp = \"C:\\\\Users\\\\kathl\\\\Desktop\\\\LinDist3Flow\\\\20180601\\\\NETWORKS\\\\\"\n",
    "fn = 'compare_lindist3flow_05node_threephase_unbalanced_oscillation_03.txt'\n",
    "network1 = network_mapper_function(fp, fn)\n",
    "\n",
    "nnode1 = network1.nodes.nnode\n",
    "nline1 = network1.lines.nline\n",
    "\n",
    "# Network paramaters\n",
    "\n",
    "nnode = network1.nodes.nnode\n",
    "nline = network1.lines.nline\n",
    "\n",
    "# Load parameters\n",
    "\n",
    "network1.loads.aPQ = 1*np.ones((3,nnode1))*(network1.loads.spu != 0)\n",
    "network1.loads.aI =0*np.ones((3,nnode1))*(network1.loads.spu != 0)\n",
    "network1.loads.aZ = 0*np.ones((3,nnode1))*(network1.loads.spu != 0)\n",
    "\n",
    "\n",
    "network1.loads.spu = 1*network1.loads.spu\n",
    "network1.cons.wpu = np.zeros((3,nnode))\n",
    "network1.vvc.vvcpu = np.zeros((3,nnode))\n",
    "\n",
    "\n",
    "fn = 'compare_opendss_05node_threephase_unbalanced_oscillation_03.dss'"
   ]
  },
  {
   "cell_type": "code",
   "execution_count": null,
   "metadata": {
    "scrolled": false
   },
   "outputs": [],
   "source": [
    "slackidx = 0\n",
    "Vslack = np.array([1, np.exp(1j*-120*np.pi/180), np.exp(1j*120*np.pi/180)])\n",
    "\n",
    "VNR, INR, STXNR, SRXNR, iNR, sNR, itercount = \\\n",
    "    NR3_function(network1, fn, slackidx,Vslack,None,None,None)"
   ]
  },
  {
   "cell_type": "code",
   "execution_count": null,
   "metadata": {},
   "outputs": [],
   "source": []
  },
  {
   "cell_type": "code",
   "execution_count": null,
   "metadata": {},
   "outputs": [],
   "source": []
  },
  {
   "cell_type": "code",
   "execution_count": null,
   "metadata": {},
   "outputs": [],
   "source": []
  },
  {
   "cell_type": "markdown",
   "metadata": {},
   "source": [
    "---"
   ]
  },
  {
   "cell_type": "code",
   "execution_count": null,
   "metadata": {},
   "outputs": [],
   "source": []
  },
  {
   "cell_type": "code",
   "execution_count": 4,
   "metadata": {},
   "outputs": [
    {
     "name": "stdout",
     "output_type": "stream",
     "text": [
      "[99.99999996050043, 49.99999997507175, 0.0, 0.0]\n",
      "[99.99999996050043, 49.99999997507175, 0.0, 0.0]\n",
      "[99.99999996050043, 49.99999997507175, 0.0, 0.0]\n",
      "[99.99999996050043, 49.99999997507175, 0.0, 0.0]\n",
      "[99.99999996050043, 49.99999997507175, 0.0, 0.0]\n",
      "[99.99999996050043, 49.99999997507175, 0.0, 0.0]\n",
      "[99.99999996050043, 49.99999997507175, 0.0, 0.0]\n",
      "[401.48505569740087, 97.85333621587914, 400.2663769723341, 123.30485406916362, 300.3431007675018, 73.39865764989095, -401.07928432216164, -98.49172082589838, -400.1729464236654, -123.86628021875867, -300.26220562716924, -73.91519993053859]\n",
      "12\n",
      "\n",
      "\n",
      "[401.07928432238316, 98.49172082596425, 400.1729464235233, 123.86628021872413, 300.26220562726803, 73.91519993054918, -400.67350995173433, -99.13009871745558, -400.0795183525604, -124.42772086883613, -300.18130340966576, -74.4317517728465]\n",
      "12\n",
      "\n",
      "\n",
      "[300.6735099474505, 74.13009871626309, 300.0795183894979, 99.42772087802783, 200.18130337580814, 49.431751764389574, -300.1477712581612, -74.83366105810245, -300.02663729781347, -100.01958037512074, -200.1291396516836, -49.95121732571576]\n",
      "12\n",
      "\n",
      "\n",
      "[99.94017370855916, 24.97532427767498, 100.12913958895788, 24.951217309994597, -100.00000001282099, -25.00000000327786, -100.0000000670335, -25.000000016717053]\n",
      "8\n",
      "\n",
      "\n",
      "[100.207597541803, 24.858336778423904, 200.0266373660899, 75.01958039220254, -100.0000000051197, -25.00000000149282, -200.04879244639545, -75.02441166732837]\n",
      "8\n",
      "\n",
      "\n",
      "[100.04879252705356, 50.02441168746624, -99.99999991682934, -49.99999995844551]\n",
      "4\n",
      "\n",
      "\n"
     ]
    }
   ],
   "source": [
    "dss.run_command('Redirect ' + fn)\n",
    "dss.Solution.Solve()\n",
    "for i in range(len(dss.Circuit.AllBusNames())):\n",
    "    #print(dss.Circuit.AllBusNames()[i])\n",
    "    dss.Circuit.SetActiveBus(dss.Circuit.AllBusNames()[i])\n",
    "    print(dss.CktElement.Powers())\n",
    "for j in range(len(dss.Lines.AllNames())):\n",
    "    dss.Lines.Name(dss.Lines.AllNames()[j])\n",
    "    print(dss.CktElement.Powers())\n",
    "    print(len(dss.CktElement.Powers()))\n",
    "    print(\"\\n\")"
   ]
  },
  {
   "cell_type": "code",
   "execution_count": 19,
   "metadata": {},
   "outputs": [
    {
     "data": {
      "text/plain": [
       "50.0"
      ]
     },
     "execution_count": 19,
     "metadata": {},
     "output_type": "execute_result"
    }
   ],
   "source": [
    "def get_power_based_on_bus(busname, cplx):\n",
    "    \n",
    "    dss.Circuit.SetActiveBus(busname)\n",
    "   \n",
    "    for j in range(len(dss.Loads.AllNames())):\n",
    "        if dss.Circuit.AllBusNames()[n] in dss.Loads.AllNames()[j]:\n",
    "            dss.Loads.Name(dss.Loads.AllNames()[j])\n",
    "            if cplx == 0:\n",
    "                return dss.Loads.kW()\n",
    "            else:\n",
    "                return dss.Loads.kvar()\n",
    "        \n",
    "\n",
    "        #print('hey')\n",
    "get_power_based_on_bus(dss.Circuit.AllBusNames()[6], 1)"
   ]
  },
  {
   "cell_type": "code",
   "execution_count": 4,
   "metadata": {},
   "outputs": [
    {
     "name": "stdout",
     "output_type": "stream",
     "text": [
      "7\n"
     ]
    }
   ],
   "source": [
    "print(nnode)"
   ]
  },
  {
   "cell_type": "code",
   "execution_count": null,
   "metadata": {},
   "outputs": [],
   "source": []
  }
 ],
 "metadata": {
  "kernelspec": {
   "display_name": "Python 3",
   "language": "python",
   "name": "python3"
  },
  "language_info": {
   "codemirror_mode": {
    "name": "ipython",
    "version": 3
   },
   "file_extension": ".py",
   "mimetype": "text/x-python",
   "name": "python",
   "nbconvert_exporter": "python",
   "pygments_lexer": "ipython3",
   "version": "3.6.10"
  }
 },
 "nbformat": 4,
 "nbformat_minor": 4
}
