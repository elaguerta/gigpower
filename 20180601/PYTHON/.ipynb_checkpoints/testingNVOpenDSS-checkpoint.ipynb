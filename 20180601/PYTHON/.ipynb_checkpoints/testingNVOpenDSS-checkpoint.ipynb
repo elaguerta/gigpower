{
 "cells": [
  {
   "cell_type": "code",
   "execution_count": 1,
   "metadata": {},
   "outputs": [],
   "source": [
    "import numpy as np\n",
    "import opendssdirect as dss\n",
    "import matplotlib.pyplot as plt\n",
    "from network_mapper_OpenDSSnonvec import network_mapper_function\n",
    "from lib.NR3 import NR3_function\n",
    "from math import tan,acos\n",
    "import copy\n",
    "import pandas as pd\n",
    "import time\n",
    "import re\n",
    "import sys"
   ]
  },
  {
   "cell_type": "code",
   "execution_count": 3,
   "metadata": {
    "scrolled": false
   },
   "outputs": [
    {
     "ename": "IndexError",
     "evalue": "list index out of range",
     "output_type": "error",
     "traceback": [
      "\u001b[1;31m---------------------------------------------------------------------------\u001b[0m",
      "\u001b[1;31mIndexError\u001b[0m                                Traceback (most recent call last)",
      "\u001b[1;32m<ipython-input-3-843989650697>\u001b[0m in \u001b[0;36m<module>\u001b[1;34m\u001b[0m\n\u001b[1;32m----> 1\u001b[1;33m \u001b[0mnetwork1\u001b[0m \u001b[1;33m=\u001b[0m \u001b[0mnetwork_mapper_function\u001b[0m\u001b[1;33m(\u001b[0m\u001b[1;34m'compare__lindist3flow_05node_threephase_unbalanced_oscillation_03.dss'\u001b[0m\u001b[1;33m)\u001b[0m\u001b[1;33m\u001b[0m\u001b[0m\n\u001b[0m\u001b[0;32m      2\u001b[0m \u001b[1;33m\u001b[0m\u001b[0m\n\u001b[0;32m      3\u001b[0m \u001b[0mnnode\u001b[0m \u001b[1;33m=\u001b[0m \u001b[0mnetwork1\u001b[0m\u001b[1;33m.\u001b[0m\u001b[0mnodes\u001b[0m\u001b[1;33m.\u001b[0m\u001b[0mnnode\u001b[0m\u001b[1;33m\u001b[0m\u001b[0m\n\u001b[0;32m      4\u001b[0m \u001b[0mnline\u001b[0m \u001b[1;33m=\u001b[0m \u001b[0mnetwork1\u001b[0m\u001b[1;33m.\u001b[0m\u001b[0mlines\u001b[0m\u001b[1;33m.\u001b[0m\u001b[0mnline\u001b[0m\u001b[1;33m\u001b[0m\u001b[0m\n\u001b[0;32m      5\u001b[0m \u001b[1;33m\u001b[0m\u001b[0m\n",
      "\u001b[1;32m~\\Desktop\\LinDist3Flow\\20180601\\PYTHON\\network_mapper_OpenDSSnonvec.py\u001b[0m in \u001b[0;36mnetwork_mapper_function\u001b[1;34m(fn)\u001b[0m\n\u001b[0;32m     68\u001b[0m \u001b[1;33m\u001b[0m\u001b[0m\n\u001b[0;32m     69\u001b[0m     \u001b[1;31m# Iterate through base value lines\u001b[0m\u001b[1;33m\u001b[0m\u001b[1;33m\u001b[0m\u001b[0m\n\u001b[1;32m---> 70\u001b[1;33m     \u001b[0mdss\u001b[0m\u001b[1;33m.\u001b[0m\u001b[0mCircuit\u001b[0m\u001b[1;33m.\u001b[0m\u001b[0mSetActiveBus\u001b[0m\u001b[1;33m(\u001b[0m\u001b[0mdss\u001b[0m\u001b[1;33m.\u001b[0m\u001b[0mCircuit\u001b[0m\u001b[1;33m.\u001b[0m\u001b[0mAllBusNames\u001b[0m\u001b[1;33m(\u001b[0m\u001b[1;33m)\u001b[0m\u001b[1;33m[\u001b[0m\u001b[1;36m0\u001b[0m\u001b[1;33m]\u001b[0m\u001b[1;33m)\u001b[0m\u001b[1;33m\u001b[0m\u001b[0m\n\u001b[0m\u001b[0;32m     71\u001b[0m \u001b[1;33m\u001b[0m\u001b[0m\n\u001b[0;32m     72\u001b[0m     \u001b[0mVbase\u001b[0m \u001b[1;33m=\u001b[0m \u001b[0mdss\u001b[0m\u001b[1;33m.\u001b[0m\u001b[0mBus\u001b[0m\u001b[1;33m.\u001b[0m\u001b[0mkVBase\u001b[0m\u001b[1;33m(\u001b[0m\u001b[1;33m)\u001b[0m\u001b[1;33m\u001b[0m\u001b[0m\n",
      "\u001b[1;31mIndexError\u001b[0m: list index out of range"
     ]
    }
   ],
   "source": [
    "network1 = network_mapper_function('compare__lindist3flow_05node_threephase_unbalanced_oscillation_03.dss')\n",
    "\n",
    "nnode = network1.nodes.nnode\n",
    "nline = network1.lines.nline\n",
    "\n",
    "network1.cons.wpu = np.zeros((3,nnode))\n",
    "network1.vvc.vvcpu = np.zeros((3,nnode))\n",
    "\n",
    "\n",
    "network1.loads.aPQ = .750*np.ones((3,nnode))*(network1.loads.spu != 0)\n",
    "network1.loads.aI = 0.10*np.ones((3,nnode))*(network1.loads.spu != 0)\n",
    "network1.loads.aZ = 0.15*np.ones((3,nnode))*(network1.loads.spu != 0)\n",
    "\n",
    "\n",
    "network1.loads.spu = 1.25*network1.loads.spu\n",
    "\n",
    "slackidx = 0\n",
    "Vslack = np.array([1, np.exp(1j*-120*np.pi/180), np.exp(1j*120*np.pi/180)])\n",
    "\n",
    "\n",
    "VNR, INR, STXNR, SRXNR, iNR, sNR, itercount = \\\n",
    "    NR3_function(network1,slackidx,Vslack,None,None,None,None)\n",
    "\n",
    "\n",
    "print('VNR\\n', np.round(VNR,decimals=6))\n",
    "print('INR\\n', np.round(INR,decimals=6))\n",
    "print('STXNR\\n', np.round(STXNR,decimals=6))\n",
    "print('SRXNR\\n', np.round(SRXNR,decimals=6))\n",
    "print('iNR\\n', np.round(iNR,decimals=6))\n",
    "print('sNR\\n', np.round(sNR,decimals=6))\n",
    "print('itercount:', itercount)\n",
    "\n",
    "print('|VNR|\\n', np.round(np.abs(VNR),decimals=6))\n",
    "print('<VNR\\n', np.round(180/np.pi*np.angle(VNR),decimals=6))\n",
    "print('D<VNR\\n', 180/np.pi*np.angle(VNR) - 180/np.pi*np.angle(VNR[:,[0]]))"
   ]
  },
  {
   "cell_type": "code",
   "execution_count": null,
   "metadata": {},
   "outputs": [],
   "source": []
  },
  {
   "cell_type": "code",
   "execution_count": null,
   "metadata": {},
   "outputs": [],
   "source": []
  }
 ],
 "metadata": {
  "kernelspec": {
   "display_name": "Python 3",
   "language": "python",
   "name": "python3"
  },
  "language_info": {
   "codemirror_mode": {
    "name": "ipython",
    "version": 3
   },
   "file_extension": ".py",
   "mimetype": "text/x-python",
   "name": "python",
   "nbconvert_exporter": "python",
   "pygments_lexer": "ipython3",
   "version": "3.6.6"
  }
 },
 "nbformat": 4,
 "nbformat_minor": 2
}
