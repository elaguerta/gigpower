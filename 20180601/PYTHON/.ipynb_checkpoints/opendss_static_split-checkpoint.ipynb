{
 "cells": [
  {
   "cell_type": "code",
   "execution_count": 1,
   "metadata": {},
   "outputs": [
    {
     "ename": "SyntaxError",
     "evalue": "non-default argument follows default argument (NR3_staticsplit.py, line 11)",
     "output_type": "error",
     "traceback": [
      "Traceback \u001b[1;36m(most recent call last)\u001b[0m:\n",
      "  File \u001b[0;32m\"C:\\Users\\kathl\\Anaconda3\\lib\\site-packages\\IPython\\core\\interactiveshell.py\"\u001b[0m, line \u001b[0;32m3343\u001b[0m, in \u001b[0;35mrun_code\u001b[0m\n    exec(code_obj, self.user_global_ns, self.user_ns)\n",
      "\u001b[1;36m  File \u001b[1;32m\"<ipython-input-1-ddd76295b385>\"\u001b[1;36m, line \u001b[1;32m8\u001b[1;36m, in \u001b[1;35m<module>\u001b[1;36m\u001b[0m\n\u001b[1;33m    from lib.NR3_staticsplit import NR3_function\u001b[0m\n",
      "\u001b[1;36m  File \u001b[1;32m\"C:\\Users\\kathl\\Desktop\\LinDist3Flow\\20180601\\PYTHON\\lib\\NR3_staticsplit.py\"\u001b[1;36m, line \u001b[1;32m11\u001b[0m\n\u001b[1;33m    def NR3_function(fn, slacknode, Vslack, V0, I0,tol=1e-9,maxiter=100, t, der, capacitance):\u001b[0m\n\u001b[1;37m                    ^\u001b[0m\n\u001b[1;31mSyntaxError\u001b[0m\u001b[1;31m:\u001b[0m non-default argument follows default argument\n"
     ]
    }
   ],
   "source": [
    "import numpy as np\n",
    "import opendssdirect as dss\n",
    "import matplotlib.pyplot as plt\n",
    "import pandas as pd\n",
    "import re\n",
    "import sys\n",
    "from lib.compute_H import compute_KCL_matrices\n",
    "from lib.NR3_staticsplit import NR3_function"
   ]
  },
  {
   "cell_type": "code",
   "execution_count": null,
   "metadata": {
    "scrolled": true
   },
   "outputs": [],
   "source": [
    "slackidx = 0\n",
    "Vslack = np.array([1, np.exp(1j*-120*np.pi/180), np.exp(1j*120*np.pi/180)])\n",
    "fn = 'compare_opendss_05node_threephase_unbalanced_oscillation_03.dss'\n",
    "fn = 'IEEE_13Node_Modified_01.dss'\n",
    "\n",
    "times = np.linspace(0, 2*np.pi, 102)\n",
    "#var = (1 + 0.1*np.sin(2*np.pi*0.01*t))\n",
    "#3rd to last index is the time to evaluate var at\n",
    "#penultimate index is der\n",
    "#final index is capacitance\n",
    "\n",
    "VNR, INR, STXNR, SRXNR, iNR, sNR, itercount = \\\n",
    "    NR3_function(fn, slackidx, Vslack, None, None, -1, 0, 0,None, None )"
   ]
  },
  {
   "cell_type": "code",
   "execution_count": null,
   "metadata": {},
   "outputs": [],
   "source": [
    "\n"
   ]
  },
  {
   "cell_type": "code",
   "execution_count": null,
   "metadata": {},
   "outputs": [],
   "source": []
  },
  {
   "cell_type": "code",
   "execution_count": null,
   "metadata": {},
   "outputs": [],
   "source": []
  },
  {
   "cell_type": "code",
   "execution_count": null,
   "metadata": {},
   "outputs": [],
   "source": []
  }
 ],
 "metadata": {
  "kernelspec": {
   "display_name": "Python 3",
   "language": "python",
   "name": "python3"
  },
  "language_info": {
   "codemirror_mode": {
    "name": "ipython",
    "version": 3
   },
   "file_extension": ".py",
   "mimetype": "text/x-python",
   "name": "python",
   "nbconvert_exporter": "python",
   "pygments_lexer": "ipython3",
   "version": "3.6.10"
  }
 },
 "nbformat": 4,
 "nbformat_minor": 4
}
