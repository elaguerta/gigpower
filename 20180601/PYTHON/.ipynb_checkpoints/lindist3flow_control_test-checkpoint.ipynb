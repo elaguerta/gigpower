{
 "cells": [
  {
   "cell_type": "code",
   "execution_count": 2,
   "metadata": {},
   "outputs": [],
   "source": [
    "import numpy as np\n",
    "import opendssdirect as dss\n",
    "import matplotlib.pyplot as plt\n",
    "import copy\n",
    "import pandas as pd\n",
    "import time\n",
    "import re\n",
    "import sys\n",
    "from lib.network_mapper import network_mapper_function\n",
    "from lib.NR3 import NR3_function\n"
   ]
  },
  {
   "cell_type": "code",
   "execution_count": null,
   "metadata": {},
   "outputs": [],
   "source": [
    "fp = \"C:\\\\Users\\\\kathl\\\\Desktop\\\\LinDist3Flow\\\\20180601\\\\NETWORKS\\\\\"\n",
    "fn = 'compare__lindist3flow_05node_threephase_unbalanced_oscillation_03.txt'"
   ]
  },
  {
   "cell_type": "code",
   "execution_count": null,
   "metadata": {},
   "outputs": [],
   "source": [
    "\n",
    "network1 = network_mapper_function(fp, fn)\n",
    "\n",
    "nnode1 = network1.nodes.nnode\n",
    "nline1 = network1.lines.nline\n",
    "\n",
    "# Network paramaters\n",
    "\n",
    "nnode = network1.nodes.nnode\n",
    "nline = network1.lines.nline\n",
    "\n",
    "# Load parameters\n",
    "\n",
    "network1.loads.aPQ = .750*np.ones((3,nnode1))*(network1.loads.spu != 0)\n",
    "network1.loads.aI = 0.10*np.ones((3,nnode1))*(network1.loads.spu != 0)\n",
    "network1.loads.aZ = 0.15*np.ones((3,nnode1))*(network1.loads.spu != 0)\n",
    "\n",
    "\n",
    "network1.loads.spu = 1.25*network1.loads.spu"
   ]
  },
  {
   "cell_type": "code",
   "execution_count": null,
   "metadata": {},
   "outputs": [],
   "source": [
    "network1.cons.wpu = np.zeros((3,nnode))\n",
    "network1.vvc.vvcpu = np.zeros((3,nnode))\n",
    "\n",
    "slackidx = 0\n",
    "Vslack = np.array([1, np.exp(1j*-120*np.pi/180), np.exp(1j*120*np.pi/180)])\n",
    "\n",
    "\n",
    "VNR, INR, STXNR, SRXNR, iNR, sNR, itercount = \\\n",
    "    NR3_function(network1,slackidx,Vslack,None,None,None,None)\n",
    "\n",
    "'''\n",
    "VNR = np.round(VNR,decimals=6)\n",
    "INR = np.round(INR,decimals=6)\n",
    "STXNR = np.round(STXNR,decimals=6)\n",
    "SRXNR = np.round(SRXNR,decimals=6)\n",
    "iNR = np.round(iNR,decimals=6)\n",
    "sNR = np.round(sNR,decimals=6)\n",
    "'''\n",
    "\n",
    "print('VNR\\n', np.round(VNR,decimals=6))\n",
    "print('INR\\n', np.round(INR,decimals=6))\n",
    "print('STXNR\\n', np.round(STXNR,decimals=6))\n",
    "print('SRXNR\\n', np.round(SRXNR,decimals=6))\n",
    "print('iNR\\n', np.round(iNR,decimals=6))\n",
    "print('sNR\\n', np.round(sNR,decimals=6))\n",
    "print('itercount:', itercount)\n",
    "\n",
    "print('|VNR|\\n', np.round(np.abs(VNR),decimals=6))\n",
    "print('<VNR\\n', np.round(180/np.pi*np.angle(VNR),decimals=6))\n",
    "print('D<VNR\\n', 180/np.pi*np.angle(VNR) - 180/np.pi*np.angle(VNR[:,[0]]))"
   ]
  }
 ],
 "metadata": {
  "kernelspec": {
   "display_name": "Python 3",
   "language": "python",
   "name": "python3"
  },
  "language_info": {
   "codemirror_mode": {
    "name": "ipython",
    "version": 3
   },
   "file_extension": ".py",
   "mimetype": "text/x-python",
   "name": "python",
   "nbconvert_exporter": "python",
   "pygments_lexer": "ipython3",
   "version": "3.6.6"
  }
 },
 "nbformat": 4,
 "nbformat_minor": 2
}
