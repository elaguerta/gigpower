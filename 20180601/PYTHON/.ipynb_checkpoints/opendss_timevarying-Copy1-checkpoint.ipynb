{
 "cells": [
  {
   "cell_type": "code",
   "execution_count": 1,
   "metadata": {
    "scrolled": true
   },
   "outputs": [],
   "source": [
    "import numpy as np\n",
    "import opendssdirect as dss\n",
    "import matplotlib.pyplot as plt\n",
    "import pandas as pd\n",
    "import re\n",
    "import sys\n",
    "import time\n",
    "import scipy.linalg as spla\n",
    "from lib.compute_KCL_matrices import compute_KCL_matrices\n",
    "from lib.basematricesY import basematrices\n",
    "from lib.NR3_Y import NR3_timevarying"
   ]
  },
  {
   "cell_type": "code",
   "execution_count": null,
   "metadata": {},
   "outputs": [],
   "source": []
  },
  {
   "cell_type": "code",
   "execution_count": null,
   "metadata": {
    "scrolled": false
   },
   "outputs": [],
   "source": []
  },
  {
   "cell_type": "code",
   "execution_count": null,
   "metadata": {},
   "outputs": [],
   "source": []
  },
  {
   "cell_type": "markdown",
   "metadata": {},
   "source": [
    "Vectorized Solver"
   ]
  },
  {
   "cell_type": "code",
   "execution_count": 3,
   "metadata": {
    "scrolled": true
   },
   "outputs": [
    {
     "ename": "IndexError",
     "evalue": "index 52 is out of bounds for axis 0 with size 42",
     "output_type": "error",
     "traceback": [
      "\u001b[1;31m---------------------------------------------------------------------------\u001b[0m",
      "\u001b[1;31mIndexError\u001b[0m                                Traceback (most recent call last)",
      "\u001b[1;32m<ipython-input-3-e4e20072bba3>\u001b[0m in \u001b[0;36m<module>\u001b[1;34m\u001b[0m\n\u001b[0;32m      8\u001b[0m \u001b[0mtimes\u001b[0m \u001b[1;33m=\u001b[0m \u001b[1;33m[\u001b[0m\u001b[1;33m-\u001b[0m\u001b[1;36m1\u001b[0m\u001b[1;33m]\u001b[0m\u001b[1;33m\u001b[0m\u001b[1;33m\u001b[0m\u001b[0m\n\u001b[0;32m      9\u001b[0m \u001b[1;33m\u001b[0m\u001b[0m\n\u001b[1;32m---> 10\u001b[1;33m \u001b[0mX\u001b[0m\u001b[1;33m,\u001b[0m \u001b[0mg_SB\u001b[0m\u001b[1;33m,\u001b[0m \u001b[0mb_SB\u001b[0m\u001b[1;33m,\u001b[0m \u001b[0mG_KVL\u001b[0m\u001b[1;33m,\u001b[0m \u001b[0mb_KVL\u001b[0m\u001b[1;33m,\u001b[0m \u001b[0mH\u001b[0m\u001b[1;33m,\u001b[0m \u001b[0mg\u001b[0m\u001b[1;33m,\u001b[0m \u001b[0mb\u001b[0m \u001b[1;33m=\u001b[0m \u001b[0mbasematrices\u001b[0m\u001b[1;33m(\u001b[0m\u001b[0mfn\u001b[0m\u001b[1;33m,\u001b[0m \u001b[0mslackidx\u001b[0m\u001b[1;33m,\u001b[0m \u001b[0mVslack\u001b[0m\u001b[1;33m,\u001b[0m \u001b[1;32mNone\u001b[0m\u001b[1;33m,\u001b[0m \u001b[1;32mNone\u001b[0m\u001b[1;33m)\u001b[0m\u001b[1;33m\u001b[0m\u001b[1;33m\u001b[0m\u001b[0m\n\u001b[0m\u001b[0;32m     11\u001b[0m \u001b[1;33m\u001b[0m\u001b[0m\n\u001b[0;32m     12\u001b[0m \u001b[1;33m\u001b[0m\u001b[0m\n",
      "\u001b[1;32m~\\Desktop\\LinDist3Flow\\20180601\\PYTHON\\lib\\basematricesY.py\u001b[0m in \u001b[0;36mbasematrices\u001b[1;34m(fn, slacknode, Vslack, V0, I0)\u001b[0m\n\u001b[0;32m     29\u001b[0m                 \u001b[0mXNR\u001b[0m\u001b[1;33m[\u001b[0m\u001b[1;36m2\u001b[0m\u001b[1;33m*\u001b[0m\u001b[0mph\u001b[0m\u001b[1;33m*\u001b[0m\u001b[0mnnode\u001b[0m \u001b[1;33m+\u001b[0m \u001b[1;36m2\u001b[0m\u001b[1;33m*\u001b[0m\u001b[0mk1\u001b[0m\u001b[1;33m+\u001b[0m\u001b[1;36m1\u001b[0m\u001b[1;33m]\u001b[0m \u001b[1;33m=\u001b[0m \u001b[0mV0\u001b[0m\u001b[1;33m[\u001b[0m\u001b[0mph\u001b[0m\u001b[1;33m,\u001b[0m\u001b[0mk1\u001b[0m\u001b[1;33m]\u001b[0m\u001b[1;33m.\u001b[0m\u001b[0mimag\u001b[0m\u001b[1;33m\u001b[0m\u001b[1;33m\u001b[0m\u001b[0m\n\u001b[0;32m     30\u001b[0m \u001b[1;33m\u001b[0m\u001b[0m\n\u001b[1;32m---> 31\u001b[1;33m     \u001b[0mg_SB\u001b[0m\u001b[1;33m,\u001b[0m \u001b[0mb_SB\u001b[0m\u001b[1;33m,\u001b[0m \u001b[0mG_KVL\u001b[0m\u001b[1;33m,\u001b[0m \u001b[0mb_KVL\u001b[0m \u001b[1;33m=\u001b[0m \u001b[0mcompute_vecmat\u001b[0m\u001b[1;33m(\u001b[0m\u001b[0mfn\u001b[0m\u001b[1;33m,\u001b[0m \u001b[0mVslack\u001b[0m\u001b[1;33m)\u001b[0m\u001b[1;33m\u001b[0m\u001b[1;33m\u001b[0m\u001b[0m\n\u001b[0m\u001b[0;32m     32\u001b[0m \u001b[1;33m\u001b[0m\u001b[0m\n\u001b[0;32m     33\u001b[0m     \u001b[0mH\u001b[0m\u001b[1;33m,\u001b[0m \u001b[0mg\u001b[0m\u001b[1;33m,\u001b[0m \u001b[0mb\u001b[0m \u001b[1;33m=\u001b[0m \u001b[0mcompute_KCL_matrices\u001b[0m\u001b[1;33m(\u001b[0m\u001b[0mfn\u001b[0m\u001b[1;33m,\u001b[0m \u001b[1;33m-\u001b[0m\u001b[1;36m1\u001b[0m\u001b[1;33m,\u001b[0m \u001b[1;36m0\u001b[0m\u001b[1;33m,\u001b[0m \u001b[1;36m0\u001b[0m\u001b[1;33m)\u001b[0m\u001b[1;33m\u001b[0m\u001b[1;33m\u001b[0m\u001b[0m\n",
      "\u001b[1;32m~\\Desktop\\LinDist3Flow\\20180601\\PYTHON\\lib\\compute_vecmatY.py\u001b[0m in \u001b[0;36mcompute_vecmat\u001b[1;34m(fn, Vslack)\u001b[0m\n\u001b[0;32m    232\u001b[0m \u001b[1;33m\u001b[0m\u001b[0m\n\u001b[0;32m    233\u001b[0m             \u001b[1;32melse\u001b[0m\u001b[1;33m:\u001b[0m \u001b[1;31m#need to figure this out\u001b[0m\u001b[1;33m\u001b[0m\u001b[1;33m\u001b[0m\u001b[0m\n\u001b[1;32m--> 234\u001b[1;33m                 \u001b[0mG_KVL\u001b[0m\u001b[1;33m[\u001b[0m\u001b[1;36m2\u001b[0m\u001b[1;33m*\u001b[0m\u001b[0mph\u001b[0m\u001b[1;33m*\u001b[0m\u001b[0mnline\u001b[0m \u001b[1;33m+\u001b[0m \u001b[1;36m2\u001b[0m\u001b[1;33m*\u001b[0m\u001b[0mline\u001b[0m\u001b[1;33m]\u001b[0m\u001b[1;33m[\u001b[0m\u001b[1;36m2\u001b[0m\u001b[1;33m*\u001b[0m\u001b[1;33m(\u001b[0m\u001b[0mnnode\u001b[0m\u001b[1;33m)\u001b[0m\u001b[1;33m*\u001b[0m\u001b[1;36m3\u001b[0m \u001b[1;33m+\u001b[0m \u001b[1;36m2\u001b[0m\u001b[1;33m*\u001b[0m\u001b[0mph\u001b[0m\u001b[1;33m*\u001b[0m\u001b[0mnline\u001b[0m \u001b[1;33m+\u001b[0m \u001b[1;36m2\u001b[0m\u001b[1;33m*\u001b[0m\u001b[0mline\u001b[0m\u001b[1;33m]\u001b[0m \u001b[1;33m=\u001b[0m \u001b[1;36m1\u001b[0m \u001b[1;31m#C_mn\u001b[0m\u001b[1;33m\u001b[0m\u001b[1;33m\u001b[0m\u001b[0m\n\u001b[0m\u001b[0;32m    235\u001b[0m                 \u001b[0mG_KVL\u001b[0m\u001b[1;33m[\u001b[0m\u001b[1;36m2\u001b[0m\u001b[1;33m*\u001b[0m\u001b[0mph\u001b[0m\u001b[1;33m*\u001b[0m\u001b[0mnline\u001b[0m \u001b[1;33m+\u001b[0m \u001b[1;36m2\u001b[0m\u001b[1;33m*\u001b[0m\u001b[0mline\u001b[0m\u001b[1;33m+\u001b[0m\u001b[1;36m1\u001b[0m\u001b[1;33m]\u001b[0m\u001b[1;33m[\u001b[0m\u001b[1;36m2\u001b[0m\u001b[1;33m*\u001b[0m\u001b[1;33m(\u001b[0m\u001b[0mnnode\u001b[0m\u001b[1;33m)\u001b[0m\u001b[1;33m*\u001b[0m\u001b[1;36m3\u001b[0m \u001b[1;33m+\u001b[0m \u001b[1;36m2\u001b[0m\u001b[1;33m*\u001b[0m\u001b[0mph\u001b[0m\u001b[1;33m*\u001b[0m\u001b[0mnline\u001b[0m \u001b[1;33m+\u001b[0m \u001b[1;36m2\u001b[0m\u001b[1;33m*\u001b[0m\u001b[0mline\u001b[0m\u001b[1;33m+\u001b[0m\u001b[1;36m1\u001b[0m\u001b[1;33m]\u001b[0m \u001b[1;33m=\u001b[0m \u001b[1;36m1\u001b[0m \u001b[1;31m#D_mn\u001b[0m\u001b[1;33m\u001b[0m\u001b[1;33m\u001b[0m\u001b[0m\n\u001b[0;32m    236\u001b[0m \u001b[1;33m\u001b[0m\u001b[0m\n",
      "\u001b[1;31mIndexError\u001b[0m: index 52 is out of bounds for axis 0 with size 42"
     ]
    }
   ],
   "source": [
    "slackidx = 0\n",
    "Vslack = np.array([1, np.exp(1j*-120*np.pi/180), np.exp(1j*120*np.pi/180)])\n",
    "\n",
    "#fn = 'compare_opendss_05node_threephase_unbalanced_oscillation_03.dss'\n",
    "#fn = '06node_threephase_radial_unbalanced.dss'\n",
    "#fn = 'IEEE_13Node_Modified_01.dss'\n",
    "fn = '06node_threephase_meshed_unbalanced.dss'\n",
    "times = [-1]\n",
    "\n",
    "X, g_SB, b_SB, G_KVL, b_KVL, H, g, b = basematrices(fn, slackidx, Vslack, None, None)\n",
    "\n",
    "   \n",
    "dss.run_command('Redirect ' + fn)\n",
    "nnode = len(dss.Circuit.AllBusNames())\n",
    "nline = len(dss.Lines.AllNames())\n",
    "\n",
    "VNR01 = np.zeros((len(times), 3, nnode), dtype = \"complex\")\n",
    "INR01=  np.zeros((len(times), 3, nline), dtype = \"complex\")\n",
    "STXNR01 = np.zeros((len(times), 3, nline), dtype = \"complex\")\n",
    "SRXNR01 = np.zeros((len(times), 3, nline), dtype = \"complex\")\n",
    "iNR01 = np.zeros((len(times), 3, nnode), dtype = \"complex\")\n",
    "sNR01 = np.zeros((len(times), 3, nnode), dtype = \"complex\")\n",
    "\n",
    "\n",
    "    # Run NR3 with variations in time, DER, and capacitance\n",
    "# VNR, INR, STXNR, SRXNR, iNR, sNR, itercount = \\\n",
    "VNR = \\\n",
    "    NR3_timevarying(fn, X, g_SB, b_SB, G_KVL, b_KVL, H, g, b, None, None, der[i], capacitance[i], times[i])    \n",
    "# VNR01[i, :, :] = np.reshape(VNR, (3, nnode))\n",
    "# INR01[i, :, :] = np.reshape(INR, (3, nline))\n",
    "# STXNR01[i, :, :] = np.reshape(STXNR, (3, nline))\n",
    "# SRXNR01[i, :, :] = np.reshape(SRXNR, (3, nline))\n",
    "# iNR01[i, :, :] = np.reshape(iNR, (3, nnode))\n",
    "# sNR01[i, :, :] = np.reshape(sNR, (3, nnode))\n"
   ]
  },
  {
   "cell_type": "code",
   "execution_count": null,
   "metadata": {
    "scrolled": true
   },
   "outputs": [],
   "source": [
    "print('allocate base matrices ', t0 - t00)\n",
    "print('run newton rapshon 20x ', t1-t0)\n",
    "print(t1-t00)"
   ]
  },
  {
   "cell_type": "markdown",
   "metadata": {},
   "source": [
    "OpenDSS Solution"
   ]
  },
  {
   "cell_type": "code",
   "execution_count": null,
   "metadata": {
    "scrolled": true
   },
   "outputs": [],
   "source": [
    "t0_dss = time.time()\n",
    "\n",
    "#dss.run_command('Redirect compare_opendss_05node_threephase_unbalanced_oscillation_03.dss')\n",
    "#dss.run_command('Redirect 06node_threephase_unbalanced.dss') \n",
    "dss.run_command('Redirect IEEE_13Node_Modified_01.dss')\n",
    "#dss.run_command('Redirect 06node_threephase_radial_unbalanced.dss')\n",
    "\n",
    "VDSS0 = np.zeros((len(times), 3, nnode), dtype = \"complex\")\n",
    "IDSS0 =  np.zeros((len(times), 3, nline), dtype=\"complex\")\n",
    "SRXDSS0 = np.zeros((len(times), 3, nline), dtype=\"complex\")\n",
    "STXDSS0 = np.zeros((len(times), 3, nline), dtype=\"complex\")\n",
    "load_arr = np.zeros((len(times), 3, nnode), dtype='complex')\n",
    "\n",
    "dss.Circuit.SetActiveBus(dss.Circuit.AllBusNames()[0])\n",
    "Vbase = dss.Bus.kVBase() * 1000\n",
    "Sbase = 1000000.0\n",
    "Ibase = Sbase/Vbase\n",
    "Zbase = Vbase/Ibase\n",
    "\n",
    "# Set slack bus (sourcebus) voltage reference in p.u.\n",
    "SlackBusVoltage = 1.000\n",
    "dss.Vsources.PU(SlackBusVoltage)\n",
    "\n",
    "# Time-varying load\n",
    "for k in range(len(dss.Loads.AllNames())):\n",
    "    dss.Loads.Name(dss.Loads.AllNames()[k])\n",
    "    dss.Loads.kW(kW_list[k]* (1 + 0.1*np.sin(2*np.pi*0.01*times[i])))\n",
    "    dss.Loads.kvar(kvar_list[k] * (1 + 0.1*np.sin(2*np.pi*0.01*times[i])))\n",
    "\n",
    "dss.Solution.Convergence(0.000000000001)\n",
    "\n",
    "# Solve power flow with OpenDSS file\n",
    "dss.Solution.Solve()\n",
    "if not dss.Solution.Converged:\n",
    "    print('Initial Solution Not Converged. Check Model for Convergence')\n",
    "else:\n",
    "    print('Initial Model Converged. Proceeding to Next Step.')\n",
    "    #Doing this solve command is required for GridPV, that is why the monitors\n",
    "    #go under a reset process\n",
    "    dss.Monitors.ResetAll()\n",
    "\n",
    "    # set solution Params\n",
    "    #setSolutionParams(dss,'daily',1,1,'off',1000000,30000)\n",
    "    dss.Solution.Mode(1)\n",
    "    dss.Solution.Number(1)\n",
    "    dss.Solution.StepSize(1)\n",
    "    dss.Solution.ControlMode(-1)\n",
    "    dss.Solution.MaxControlIterations(1000000)\n",
    "    dss.Solution.MaxIterations(30000)\n",
    "    # Easy process to get all names and count of loads, a trick to avoid\n",
    "    # some more lines of code\n",
    "    TotalLoads=dss.Loads.Count()\n",
    "    AllLoadNames=dss.Loads.AllNames()\n",
    "    print('OpenDSS Model Compliation Done.')\n",
    "    print('Iterations: ', dss.Solution.Iterations())\n",
    "    print('Tolerance: ', dss.Solution.Convergence())\n",
    "\n",
    "print('')\n",
    "\n",
    "\n",
    "print(dss.Solution.Converged())\n",
    "\n",
    "# Print number of buses, and bus names\n",
    "print(len(dss.Circuit.AllBusNames()))\n",
    "print(dss.Circuit.AllBusNames())\n",
    "\n",
    "# Print number of loads, and load names\n",
    "print(len(dss.Loads.AllNames()))\n",
    "print(dss.Loads.AllNames())\n",
    "\n",
    "print('')\n",
    "\n",
    "VDSS = np.zeros((3,len(dss.Circuit.AllBusNames())),dtype='complex')\n",
    "\n",
    "for k1 in range(len(dss.Circuit.AllBusNames())):\n",
    "\n",
    "    dss.Circuit.SetActiveBus(dss.Circuit.AllBusNames()[k1])\n",
    "\n",
    "#     print(dss.Circuit.AllBusNames()[k1])\n",
    "#     print(dss.Bus.Nodes())\n",
    "\n",
    "#     print('puVOTLAGES - LN CARTESIAN')\n",
    "#     print(dss.Bus.PuVoltage())\n",
    "\n",
    "    ph = np.asarray(dss.Bus.Nodes(),dtype='int')-1\n",
    "\n",
    "    Vtemp = np.asarray(dss.Bus.PuVoltage())\n",
    "\n",
    "    Vtemp = Vtemp[0:nnode*2-1:2] + 1j*Vtemp[1:nnode*2:2]\n",
    "\n",
    "\n",
    "#     print(np.asarray(dss.Bus.Nodes(),'int'))\n",
    "\n",
    "    VDSS[ph,k1] = Vtemp    \n",
    "\n",
    "#     VDSS[np.asarray(dss.Bus.Nodes(),'int'),k1] = np.array(dss.Bus.PuVoltage()[0:5:2] + 1j*dss.Bus.PuVoltage()[1:6:2])\n",
    "\n",
    "\n",
    "#     VDSS[dss.Bus.Nodes()-1,k1] = dss.Bus.PuVoltage()[0:2:5]\n",
    "#     for k2 in range(len(dss.Bus.Nodes())):\n",
    "#         VDSS[int(dss.Bus.Nodes()[k2])-1,k1] = dss.Bus.PuVoltage()[2*k2] + 1j*dss.Bus.PuVoltage()[2*k2+1]\n",
    "\n",
    "print('VDSS\\n', np.round(VDSS,decimals=6))\n",
    "\n",
    "\n",
    "IDSS = np.zeros((3,len(dss.Lines.AllNames())),dtype='complex')\n",
    "\n",
    "for k1 in range(len(dss.Lines.AllNames())):\n",
    "    dss.Lines.Name(dss.Lines.AllNames()[k1])\n",
    "#     print(dss.Lines.AllNames()[k1])\n",
    "    ph = np.asarray(dss.CktElement.BusNames()[0].split('.')[1:], dtype='int')-1\n",
    "    Imn = np.asarray(dss.CktElement.Currents())/Ibase\n",
    "#     print(Imn)\n",
    "    Imn = Imn[0:int(len(Imn)/2)]\n",
    "#     print(Imn)\n",
    "    Imn = Imn[0:(len(ph)*2)-1:2] + 1j*Imn[1:len(ph)*2:2]\n",
    "#     print(Imn)\n",
    "    IDSS[ph,k1] = Imn\n",
    "#     print('')\n",
    "\n",
    "print('IDSS\\n', np.round(IDSS,decimals=6))\n",
    "\n",
    "STXDSS = np.zeros((3,len(dss.Lines.AllNames())),dtype='complex')\n",
    "SRXDSS = np.zeros((3,len(dss.Lines.AllNames())),dtype='complex')\n",
    "\n",
    "for k1 in range(len(dss.Lines.AllNames())):\n",
    "    dss.Lines.Name(dss.Lines.AllNames()[k1])\n",
    "    ph = np.asarray(dss.CktElement.BusNames()[0].split('.')[1:], dtype='int')-1\n",
    "    Sk = np.asarray(dss.CktElement.Powers())/(Sbase/1000)\n",
    "\n",
    "    STXtemp = Sk[0:int(len(Sk)/2)]\n",
    "    SRXtemp = Sk[int(len(Sk)/2):]\n",
    "\n",
    "    STXtemp = STXtemp[0:len(ph)*2-1:2] + 1j*STXtemp[1:len(ph)*2:2]\n",
    "    SRXtemp = -(SRXtemp[0:len(ph)*2-1:2] + 1j*SRXtemp[1:len(ph)*2:2])\n",
    "\n",
    "    STXDSS[ph,k1] = STXtemp\n",
    "    SRXDSS[ph,k1] = SRXtemp\n",
    "\n",
    "VDSS0[i, :, :] = VDSS\n",
    "IDSS0[i, :, :] = IDSS\n",
    "SRXDSS0[i, :, :] = SRXDSS\n",
    "STXDSS0[i, :, :] = STXDSS\n",
    "\n",
    "\n",
    "print('STXDSS\\n', np.round(STXDSS,decimals=6))\n",
    "print('SRXDSS\\n', np.round(SRXDSS,decimals=6))\n",
    "\n",
    "print('|VDSS|\\n', np.round(np.abs(VDSS),decimals=6))\n",
    "print('<VDSS\\n', np.round(180/np.pi*np.angle(VDSS),decimals=6))\n",
    "print('D<VDSS\\n', 180/np.pi*np.angle(VDSS) - 180/np.pi*np.angle(VDSS[:,[0]]))\n"
   ]
  },
  {
   "cell_type": "code",
   "execution_count": null,
   "metadata": {},
   "outputs": [],
   "source": []
  },
  {
   "cell_type": "markdown",
   "metadata": {},
   "source": [
    "Comparing results between three solutions - DSS, 01 (vectorized), 02 (nonvectorized)"
   ]
  },
  {
   "cell_type": "code",
   "execution_count": null,
   "metadata": {
    "scrolled": false
   },
   "outputs": [],
   "source": [
    "for i in range(len(times)):\n",
    "    print(\"Timestep %d \\n\" % i)\n",
    "    print('Complex Voltage difference')\n",
    "    #print(np.max(np.abs(VNR01[i] - VNR02[i])))\n",
    "    print(np.max(np.abs(VDSS0[i] - VNR01[i]))) \n",
    "\n",
    "#     print('Complex Current difference')\n",
    "#     print(np.max(np.abs(IDSS0[i] - INR01[i])))\n",
    "    \n",
    "#     print('Complex TX Power difference')\n",
    "#     print(np.max(np.abs(STXDSS0[i] - STXNR01[i])))\n",
    "    \n",
    "#     print('Complex RX Power difference')\n",
    "#     print(np.max(np.abs(SRXDSS0[i] - SRXNR01[i])))\n",
    "    \n",
    "#     print('Voltage Magnitude difference')\n",
    "#     print(np.max(np.abs(np.abs(VDSS0[i]) - np.abs(VNR01[i]))))\n",
    "    \n",
    "#     print('Voltage Angle difference')\n",
    "#     print(np.max(np.abs(180/np.pi*np.angle(VDSS0[i]) - 180/np.pi*np.angle(VNR01[i]))))\n",
    "#     print(\"\\n\")"
   ]
  },
  {
   "cell_type": "code",
   "execution_count": null,
   "metadata": {},
   "outputs": [],
   "source": [
    "np.abs(VDSS0[0]-VNR01[0])\n",
    "print(np.abs(VNR01[0]))"
   ]
  },
  {
   "cell_type": "markdown",
   "metadata": {},
   "source": [
    "Load comparison between non-vectorized and OpenDSS"
   ]
  },
  {
   "cell_type": "code",
   "execution_count": null,
   "metadata": {},
   "outputs": [],
   "source": [
    "for i in range(len(times)):\n",
    "    print(\"Timestep %d \\n Magnitude of the Difference: \\n\" % i)\n",
    "    print(np.abs(spah[i] - load_arr[i]))\n",
    "    print(\"Max difference: \\n \")\n",
    "    print(np.max(np.abs(spah[i] - load_arr[i])))\n",
    "    print(\"\\n\")"
   ]
  },
  {
   "cell_type": "code",
   "execution_count": null,
   "metadata": {},
   "outputs": [],
   "source": [
    "dss.run_command('Redirect IEEE_13Node_Modified_01.dss')\n",
    "for i in range(len(dss.Loads.AllNames())):\n",
    "    dss.Loads.Name(dss.Loads.AllNames()[i])\n",
    "    print(dss.Loads.kW())\n",
    "    print(dss.Loads.kvar())\n",
    "    print(dss.CktElement.Powers())"
   ]
  },
  {
   "cell_type": "markdown",
   "metadata": {},
   "source": [
    "---"
   ]
  },
  {
   "cell_type": "code",
   "execution_count": null,
   "metadata": {},
   "outputs": [],
   "source": [
    "t = -1\n",
    "def load_order_f():\n",
    "    load_order = {}\n",
    "    for n in range(len(dss.Loads.AllNames())):\n",
    "        dss.Loads.Name(dss.Loads.AllNames()[n])\n",
    "        pattern =  r\"(\\w+)\\.\"\n",
    "        load_bus = re.findall(pattern, dss.CktElement.BusNames()[0])\n",
    "        if load_bus[0] not in load_order:\n",
    "            load_order[load_bus[0]] = 1\n",
    "        elif load_bus[0] in load_order:\n",
    "            load_order[load_bus[0]] += 1\n",
    "    return load_order\n",
    "load_order_list = load_order_f()\n",
    "\n",
    "def load_values():\n",
    "    load_ph_arr = np.zeros((nnode, max(load_order_list.values()), 3))\n",
    "    load_kw_arr_ph = np.zeros((3, nnode))\n",
    "    load_kvar_arr_ph = np.zeros((3, nnode))\n",
    "    if t == -1:\n",
    "        var = 1\n",
    "    else:\n",
    "        var = (1 + 0.1*np.sin(2*np.pi*0.01*t))\n",
    "    for load in range(len(dss.Loads.AllNames())):\n",
    "        dss.Loads.Name(dss.Loads.AllNames()[load])\n",
    "        load_data = dss.CktElement.BusNames()[0].split('.')\n",
    "        idxbs = dss.Circuit.AllBusNames().index(load_data[0])\n",
    "        for ph in range(1, len(load_data)):\n",
    "            load_kw_arr_ph[int(load_data[ph]) - 1, idxbs] += dss.Loads.kW() * 1e3 / Sbase / (len(load_data) - 1)\n",
    "            load_kvar_arr_ph[int(load_data[ph]) - 1, idxbs] += dss.Loads.kvar() * 1e3 / Sbase / (len(load_data) - 1) \n",
    "    return load_kw_arr_ph, load_kvar_arr_ph\n",
    "load_kw_arr_ph, load_kvar_arr_ph = load_values()\n",
    "print(load_kw_arr_ph)\n",
    "print(load_kvar_arr_ph)"
   ]
  },
  {
   "cell_type": "code",
   "execution_count": null,
   "metadata": {},
   "outputs": [],
   "source": [
    "\n",
    "            idxbs = dss.Circuit.AllBusNames().index(cap_data[0])\n",
    "            for ph in range(1, len(cap_data)):\n",
    "                caparr[int(cap_data[ph]) - 1, idxbs] += dss.Capacitors.kvar() * 1e3 / Sbase / (len(cap_data) - 1)\n",
    "        return caparr"
   ]
  },
  {
   "cell_type": "code",
   "execution_count": null,
   "metadata": {},
   "outputs": [],
   "source": [
    "[[0.         0.         0.10384609 0.10384609 0.10384609 0.15576913\n",
    "  0.        ]\n",
    " [0.         0.         0.10384609 0.10384609 0.         0.10384609\n",
    "  0.05192304]\n",
    " [0.         0.         0.10384609 0.10384609 0.10384609 0.\n",
    "  0.        ]]\n",
    "[[0.         0.         0.02596152 0.02596152 0.02596152 0.05192304\n",
    "  0.        ]\n",
    " [0.         0.         0.02596152 0.02596152 0.         0.02596152\n",
    "  0.02596152]\n",
    " [0.         0.         0.02596152 0.02596152 0.02596152 0.\n",
    "  0.        ]]"
   ]
  }
 ],
 "metadata": {
  "kernelspec": {
   "display_name": "Python 3",
   "language": "python",
   "name": "python3"
  },
  "language_info": {
   "codemirror_mode": {
    "name": "ipython",
    "version": 3
   },
   "file_extension": ".py",
   "mimetype": "text/x-python",
   "name": "python",
   "nbconvert_exporter": "python",
   "pygments_lexer": "ipython3",
   "version": "3.6.10"
  }
 },
 "nbformat": 4,
 "nbformat_minor": 4
}
