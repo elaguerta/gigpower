{
 "cells": [
  {
   "cell_type": "code",
   "execution_count": 1,
   "metadata": {
    "scrolled": true
   },
   "outputs": [],
   "source": [
    "import numpy as np\n",
    "import opendssdirect as dss\n",
    "import matplotlib.pyplot as plt\n",
    "import pandas as pdk\n",
    "import re\n",
    "import sys\n",
    "import time\n",
    "import scipy.linalg as spla\n",
    "from lib.compute_KCL_matrices import compute_KCL_matrices\n",
    "from lib.basematricesY import basematrices as BM1\n",
    "from lib.basematrices import basematrices as BM \n",
    "from lib.NR3_Y import NR3_timevarying as n1\n",
    "from lib.NR3_timevarying import NR3_timevarying as n"
   ]
  },
  {
   "cell_type": "markdown",
   "metadata": {},
   "source": [
    "Original NR3"
   ]
  },
  {
   "cell_type": "code",
   "execution_count": 2,
   "metadata": {},
   "outputs": [
    {
     "name": "stdout",
     "output_type": "stream",
     "text": [
      "Iteration number 0.000000\n",
      "Iteration number 1.000000\n",
      "Iteration number 2.000000\n",
      "VNR\n",
      "[[ 1.        +0.00000000e+00j  0.99969566+7.20406127e-04j\n",
      "   0.9994932 +1.17248712e-03j]\n",
      " [-0.5       -8.66025404e-01j -0.49933891-8.66488819e-01j\n",
      "  -0.49895981-8.66509948e-01j]\n",
      " [-0.5       +8.66025404e-01j -0.50072365+8.65528039e-01j\n",
      "  -0.50105707+8.65335819e-01j]]\n",
      "INR:\n",
      "[[ 0.22511018-2.98016442e-02j  0.10005057+1.17367485e-04j]\n",
      " [-0.15129726-1.72505916e-01j -0.06671584-1.05840072e-01j]\n",
      " [-0.0443896 +1.76508443e-01j -0.05011251+8.65453293e-02j]]\n",
      "STXNR:\n",
      "[[0.22511018+2.98016442e-02j 0.1000202 -4.52547236e-05j]\n",
      " [0.22504313+4.47743114e-02j 0.12502306+4.95846653e-03j]\n",
      " [0.17505559+4.98117034e-02j 0.09999993-3.84879379e-05j]]\n",
      "SRXNR:\n",
      "[[0.2250202 +0.02995475j 0.1       +0.j        ]\n",
      " [0.22502306+0.04495847j 0.125     +0.005j     ]\n",
      " [0.17499993+0.04996151j 0.1       +0.j        ]]\n",
      "iNR\n",
      "[[ 0.        +0.j          0.12505961-0.02991901j  0.10007404-0.01989275j]\n",
      " [ 0.        +0.j         -0.08458141-0.06666584j -0.0840495 -0.09585888j]\n",
      " [ 0.        +0.j          0.00572291+0.08996311j -0.03280344+0.09656783j]]\n",
      "sNR\n",
      "[[0.   +0.j    0.125+0.03j  0.1  +0.02j ]\n",
      " [0.   +0.j    0.1  +0.04j  0.125+0.025j]\n",
      " [0.   +0.j    0.075+0.05j  0.1  +0.02j ]]\n"
     ]
    }
   ],
   "source": [
    "t0 = time.time()\n",
    "slackidx = 0\n",
    "Vslack = np.array([1, np.exp(1j*-120*np.pi/180), np.exp(1j*120*np.pi/180)])\n",
    "\n",
    "fn = 'compare_opendss_05node_threephase_unbalanced_oscillation_03.dss'\n",
    "#fn = '06node_threephase_unbalanced.dss'\n",
    "#fn = 'IEEE_13Node_Modified_01.dss'\n",
    "fn = '02node_threephase_unbalanced_new.dss'\n",
    "#fn = '06node_threephase_meshed_unbalanced.dss'\n",
    "times = [-1]\n",
    "der = [0]\n",
    "capacitance =[0]\n",
    "\n",
    "X, g_SB, b_SB, G_KVL, b_KVL, H, g, b = BM(fn, slackidx, Vslack, None, None)\n",
    "\n",
    "   \n",
    "dss.run_command('Redirect ' + fn)\n",
    "nnode = len(dss.Circuit.AllBusNames())\n",
    "nline = len(dss.Lines.AllNames())\n",
    "\n",
    "VNR02 = np.zeros((len(times), 3, nnode), dtype = \"complex\")\n",
    "INR01=  np.zeros((len(times), 3, nline), dtype = \"complex\")\n",
    "STXNR01 = np.zeros((len(times), 3, nline), dtype = \"complex\")\n",
    "SRXNR01 = np.zeros((len(times), 3, nline), dtype = \"complex\")\n",
    "iNR01 = np.zeros((len(times), 3, nnode), dtype = \"complex\")\n",
    "sNR01 = np.zeros((len(times), 3, nnode), dtype = \"complex\")\n",
    "\n",
    "t3 = time.time()\n",
    "\n",
    "for _ in range(1):\n",
    "    VNR, INR, STXNR, SRXNR, iNR, sNR, itercount = n(fn, X, g_SB, b_SB, G_KVL, b_KVL, H, g, b, None, None, 0, 0, 0)    \n",
    "VNR02[0, :, :] = np.reshape(VNR, (3, nnode))\n",
    "\n",
    "t2 = time.time()"
   ]
  },
  {
   "cell_type": "code",
   "execution_count": 3,
   "metadata": {},
   "outputs": [
    {
     "name": "stdout",
     "output_type": "stream",
     "text": [
      "nr3 0.047870635986328125\n",
      "basematrices 0.024291276931762695\n"
     ]
    }
   ],
   "source": [
    "print('nr3',  t2-t3)\n",
    "print( 'basematrices', t3 - t0)"
   ]
  },
  {
   "cell_type": "code",
   "execution_count": 4,
   "metadata": {},
   "outputs": [
    {
     "name": "stdout",
     "output_type": "stream",
     "text": [
      "[[ 1.        +0.00000000e+00j  0.99969566+7.20406127e-04j\n",
      "   0.9994932 +1.17248712e-03j]\n",
      " [-0.5       -8.66025404e-01j -0.49933891-8.66488819e-01j\n",
      "  -0.49895981-8.66509948e-01j]\n",
      " [-0.5       +8.66025404e-01j -0.50072365+8.65528039e-01j\n",
      "  -0.50105707+8.65335819e-01j]]\n"
     ]
    }
   ],
   "source": [
    "print(VNR)"
   ]
  },
  {
   "cell_type": "markdown",
   "metadata": {},
   "source": [
    "Adjusted NR3"
   ]
  },
  {
   "cell_type": "code",
   "execution_count": 5,
   "metadata": {
    "scrolled": true
   },
   "outputs": [
    {
     "name": "stdout",
     "output_type": "stream",
     "text": [
      "Iteration number 0.000000\n",
      "Iteration number 1.000000\n",
      "Iteration number 2.000000\n",
      "Iteration number 3.000000\n",
      "VNR\n",
      "[[ 1.        +0.j          0.98448377+0.00416667j  0.96896754+0.00833333j]\n",
      " [-0.5       -0.8660254j  -0.48863345-0.85467129j -0.47726689-0.84331717j]\n",
      " [-0.5       +0.8660254j  -0.49585032+0.85050462j -0.49170065+0.83498384j]]\n"
     ]
    }
   ],
   "source": [
    "t0 = time.time()\n",
    "slackidx = 0\n",
    "Vslack = np.array([1, np.exp(1j*-120*np.pi/180), np.exp(1j*120*np.pi/180)])\n",
    "\n",
    "fn = 'compare_opendss_05node_threephase_unbalanced_oscillation_03.dss'\n",
    "#fn = '06node_threephase_unbalanced.dss'\n",
    "#fn = 'IEEE_13Node_Modified_01.dss'\n",
    "fn = '02node_threephase_unbalanced_new.dss'\n",
    "#fn = '06node_threephase_meshed_unbalanced.dss'\n",
    "times = [-1]\n",
    "der = [0]\n",
    "capacitance =[0]\n",
    "\n",
    "X, g_SB, b_SB, H, g, b = BM1(fn, slackidx, Vslack, None, None)\n",
    " \n",
    "dss.run_command('Redirect ' + fn)\n",
    "nnode = len(dss.Circuit.AllBusNames())\n",
    "nline = len(dss.Lines.AllNames())\n",
    "\n",
    "VNR01 = np.zeros((len(times), 3, nnode), dtype = \"complex\")\n",
    "INR01=  np.zeros((len(times), 3, nline), dtype = \"complex\")\n",
    "STXNR01 = np.zeros((len(times), 3, nline), dtype = \"complex\")\n",
    "SRXNR01 = np.zeros((len(times), 3, nline), dtype = \"complex\")\n",
    "iNR01 = np.zeros((len(times), 3, nnode), dtype = \"complex\")\n",
    "sNR01 = np.zeros((len(times), 3, nnode), dtype = \"complex\")\n",
    "\n",
    "t3 = time.time()\n",
    "for _ in range(1):\n",
    "    # Run NR3 with variations in time, DER, and capacitance\n",
    "# VNR, INR, STXNR, SRXNR, iNR, sNR, itercount = \\\n",
    "    VNR = n1(fn, X, g_SB, b_SB, H, g, b, None, None, 0, 0, 0)    \n",
    "VNR01[0, :, :] = np.reshape(VNR, (3, nnode))\n",
    "\n",
    "t2 = time.time()"
   ]
  },
  {
   "cell_type": "code",
   "execution_count": 6,
   "metadata": {},
   "outputs": [
    {
     "name": "stdout",
     "output_type": "stream",
     "text": [
      "[[ 1.        +0.j          0.98448377+0.00416667j  0.96896754+0.00833333j]\n",
      " [-0.5       -0.8660254j  -0.48863345-0.85467129j -0.47726689-0.84331717j]\n",
      " [-0.5       +0.8660254j  -0.49585032+0.85050462j -0.49170065+0.83498384j]]\n"
     ]
    }
   ],
   "source": [
    "print(VNR)"
   ]
  },
  {
   "cell_type": "code",
   "execution_count": 7,
   "metadata": {
    "scrolled": true
   },
   "outputs": [
    {
     "name": "stdout",
     "output_type": "stream",
     "text": [
      "nr3 0.017260313034057617\n",
      "basematrices 0.030970096588134766\n"
     ]
    }
   ],
   "source": [
    "print('nr3',  t2-t3)\n",
    "print( 'basematrices', t3 - t0)"
   ]
  },
  {
   "cell_type": "markdown",
   "metadata": {},
   "source": [
    "OpenDSS Solution"
   ]
  },
  {
   "cell_type": "code",
   "execution_count": 8,
   "metadata": {
    "scrolled": true
   },
   "outputs": [
    {
     "name": "stdout",
     "output_type": "stream",
     "text": [
      "Initial Model Converged. Proceeding to Next Step.\n",
      "OpenDSS Model Compliation Done.\n",
      "Iterations:  2\n",
      "Tolerance:  1e-12\n",
      "\n",
      "True\n",
      "3\n",
      "['sourcebus', 'a01', 'a02']\n",
      "6\n",
      "['load_a01_a_01', 'load_a01_b_01', 'load_a01_c_01', 'load_a02_a_01', 'load_a02_b_01', 'load_a02_c_01']\n",
      "\n",
      "VDSS\n",
      " [[ 0.999999-3.00000e-06j  0.      +0.00000e+00j  0.      +0.00000e+00j]\n",
      " [-0.500002-8.66023e-01j  0.      +0.00000e+00j  0.      +0.00000e+00j]\n",
      " [-0.499997+8.66025e-01j  0.      +0.00000e+00j  0.      +0.00000e+00j]]\n",
      "VDSS\n",
      " [[ 0.999999-3.00000e-06j  0.999694+7.17000e-04j  0.      +0.00000e+00j]\n",
      " [-0.500002-8.66023e-01j -0.499341-8.66486e-01j  0.      +0.00000e+00j]\n",
      " [-0.499997+8.66025e-01j -0.500721+8.65528e-01j  0.      +0.00000e+00j]]\n",
      "VDSS\n",
      " [[ 0.999999-3.00000e-06j  0.999694+7.17000e-04j  0.999492+1.16900e-03j]\n",
      " [-0.500002-8.66023e-01j -0.499341-8.66486e-01j -0.498962-8.66507e-01j]\n",
      " [-0.499997+8.66025e-01j -0.500721+8.65528e-01j -0.501054+8.65336e-01j]]\n"
     ]
    }
   ],
   "source": [
    "dss.run_command('Redirect compare_opendss_05node_threephase_unbalanced_oscillation_03.dss')\n",
    "#dss.run_command('Redirect 06node_threephase_unbalanced.dss') \n",
    "#dss.run_command('Redirect IEEE_13Node_Modified_01.dss')\n",
    "#dss.run_command('Redirect 06node_threephase_meshed_unbalanced.dss')\n",
    "dss.run_command('Redirect 02node_threephase_unbalanced_new.dss')\n",
    "\n",
    "VDSS0 = np.zeros((len(times), 3, nnode), dtype = \"complex\")\n",
    "IDSS0 =  np.zeros((len(times), 3, nline), dtype=\"complex\")\n",
    "SRXDSS0 = np.zeros((len(times), 3, nline), dtype=\"complex\")\n",
    "STXDSS0 = np.zeros((len(times), 3, nline), dtype=\"complex\")\n",
    "load_arr = np.zeros((len(times), 3, nnode), dtype='complex')\n",
    "\n",
    "kW_list = np.array([])\n",
    "kvar_list = np.array([])\n",
    "\n",
    "dss.Circuit.SetActiveBus(dss.Circuit.AllBusNames()[0])\n",
    "Vbase = dss.Bus.kVBase() * 1000\n",
    "Sbase = 1000000.0\n",
    "Ibase = Sbase/Vbase\n",
    "Zbase = Vbase/Ibase\n",
    "\n",
    "# Set slack bus (sourcebus) voltage reference in p.u.\n",
    "SlackBusVoltage = 1.000\n",
    "dss.Vsources.PU(SlackBusVoltage)\n",
    "\n",
    "dss.Solution.Convergence(0.000000000001)\n",
    "t4 = time.time()\n",
    "# Solve power flow with OpenDSS file\n",
    "for _ in range(1):\n",
    "    dss.Solution.Solve()\n",
    "    if not dss.Solution.Converged:\n",
    "        print('Initial Solution Not Converged. Check Model for Convergence')\n",
    "    else:\n",
    "        print('Initial Model Converged. Proceeding to Next Step.')\n",
    "        #Doing this solve command is required for GridPV, that is why the monitors\n",
    "        #go under a reset process\n",
    "        dss.Monitors.ResetAll()\n",
    "\n",
    "        # set solution Params\n",
    "        #setSolutionParams(dss,'daily',1,1,'off',1000000,30000)\n",
    "        dss.Solution.Mode(1)\n",
    "        dss.Solution.Number(1)\n",
    "        dss.Solution.StepSize(1)\n",
    "        dss.Solution.ControlMode(-1)\n",
    "        dss.Solution.MaxControlIterations(1000000)\n",
    "        dss.Solution.MaxIterations(30000)\n",
    "        # Easy process to get all names and count of loads, a trick to avoid\n",
    "        # some more lines of code\n",
    "        TotalLoads=dss.Loads.Count()\n",
    "        AllLoadNames=dss.Loads.AllNames()\n",
    "        print('OpenDSS Model Compliation Done.')\n",
    "        print('Iterations: ', dss.Solution.Iterations())\n",
    "        print('Tolerance: ', dss.Solution.Convergence())\n",
    "\n",
    "    print('')\n",
    "\n",
    "t5=time.time()\n",
    "print(dss.Solution.Converged())\n",
    "\n",
    "# Print number of buses, and bus names\n",
    "print(len(dss.Circuit.AllBusNames()))\n",
    "print(dss.Circuit.AllBusNames())\n",
    "\n",
    "# Print number of loads, and load names\n",
    "print(len(dss.Loads.AllNames()))\n",
    "print(dss.Loads.AllNames())\n",
    "\n",
    "print('')\n",
    "\n",
    "VDSS = np.zeros((3,len(dss.Circuit.AllBusNames())),dtype='complex')\n",
    "\n",
    "for k1 in range(len(dss.Circuit.AllBusNames())):\n",
    "\n",
    "    dss.Circuit.SetActiveBus(dss.Circuit.AllBusNames()[k1])\n",
    "\n",
    "#     print(dss.Circuit.AllBusNames()[k1])\n",
    "#     print(dss.Bus.Nodes())\n",
    "\n",
    "#     print('puVOTLAGES - LN CARTESIAN')\n",
    "#     print(dss.Bus.PuVoltage())\n",
    "\n",
    "    ph = np.asarray(dss.Bus.Nodes(),dtype='int')-1\n",
    "\n",
    "    Vtemp = np.asarray(dss.Bus.PuVoltage())\n",
    "\n",
    "    Vtemp = Vtemp[0:nnode*2-1:2] + 1j*Vtemp[1:nnode*2:2]\n",
    "\n",
    "\n",
    "#     print(np.asarray(dss.Bus.Nodes(),'int'))\n",
    "\n",
    "    VDSS[ph,k1] = Vtemp    \n",
    "\n",
    "#     VDSS[np.asarray(dss.Bus.Nodes(),'int'),k1] = np.array(dss.Bus.PuVoltage()[0:5:2] + 1j*dss.Bus.PuVoltage()[1:6:2])\n",
    "\n",
    "\n",
    "#     VDSS[dss.Bus.Nodes()-1,k1] = dss.Bus.PuVoltage()[0:2:5]\n",
    "#     for k2 in range(len(dss.Bus.Nodes())):\n",
    "#         VDSS[int(dss.Bus.Nodes()[k2])-1,k1] = dss.Bus.PuVoltage()[2*k2] + 1j*dss.Bus.PuVoltage()[2*k2+1]\n",
    "\n",
    "    print('VDSS\\n', np.round(VDSS,decimals=6))\n",
    "VDSS0[0, :, :] = VDSS\n",
    "\n",
    "#     IDSS = np.zeros((3,len(dss.Lines.AllNames())),dtype='complex')\n",
    "\n",
    "#     for k1 in range(len(dss.Lines.AllNames())):\n",
    "#         dss.Lines.Name(dss.Lines.AllNames()[k1])\n",
    "#     #     print(dss.Lines.AllNames()[k1])\n",
    "#         ph = np.asarray(dss.CktElement.BusNames()[0].split('.')[1:], dtype='int')-1\n",
    "#         Imn = np.asarray(dss.CktElement.Currents())/Ibase\n",
    "#     #     print(Imn)\n",
    "#         Imn = Imn[0:int(len(Imn)/2)]\n",
    "#     #     print(Imn)\n",
    "#         Imn = Imn[0:(len(ph)*2)-1:2] + 1j*Imn[1:len(ph)*2:2]\n",
    "#     #     print(Imn)\n",
    "#         IDSS[ph,k1] = Imn\n",
    "#     #     print('')\n",
    "\n",
    "#     print('IDSS\\n', np.round(IDSS,decimals=6))\n",
    "\n",
    "#     STXDSS = np.zeros((3,len(dss.Lines.AllNames())),dtype='complex')\n",
    "#     SRXDSS = np.zeros((3,len(dss.Lines.AllNames())),dtype='complex')\n",
    "\n",
    "#     for k1 in range(len(dss.Lines.AllNames())):\n",
    "#         dss.Lines.Name(dss.Lines.AllNames()[k1])\n",
    "#         ph = np.asarray(dss.CktElement.BusNames()[0].split('.')[1:], dtype='int')-1\n",
    "#         Sk = np.asarray(dss.CktElement.Powers())/(Sbase/1000)\n",
    "\n",
    "#         STXtemp = Sk[0:int(len(Sk)/2)]\n",
    "#         SRXtemp = Sk[int(len(Sk)/2):]\n",
    "\n",
    "#         STXtemp = STXtemp[0:len(ph)*2-1:2] + 1j*STXtemp[1:len(ph)*2:2]\n",
    "#         SRXtemp = -(SRXtemp[0:len(ph)*2-1:2] + 1j*SRXtemp[1:len(ph)*2:2])\n",
    "\n",
    "#         STXDSS[ph,k1] = STXtemp\n",
    "#         SRXDSS[ph,k1] = SRXtemp\n",
    "\n",
    "#VDSS0[i, :, :] = VDSS\n",
    "#     IDSS0[i, :, :] = IDSS\n",
    "#     SRXDSS0[i, :, :] = SRXDSS\n",
    "#     STXDSS0[i, :, :] = STXDSS\n",
    "\n",
    "\n",
    "#     print('STXDSS\\n', np.round(STXDSS,decimals=6))\n",
    "#     print('SRXDSS\\n', np.round(SRXDSS,decimals=6))\n",
    "\n",
    "#     print('|VDSS|\\n', np.round(np.abs(VDSS),decimals=6))\n",
    "#     print('<VDSS\\n', np.round(180/np.pi*np.angle(VDSS),decimals=6))\n",
    "#     print('D<VDSS\\n', 180/np.pi*np.angle(VDSS) - 180/np.pi*np.angle(VDSS[:,[0]]))\n"
   ]
  },
  {
   "cell_type": "code",
   "execution_count": 9,
   "metadata": {},
   "outputs": [
    {
     "data": {
      "text/plain": [
       "0.0004551410675048828"
      ]
     },
     "execution_count": 9,
     "metadata": {},
     "output_type": "execute_result"
    }
   ],
   "source": [
    "t5-t4"
   ]
  },
  {
   "cell_type": "markdown",
   "metadata": {},
   "source": [
    "Comparing results between three solutions - DSS, 01 (vectorized), 02 (nonvectorized)"
   ]
  },
  {
   "cell_type": "code",
   "execution_count": 10,
   "metadata": {
    "scrolled": false
   },
   "outputs": [
    {
     "name": "stdout",
     "output_type": "stream",
     "text": [
      "Timestep 0 \n",
      "\n",
      "Complex Voltage difference\n",
      "0.03176062897825715\n",
      "3.6044738542345292e-06\n",
      "0.031761378925861825\n"
     ]
    }
   ],
   "source": [
    "for i in range(len(times)):\n",
    "    print(\"Timestep %d \\n\" % i)\n",
    "    print('Complex Voltage difference')\n",
    "    #print(np.max(np.abs(VNR01[i] - VNR02[i])))\n",
    "    print(np.max(np.abs(VDSS0[i] - VNR01[i])))  #dss vs adjusted\n",
    "    print(np.max(np.abs(VDSS0[i] - VNR02[i]))) #dss vs original\n",
    "    print(np.max(np.abs(VNR01[i] - VNR02[i]))) #original vs adjusted\n",
    "\n",
    "#     print('Complex Current difference')\n",
    "#     print(np.max(np.abs(IDSS0[i] - INR01[i])))\n",
    "    \n",
    "#     print('Complex TX Power difference')\n",
    "#     print(np.max(np.abs(STXDSS0[i] - STXNR01[i])))\n",
    "    \n",
    "#     print('Complex RX Power difference')\n",
    "#     print(np.max(np.abs(SRXDSS0[i] - SRXNR01[i])))\n",
    "    \n",
    "#     print('Voltage Magnitude difference')\n",
    "#     print(np.max(np.abs(np.abs(VDSS0[i]) - np.abs(VNR01[i]))))\n",
    "    \n",
    "#     print('Voltage Angle difference')\n",
    "#     print(np.max(np.abs(180/np.pi*np.angle(VDSS0[i]) - 180/np.pi*np.angle(VNR01[i]))))\n",
    "#     print(\"\\n\")"
   ]
  },
  {
   "cell_type": "code",
   "execution_count": null,
   "metadata": {},
   "outputs": [],
   "source": []
  },
  {
   "cell_type": "markdown",
   "metadata": {},
   "source": [
    "Load comparison between non-vectorized and OpenDSS"
   ]
  },
  {
   "cell_type": "code",
   "execution_count": null,
   "metadata": {},
   "outputs": [],
   "source": [
    "for i in range(len(times)):\n",
    "    print(\"Timestep %d \\n Magnitude of the Difference: \\n\" % i)\n",
    "    print(np.abs(spah[i] - load_arr[i]))\n",
    "    print(\"Max difference: \\n \")\n",
    "    print(np.max(np.abs(spah[i] - load_arr[i])))\n",
    "    print(\"\\n\")"
   ]
  },
  {
   "cell_type": "code",
   "execution_count": null,
   "metadata": {},
   "outputs": [],
   "source": [
    "dss.run_command('Redirect IEEE_13Node_Modified_01.dss')\n",
    "dss.run_command('Redirect 02node_threephase_unbalanced_new.dss')\n",
    "for i in range(len(dss.Loads.AllNames())):\n",
    "    dss.Loads.Name(dss.Loads.AllNames()[i])\n",
    "    print(dss.Loads.kW())\n",
    "    print(dss.Loads.kvar())\n",
    "    print(dss.CktElement.Powers())"
   ]
  },
  {
   "cell_type": "markdown",
   "metadata": {},
   "source": [
    "---"
   ]
  },
  {
   "cell_type": "code",
   "execution_count": null,
   "metadata": {},
   "outputs": [],
   "source": [
    "t = -1\n",
    "def load_order_f():\n",
    "    load_order = {}\n",
    "    for n in range(len(dss.Loads.AllNames())):\n",
    "        dss.Loads.Name(dss.Loads.AllNames()[n])\n",
    "        pattern =  r\"(\\w+)\\.\"\n",
    "        load_bus = re.findall(pattern, dss.CktElement.BusNames()[0])\n",
    "        if load_bus[0] not in load_order:\n",
    "            load_order[load_bus[0]] = 1\n",
    "        elif load_bus[0] in load_order:\n",
    "            load_order[load_bus[0]] += 1\n",
    "    return load_order\n",
    "load_order_list = load_order_f()\n",
    "\n",
    "def load_values():\n",
    "    load_ph_arr = np.zeros((nnode, max(load_order_list.values()), 3))\n",
    "    load_kw_arr_ph = np.zeros((3, nnode))\n",
    "    load_kvar_arr_ph = np.zeros((3, nnode))\n",
    "    if t == -1:\n",
    "        var = 1\n",
    "    else:\n",
    "        var = (1 + 0.1*np.sin(2*np.pi*0.01*t))\n",
    "    for load in range(len(dss.Loads.AllNames())):\n",
    "        dss.Loads.Name(dss.Loads.AllNames()[load])\n",
    "        load_data = dss.CktElement.BusNames()[0].split('.')\n",
    "        idxbs = dss.Circuit.AllBusNames().index(load_data[0])\n",
    "        for ph in range(1, len(load_data)):\n",
    "            load_kw_arr_ph[int(load_data[ph]) - 1, idxbs] += dss.Loads.kW() * 1e3 / Sbase / (len(load_data) - 1)\n",
    "            load_kvar_arr_ph[int(load_data[ph]) - 1, idxbs] += dss.Loads.kvar() * 1e3 / Sbase / (len(load_data) - 1) \n",
    "    return load_kw_arr_ph, load_kvar_arr_ph\n",
    "load_kw_arr_ph, load_kvar_arr_ph = load_values()\n",
    "print(load_kw_arr_ph)\n",
    "print(load_kvar_arr_ph)"
   ]
  },
  {
   "cell_type": "code",
   "execution_count": null,
   "metadata": {},
   "outputs": [],
   "source": [
    "\n",
    "            idxbs = dss.Circuit.AllBusNames().index(cap_data[0])\n",
    "            for ph in range(1, len(cap_data)):\n",
    "                caparr[int(cap_data[ph]) - 1, idxbs] += dss.Capacitors.kvar() * 1e3 / Sbase / (len(cap_data) - 1)\n",
    "        return caparr"
   ]
  },
  {
   "cell_type": "code",
   "execution_count": null,
   "metadata": {},
   "outputs": [],
   "source": [
    "[[0.         0.         0.10384609 0.10384609 0.10384609 0.15576913\n",
    "  0.        ]\n",
    " [0.         0.         0.10384609 0.10384609 0.         0.10384609\n",
    "  0.05192304]\n",
    " [0.         0.         0.10384609 0.10384609 0.10384609 0.\n",
    "  0.        ]]\n",
    "[[0.         0.         0.02596152 0.02596152 0.02596152 0.05192304\n",
    "  0.        ]\n",
    " [0.         0.         0.02596152 0.02596152 0.         0.02596152\n",
    "  0.02596152]\n",
    " [0.         0.         0.02596152 0.02596152 0.02596152 0.\n",
    "  0.        ]]"
   ]
  }
 ],
 "metadata": {
  "kernelspec": {
   "display_name": "Python 3",
   "language": "python",
   "name": "python3"
  },
  "language_info": {
   "codemirror_mode": {
    "name": "ipython",
    "version": 3
   },
   "file_extension": ".py",
   "mimetype": "text/x-python",
   "name": "python",
   "nbconvert_exporter": "python",
   "pygments_lexer": "ipython3",
   "version": "3.8.5"
  }
 },
 "nbformat": 4,
 "nbformat_minor": 4
}
