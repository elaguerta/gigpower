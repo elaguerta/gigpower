{
 "cells": [
  {
   "cell_type": "code",
   "execution_count": 1,
   "metadata": {},
   "outputs": [],
   "source": [
    "import numpy as np\n",
    "import opendssdirect as dss\n",
    "import matplotlib.pyplot as plt\n",
    "from math import tan,acos\n",
    "import copy\n",
    "import pandas as pd\n",
    "import time"
   ]
  },
  {
   "cell_type": "code",
   "execution_count": 13,
   "metadata": {},
   "outputs": [
    {
     "name": "stdout",
     "output_type": "stream",
     "text": [
      "[0.978981008922533, -0.03607562276312972]\n",
      "[0.9780365487900556, -0.03637339855362984]\n",
      "[0.9766191091516299, -0.03682003814646333]\n",
      "[0.9761466164673943, -0.0369688968906493]\n",
      "[0.9761463844956999, -0.0369689190707476]\n",
      "[0.9756736404025569, -0.03711776830268693]\n",
      "\n",
      "\n",
      "[ 0.97898101 -0.03607562  0.97803655 -0.0363734   0.97661911 -0.03682004\n",
      "  0.97614662 -0.0369689   0.97614638 -0.03696892  0.97567364 -0.03711777]\n"
     ]
    }
   ],
   "source": [
    "dss.run_command('Redirect 05node_singlephase_balanced_oscillation_03.dss')\n",
    "dss.Solution.Solve()\n",
    "\n",
    "AB = np.array([])\n",
    "line_names = dss.Lines.AllNames()\n",
    "\n",
    "\n",
    "for k1 in range(len(dss.Circuit.AllBusNames())):\n",
    "    dss.Circuit.SetActiveBus(dss.Circuit.AllBusNames()[k1])\n",
    "    if dss.Circuit.AllBusNames()[k1] == 'sourcebus':\n",
    "        source_voltage = dss.Bus.PuVoltage()\n",
    "    else:     \n",
    "        AB = np.append(AB, dss.Bus.PuVoltage())\n",
    "        print(dss.Bus.PuVoltage()) #aren't there supposed to be 3 phases of voltage\n",
    "print('\\n')\n",
    "print(AB)"
   ]
  },
  {
   "cell_type": "markdown",
   "metadata": {},
   "source": [
    "### XNR"
   ]
  },
  {
   "cell_type": "code",
   "execution_count": 4,
   "metadata": {},
   "outputs": [],
   "source": [
    "nnode = len(dss.Circuit.AllBusNames())\n",
    "nline = len(dss.Lines.AllNames())\n",
    "\n",
    "\n",
    "XNR = AB.copy()\n",
    "        \n",
    "# for ph in range(0,3):\n",
    "#     for k1 in range(0, nline):\n",
    "#         XNR[2*3*nnode + 2*ph*nline + 2*k1] = I0[2 * ph]\n",
    "#         XNR[2*3*nnode + 2*ph*nline + 2*k1+1] = I0[2 * ph + 1]\n",
    "I0 = np.array([])\n",
    "\n",
    "for k2 in range(len(dss.Lines.AllNames())):\n",
    "    dss.Lines.Name(dss.Lines.AllNames()[k2])\n",
    "    I0 = np.append(I0, dss.CktElement.Currents()) \n",
    "    \n",
    "\n",
    "XNR = np.append(XNR, I0)"
   ]
  },
  {
   "cell_type": "markdown",
   "metadata": {},
   "source": [
    "### Slack Bus"
   ]
  },
  {
   "cell_type": "markdown",
   "metadata": {},
   "source": [
    "$$ \\delta_{SBRE,m} = A_{m}^{\\phi} - \\Re \\left\\{ V_{sl}^{\\phi} \\right\\} \\\\\n",
    "\\delta_{SBIM,m} = B_{m}^{\\phi} - \\Im \\left\\{ V_{sl}^{\\phi} \\right\\} $$"
   ]
  },
  {
   "cell_type": "code",
   "execution_count": 5,
   "metadata": {},
   "outputs": [
    {
     "name": "stdout",
     "output_type": "stream",
     "text": [
      "[-0.02101584 -0.03607049  1.47898098  0.82994945  1.47898098 -0.90210136\n",
      " -0.0219603  -0.03636826  1.47803652  0.82965167  1.47803652 -0.90239913\n",
      " -0.02337774 -0.0368149   1.47661908  0.82920503  1.47661908 -0.90284577\n",
      " -0.02385023 -0.03696376  1.47614658  0.82905618  1.47614658 -0.90299463\n",
      " -0.02385046 -0.03696378  1.47614635  0.82905615  1.47614635 -0.90299465\n",
      " -0.02432321 -0.03711263  1.47567361  0.8289073   1.47567361 -0.9031435\n",
      "  0.          0.          0.          0.          0.          0.        ]\n"
     ]
    }
   ],
   "source": [
    "#G_Slack\n",
    "G_slack = np.zeros(nnode * 2 * 3) #nnode * 2parts *3phases\n",
    "\n",
    "real_slack = source_voltage[::2] \n",
    "imag_slack = source_voltage[1::2]\n",
    "\n",
    "counter = 0\n",
    "for n in range(0, len(AB), 2):\n",
    "    for j in range(0, len(real_slack)):\n",
    "        G_slack[counter] = AB[n] - real_slack[j]\n",
    "        G_slack[counter + 1] = AB[n+1] - imag_slack[j]\n",
    "        counter += 2\n",
    "        \n",
    "print(G_slack)\n"
   ]
  },
  {
   "cell_type": "code",
   "execution_count": 6,
   "metadata": {},
   "outputs": [],
   "source": [
    "#b_slack\n",
    "b_slack = np.zeros(G_slack.size)\n"
   ]
  },
  {
   "cell_type": "markdown",
   "metadata": {},
   "source": [
    "### KVL"
   ]
  },
  {
   "cell_type": "markdown",
   "metadata": {},
   "source": [
    "$$ \\begin{align}\n",
    "\\delta_{KVLRE,mn}^{\\phi} = A_{m}^{\\phi} - A_{n}^{\\phi} - \\sum_{\\psi} r_{mn}^{\\phi \\psi} C_{mn}^{\\psi} - x_{mn}^{\\phi \\psi} D_{mn}^{\\psi}  \\\\\n",
    "\\delta_{KVLIM,mn}^{\\phi} = B_{m}^{\\phi} - B_{n}^{\\phi} - \\sum_{\\psi} r_{mn}^{\\phi \\psi} D_{mn}^{\\psi} + x_{mn}^{\\phi \\psi} C_{mn}^{\\psi}\n",
    "\\end{align}\n",
    "$$"
   ]
  },
  {
   "cell_type": "code",
   "execution_count": 7,
   "metadata": {},
   "outputs": [
    {
     "name": "stdout",
     "output_type": "stream",
     "text": [
      "[ 0.          0.          0.          0.          0.         -1.76749136\n",
      "  1.76935007 -0.82494471  0.82549626 -3.5354542   3.53822865 -2.65198101\n",
      "  2.6547555  -1.65003833  1.65084361 -1.23736129  1.23816666 -3.53639915\n",
      "  3.5372837  -2.65292596  2.65381055 -0.88397339  0.88485802 -1.65033611\n",
      "  1.65054583 -1.23765907  1.23786888 -0.41242452  0.4126344  -3.53639891\n",
      "  3.53728394 -2.65292572  2.65381078 -0.88397316  0.88485825 -0.88427715\n",
      "  0.88516224 -1.65033609  1.65054586 -1.23765905  1.2378689  -0.4124245\n",
      "  0.41263442 -0.41248597  0.41269589 -3.53639889  3.53728395 -2.6529257\n",
      "  2.6538108  -0.88397314  0.88485827 -0.88427713  0.88516226 -0.88421677\n",
      "  0.88510191 -1.65033612  1.65054582 -1.23765908  1.23786887 -0.41242453\n",
      "  0.41263439 -0.412486    0.41269586 -0.41239816  0.41260804]\n"
     ]
    }
   ],
   "source": [
    "#GKVL\n",
    "G_KVL = np.zeros((len(line_names)))\n",
    "\n",
    "C_mn = np.array([])\n",
    "D_mn = np.array([])\n",
    "for k2 in range(len(dss.Lines.AllNames())):\n",
    "   \n",
    "    dss.Lines.Name(dss.Lines.AllNames()[k2]) #set the line\n",
    "    bus1 = dss.Lines.Bus1() #get start bus\n",
    "    bus2 = dss.Lines.Bus2() #get end bus\n",
    "    \n",
    "\n",
    "    dss.Circuit.SetActiveBus(bus1) #set active bus to bus 1\n",
    "    linecode = dss.Lines.LineCode() #get the linecode\n",
    "    dss.LineCodes.Name(linecode) #set the linecode\n",
    "    xmat = dss.LineCodes.Xmatrix() #get the xmat\n",
    "    rmat = dss.LineCodes.Rmatrix() #get the rmat\n",
    "    volts = dss.Bus.PuVoltage() #get bus1's puVoltage\n",
    "    A_m = volts[0] #split into re/im parts\n",
    "    B_m = volts[1]\n",
    "    \n",
    "    for i in range(0, len(dss.CktElement.Currents()), 2): #get the currents of the line\n",
    "        C_mn = np.append(C_mn, dss.CktElement.Currents()[i])\n",
    "        D_mn = np.append(D_mn, dss.CktElement.Currents()[i+1])\n",
    "\n",
    "    dss.Circuit.SetActiveBus(bus2)  #set active bus to bus 2\n",
    "    volts = dss.Bus.PuVoltage() #get bus2's puVoltage\n",
    "    A_n = volts[0] #split into re/im parts\n",
    "    B_n = volts[1]\n",
    "  \n",
    "    re_residual = 0 #calculate the residuals\n",
    "    im_residual = 0\n",
    "    \n",
    "    for i in range(len(C_mn)): #compute the summation part of the residual\n",
    "        re_sum = re_residual + (rmat * C_mn + xmat * D_mn)\n",
    "        im_sum = im_residual + (rmat * D_mn + xmat * C_mn)\n",
    "        \n",
    "    re_residual = A_m - A_n - (re_sum) #subtract real/imag volt parts from current\n",
    "    im_residual = B_m - B_n - (im_sum)\n",
    "    G_KVL = np.append(G_KVL, [re_residual, im_residual]) #add these residuals to G_KVL\n",
    "    \n",
    "    \n",
    "    #Is G_KVL the right shape?\n",
    "    #Am I properly calculating the summation? \n",
    "    #Does this work for 3 phase stuff? And what if the resistance is not just a scalar... ? \n",
    "print(G_KVL) \n"
   ]
  },
  {
   "cell_type": "code",
   "execution_count": 8,
   "metadata": {},
   "outputs": [],
   "source": [
    "b_kvl = np.zeros(len(G_KVL))"
   ]
  },
  {
   "cell_type": "markdown",
   "metadata": {},
   "source": [
    "### KCL"
   ]
  },
  {
   "cell_type": "markdown",
   "metadata": {},
   "source": [
    "$$ u_{m}^{\\phi}, c_{m}^{\\phi},  v_{m}^{\\phi} $$"
   ]
  },
  {
   "cell_type": "code",
   "execution_count": 9,
   "metadata": {},
   "outputs": [
    {
     "name": "stdout",
     "output_type": "stream",
     "text": [
      "[400.86952425 300.52193293 100.04347184 100.08704694 100.04351301]\n",
      "[100.54097781  75.31701525  25.02125016  25.04256833  25.02128517]\n"
     ]
    }
   ],
   "source": [
    "#b_k\n",
    "cap_names = dss.CapControls.AllNames() #i don't see a method to get capacitance\n",
    "active_power = np.array([])\n",
    "reactive_power = np.array([])\n",
    "\n",
    "for k1 in range(len(dss.Lines.AllNames())):\n",
    "    dss.Lines.Name(dss.Lines.AllNames()[k1])\n",
    "    Sk = dss.CktElement.Powers()\n",
    "  \n",
    "    active_power = np.append(active_power, Sk[0])\n",
    "    reactive_power = np.append(reactive_power, Sk[1])\n",
    "    \n",
    "print(active_power)\n",
    "print(reactive_power)\n"
   ]
  },
  {
   "cell_type": "markdown",
   "metadata": {},
   "source": [
    "$$\\sum_{l:(l,m) \\in \\mathcal{E}} \\left( A_{m}^{\\phi} C_{lm}^{\\phi} + B_{m}^{\\phi} D_{lm}^{\\phi} \\right)\n",
    "-\n",
    "\\sum_{n:(m,n) \\in \\mathcal{E}} \\left( A_{m}^{\\phi} C_{mn}^{\\phi} + B_{m}^{\\phi} D_{mn}^{\\phi} \\right)$$"
   ]
  },
  {
   "cell_type": "code",
   "execution_count": 10,
   "metadata": {},
   "outputs": [
    {
     "name": "stdout",
     "output_type": "stream",
     "text": [
      "a03\n",
      "['line_a02_a03']\n",
      "['line_a03_a04' 'line_a03_a05']\n"
     ]
    }
   ],
   "source": [
    "def linelist(busname):\n",
    "    print(busname)\n",
    "    in_lines = np.array([])\n",
    "    out_lines = np.array([])\n",
    "    for k in range(len(dss.Lines.AllNames())):\n",
    "        dss.Lines.Name(dss.Lines.AllNames()[k])\n",
    "        if busname in dss.Lines.Bus1():\n",
    "            out_lines = np.append(out_lines, dss.Lines.AllNames()[k])\n",
    "        elif busname in dss.Lines.Bus2():\n",
    "            in_lines = np.append(in_lines,dss.Lines.AllNames()[k])\n",
    "    return in_lines,out_lines\n",
    "        \n",
    "il , ol = linelist(dss.Circuit.AllBusNames()[3])\n",
    "print(il)\n",
    "print(ol)"
   ]
  },
  {
   "cell_type": "code",
   "execution_count": 11,
   "metadata": {},
   "outputs": [
    {
     "name": "stdout",
     "output_type": "stream",
     "text": [
      "sourcebus\n",
      "a01\n",
      "a02\n",
      "a03\n",
      "a04\n",
      "a05\n",
      "a06\n"
     ]
    }
   ],
   "source": [
    "#the summation part of the KCL residual\n",
    "G_kcl = np.array([])\n",
    "\n",
    "for k2 in range(len(dss.Circuit.AllBusNames())):\n",
    "    dss.Circuit.SetActiveBus(dss.Circuit.AllBusNames()[k2]) #set active bus to bus 1\n",
    "    #linelist = dss.Bus.LineList()\n",
    "    \n",
    "    volts = dss.Bus.PuVoltage() #get bus1's puVoltage\n",
    "    A_m = volts[0] #split into re/im parts\n",
    "    B_m = volts[1]\n",
    "    \n",
    "    #get in and out lines of bus[k2]\n",
    "    in_lines, out_lines = linelist(dss.Circuit.AllBusNames()[k2])\n",
    "    \n",
    "    C_lm = np.array([]) #get incoming current re/im parts\n",
    "    D_lm = np.array([])\n",
    "    \n",
    "    for i in range(len(in_lines)):\n",
    "        try: \n",
    "            dss.Lines.Name(in_lines[i])\n",
    "            v_i = dss.CktElement.Currents()\n",
    "            for n in range(0, len(v), 2):\n",
    "                C_lm = np.append(C_lm, v_i[n])\n",
    "                D_lm = np.append(D_lm, v_i[n+1])\n",
    "            print(v)\n",
    "        except:\n",
    "            pass\n",
    "        \n",
    "    C_mn= np.array([]) #get outgoing current re/im parts\n",
    "    D_mn = np.array([])\n",
    "    \n",
    "    for i in range(len(out_lines)):\n",
    "        try: \n",
    "            dss.Lines.Name(out_lines[i])\n",
    "            v_o = dss.CktElement.Currents()\n",
    "            for n in range(0, len(v), 2):\n",
    "                C_mn = np.append(C_mn, v_o[n])\n",
    "                D_mn = np.append(D_mn, v_o[n+1])\n",
    "            print(v)\n",
    "        except:\n",
    "            pass\n",
    "\n",
    "\n",
    "    re1 = 0\n",
    "    im1 = 0\n",
    "    re2 = 0\n",
    "    im2 = 0\n",
    "    \n",
    "    for i in range(len(C_lm)): #first part of real and imaginary resid\n",
    "        re1 = re1 + (A_m * C_lm[i] + B_m * D_lm[i])\n",
    "        im1 = im1 + (-A_m * D_lm[i] + B_m * C_lm[i]) \n",
    "    for j in range(len(C_mn)): #second part of real and imaginary resid \n",
    "        re2 = re2 + (A_m * C_mn[i] + B_m*D_mn[i])\n",
    "        im2 = im2 + (-A_m * D_mn[i] + B_m * C_mn[i])\n",
    "    \n",
    "    re_resid = re1 - re2\n",
    "    im_resid = im1 - im2\n",
    "    \n",
    "    G_kcl = np.append(G_kcl, [re_resid, im_resid])\n",
    "\n",
    "#     #Is G_kcL the right shape?\n",
    "#     #Am I properly calculating the summation? \n",
    "\n",
    "\n",
    "\n"
   ]
  },
  {
   "cell_type": "markdown",
   "metadata": {},
   "source": [
    "$$ \\beta_{I,m}^{\\phi} \\left( \\left( A_{m}^{\\phi} \\right)^2 + \\left( B_{m}^{\\phi} \\right)^{2} \\right)^{\\frac{1}{2}} + \\beta_{Z,m}^{\\phi} \\left( \\left( A_{m}^{\\phi} \\right)^2 + \\left( B_{m}^{\\phi} \\right)^{2} \\right) $$"
   ]
  },
  {
   "cell_type": "code",
   "execution_count": 12,
   "metadata": {},
   "outputs": [
    {
     "ename": "NameError",
     "evalue": "name 'idxAm' is not defined",
     "output_type": "error",
     "traceback": [
      "\u001b[0;31m---------------------------------------------------------------------------\u001b[0m",
      "\u001b[0;31mNameError\u001b[0m                                 Traceback (most recent call last)",
      "\u001b[0;32m<ipython-input-12-b4580a05344d>\u001b[0m in \u001b[0;36m<module>\u001b[0;34m\u001b[0m\n\u001b[1;32m      2\u001b[0m \u001b[0;31m#FTKCL\u001b[0m\u001b[0;34m\u001b[0m\u001b[0;34m\u001b[0m\u001b[0;34m\u001b[0m\u001b[0m\n\u001b[1;32m      3\u001b[0m \u001b[0;34m\u001b[0m\u001b[0m\n\u001b[0;32m----> 4\u001b[0;31m \u001b[0mdA\u001b[0m \u001b[0;34m=\u001b[0m \u001b[0mXNR\u001b[0m\u001b[0;34m[\u001b[0m\u001b[0midxAm\u001b[0m\u001b[0;34m]\u001b[0m \u001b[0;34m-\u001b[0m \u001b[0mA0\u001b[0m\u001b[0;34m\u001b[0m\u001b[0;34m\u001b[0m\u001b[0m\n\u001b[0m\u001b[1;32m      5\u001b[0m \u001b[0mdB\u001b[0m \u001b[0;34m=\u001b[0m \u001b[0mXNR\u001b[0m\u001b[0;34m[\u001b[0m\u001b[0midxBm\u001b[0m\u001b[0;34m]\u001b[0m \u001b[0;34m-\u001b[0m \u001b[0mB0\u001b[0m\u001b[0;34m\u001b[0m\u001b[0;34m\u001b[0m\u001b[0m\n\u001b[1;32m      6\u001b[0m \u001b[0;34m\u001b[0m\u001b[0m\n",
      "\u001b[0;31mNameError\u001b[0m: name 'idxAm' is not defined"
     ]
    }
   ],
   "source": [
    "#g_k and H_k\n",
    "#FTKCL\n",
    "\n",
    "dA = XNR[idxAm] - A0\n",
    "dB = XNR[idxBm] - B0\n",
    "\n",
    "dX = np.array([dA[0], dB[0]]) #(1, 2)\n",
    "dX_t = np.array([dA[0], dB[0]]).T #(2,1)\n",
    "\n",
    "gradient_mag = np.array([A0 * ((A0**2+B0**2) ** (-1/2)), B0 * ((A0**2+B0**2) ** (-1/2))])\n",
    "gradient_mag_sq = np.array([2 *A0, 2 * B0])\n",
    "\n",
    "first_order_term_mag = ((A0**2+B0**2)**(1/2) + np.matmul(gradient_mag, dX_t)) \n",
    "first_order_term_mag_sq = (A0**2+B0**2) + np.matmul(gradient_mag_sq, np.array(dX_t))\n",
    "\n",
    "hessian_mag_sq = np.array([2, 0], [0, 2])\n",
    "hessian_mag = np.array([[-((A0**2)*(A0**2+B0**2)**(-3/2))+(A0**2+B0**2)**(-1/2), -A0*B0*(A0**2+B0**2)**(-3/2)],\n",
    "                        [-A0*B0*(A0**2+B0**2)**(-3/2), -((B0**2)*(A0**2+B0**2)**(-3/2))+((A0**2+B0**2)**(-1/2))]])\n",
    "\n",
    "\n",
    "second_order_term_mag_sq = (1/2) * np.matmul(dX_t,  2 * dX)\n",
    "second_order_term_mag = (1/2) * np.matmul(dX_t, np.matmul(hessian_mag, dX))\n",
    "\n",
    "#JKCL\n",
    "first_order_term_mag = gradient_mag\n",
    "first_order_term_mag_sq = gradient_mag_sq\n",
    "second_order_term_mag = gradient_mag + (np.matmul(hessian_mag,dX).T)\n",
    "second_order_term_mag_sq = gradient_mag_sq + (np.matmul(hessian_mag_sq, dX).T)\n",
    "\n",
    "\n"
   ]
  },
  {
   "cell_type": "markdown",
   "metadata": {},
   "source": [
    "---\n",
    "\n",
    "## Things of note\n",
    "                    "
   ]
  },
  {
   "cell_type": "code",
   "execution_count": null,
   "metadata": {},
   "outputs": [],
   "source": [
    "dA = 1\n",
    "dB = 2\n",
    "A0 = 5\n",
    "B0 = 2\n",
    "dX = np.array([dA, dB])\n",
    "dX_t = np.array([dA, dB]).T\n",
    "hess = np.array([[1,2], [3,4]])\n",
    "np.matmul(dX_t, np.matmul(hess, dX))"
   ]
  },
  {
   "cell_type": "code",
   "execution_count": null,
   "metadata": {},
   "outputs": [],
   "source": [
    "from opendssdirect.utils import Iterator\n",
    "load_kW = [i() for i in Iterator(dss.Loads, 'kW')]\n",
    "print(load_kW)"
   ]
  },
  {
   "cell_type": "code",
   "execution_count": null,
   "metadata": {},
   "outputs": [],
   "source": [
    "#Pandas Functions\n",
    "dss.utils.loads_to_dataframe()\n",
    "# dss.utils.fuses_to_dataframe\n",
    "# dss.utils.generators_to_dataframe\n",
    "# dss.utils.isource_to_dataframe\n",
    "#dss.utils.lines_to_dataframe()\n",
    "\n",
    "# dss.utils.transformers_to_dataframe\n",
    "#dss.utils.vsources_to_dataframe()\n",
    "# dss.utils.xycurves_to_dataframe\n",
    "\n"
   ]
  },
  {
   "cell_type": "code",
   "execution_count": null,
   "metadata": {},
   "outputs": [],
   "source": []
  },
  {
   "cell_type": "code",
   "execution_count": null,
   "metadata": {},
   "outputs": [],
   "source": []
  },
  {
   "cell_type": "code",
   "execution_count": null,
   "metadata": {},
   "outputs": [],
   "source": []
  }
 ],
 "metadata": {
  "kernelspec": {
   "display_name": "Python 3",
   "language": "python",
   "name": "python3"
  },
  "language_info": {
   "codemirror_mode": {
    "name": "ipython",
    "version": 3
   },
   "file_extension": ".py",
   "mimetype": "text/x-python",
   "name": "python",
   "nbconvert_exporter": "python",
   "pygments_lexer": "ipython3",
   "version": "3.8.3"
  }
 },
 "nbformat": 4,
 "nbformat_minor": 4
}
