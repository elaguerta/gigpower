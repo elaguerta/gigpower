{
 "cells": [
  {
   "cell_type": "code",
   "execution_count": 1,
   "metadata": {},
   "outputs": [],
   "source": [
    "import numpy as np\n",
    "import opendssdirect as dss\n",
    "import matplotlib.pyplot as plt\n",
    "from math import tan,acos\n",
    "import copy\n",
    "import pandas as pd\n",
    "import time"
   ]
  },
  {
   "cell_type": "code",
   "execution_count": null,
   "metadata": {},
   "outputs": [],
   "source": [
    "FTSUBV = np.zeros((6,1))\n",
    "FTSUBV[0] = XNR[2*slackidx] - Vslack[0].real\n",
    "FTSUBV[1] = XNR[2*slackidx+1] - Vslack[0].imag\n",
    "FTSUBV[2] = XNR[2*nnode+2*slackidx] - Vslack[1].real\n",
    "FTSUBV[3] = XNR[2*nnode+2*slackidx+1] - Vslack[1].imag\n",
    "FTSUBV[4] = XNR[4*nnode+2*slackidx] - Vslack[2].real\n",
    "FTSUBV[5] = XNR[4*nnode+2*slackidx+1] - Vslack[2].imag"
   ]
  },
  {
   "cell_type": "code",
   "execution_count": 2,
   "metadata": {},
   "outputs": [
    {
     "name": "stdout",
     "output_type": "stream",
     "text": [
      "\n",
      "\n",
      "[ 0.97898101 -0.03607562  0.          0.          0.          0.\n",
      "  0.97803655 -0.0363734   0.          0.          0.          0.\n",
      "  0.97661911 -0.03682004  0.          0.          0.          0.\n",
      "  0.97614662 -0.0369689   0.          0.          0.          0.\n",
      "  0.97614638 -0.03696892  0.          0.          0.          0.\n",
      "  0.97567364 -0.03711777  0.          0.          0.          0.        ]\n"
     ]
    }
   ],
   "source": [
    "dss.run_command('Redirect 05node_singlephase_balanced_oscillation_03.dss')\n",
    "dss.Solution.Solve()\n",
    "\n",
    "X = np.array([])\n",
    "line_names = dss.Lines.AllNames()\n",
    "\n",
    "\n",
    "for k1 in range(len(dss.Circuit.AllBusNames())):\n",
    "    dss.Circuit.SetActiveBus(dss.Circuit.AllBusNames()[k1])\n",
    "    if dss.Circuit.AllBusNames()[k1] == 'sourcebus':\n",
    "        source_voltage = dss.Bus.PuVoltage()\n",
    "    else:     \n",
    "        X_temp = np.zeros(6)\n",
    "        pu_temp = dss.Bus.PuVoltage()\n",
    "        X_temp[:len(pu_temp)] = pu_temp\n",
    "        X = np.append(X, X_temp)\n"
   ]
  },
  {
   "cell_type": "markdown",
   "metadata": {},
   "source": [
    "### XNR"
   ]
  },
  {
   "cell_type": "code",
   "execution_count": 25,
   "metadata": {},
   "outputs": [
    {
     "name": "stdout",
     "output_type": "stream",
     "text": [
      "(72, 1)\n",
      "[[0.]\n",
      " [0.]\n",
      " [0.]\n",
      " [0.]\n",
      " [0.]\n",
      " [0.]]\n"
     ]
    }
   ],
   "source": [
    "nnode = len(dss.Circuit.AllBusNames())\n",
    "nline = len(dss.Lines.AllNames())\n",
    "\n",
    "I0 = np.zeros([3, nline])\n",
    "s = np.array([])\n",
    "g_t = np.array([])\n",
    "for k1 in range(len(dss.Circuit.AllBusNames())):\n",
    "    dss.Circuit.SetActiveBus(dss.Circuit.AllBusNames()[k1])\n",
    "    v_temp = dss.Bus.PuVoltage()\n",
    "    z = np.zeros(6)\n",
    "    z[:len(v_temp)] = np.array([v_temp])\n",
    "    s = np.append(s, z)\n",
    "V_all = np.reshape(s, (int(len(s)/6), 6)).T\n",
    "slack = V_all[:,:1]\n",
    "V0 = V_all[:, 1:]\n",
    "\n",
    "i = np.array([])\n",
    "for k2 in range(len(dss.Lines.AllNames())):\n",
    "    dss.Lines.Name(dss.Lines.AllNames()[k2]) \n",
    "    i_temp = dss.CktElement.Currents()\n",
    "    z = np.zeros(6)\n",
    "    z[:len(i_temp)] = i_temp\n",
    "    i = np.append(i, z)\n",
    "i = np.reshape(i, (6, len(i) // 6))\n",
    "\n",
    "XNR = np.zeros((2*3*(nnode+nline),1))\n",
    "print(XNR.shape)\n",
    "for ph in range(0,3):\n",
    "    for k1 in range(0,nnode):\n",
    "     \n",
    "        XNR[2*ph*nnode + 2*k1] = V_all[ph * 2 , k1]\n",
    "        XNR[2*ph*nnode + 2*k1+1] = V_all[(ph * 2) +1,k1]\n",
    "\n",
    "for ph in range(0,3):\n",
    "    for k1 in range(0,nline):\n",
    "        XNR[(2*3*nnode) + 2*ph*nline + 2*k1] = i[ph * 2,k1]\n",
    "        XNR[(2*3*nnode) + 2*ph*nline + (2*k1)+1] = i[(ph * 2) + 1,k1]\n",
    "#print(XNR)\n",
    "\n",
    "slackidx = 0\n",
    "FTSUBV = np.zeros((6,1))\n",
    "FTSUBV[0] = XNR[2*slackidx] - slack[0]\n",
    "FTSUBV[1] = XNR[2*slackidx+1] - slack[1]\n",
    "FTSUBV[2] = XNR[2*nnode+2*slackidx] - slack[2]\n",
    "FTSUBV[3] = XNR[2*nnode+2*slackidx+1] - slack[3]\n",
    "FTSUBV[4] = XNR[4*nnode+2*slackidx] - slack[4]\n",
    "FTSUBV[5] = XNR[4*nnode+2*slackidx+1] - slack[5]\n",
    "print(FTSUBV)\n",
    "\n",
    "\n"
   ]
  },
  {
   "cell_type": "code",
   "execution_count": 22,
   "metadata": {},
   "outputs": [
    {
     "data": {
      "text/plain": [
       "array([[ 9.99996847e-01],\n",
       "       [-5.13569111e-06],\n",
       "       [-4.99999967e-01],\n",
       "       [-8.66025072e-01],\n",
       "       [-4.99999968e-01],\n",
       "       [ 8.66025735e-01]])"
      ]
     },
     "execution_count": 22,
     "metadata": {},
     "output_type": "execute_result"
    }
   ],
   "source": [
    "slack"
   ]
  },
  {
   "cell_type": "markdown",
   "metadata": {},
   "source": [
    "### Slack Bus"
   ]
  },
  {
   "cell_type": "markdown",
   "metadata": {},
   "source": [
    "$$ \\delta_{SBRE,m} = A_{m}^{\\phi} - \\Re \\left\\{ V_{sl}^{\\phi} \\right\\} \\\\\n",
    "\\delta_{SBIM,m} = B_{m}^{\\phi} - \\Im \\left\\{ V_{sl}^{\\phi} \\right\\} $$"
   ]
  },
  {
   "cell_type": "code",
   "execution_count": null,
   "metadata": {},
   "outputs": [],
   "source": [
    "#G_Slack\n",
    "G_slack = np.zeros(nnode * 2 * 3) #nnode * 2parts *3phases\n",
    "\n",
    "real_slack = source_voltage[::2] \n",
    "imag_slack = source_voltage[1::2]\n",
    "\n",
    "counter = 0\n",
    "for n in range(0, len(AB), 2):\n",
    "    for j in range(0, len(real_slack)):\n",
    "        G_slack[counter] = AB[n] - real_slack[j]\n",
    "        G_slack[counter + 1] = AB[n+1] - imag_slack[j]\n",
    "        counter += 2\n",
    "        \n",
    "print(G_slack)\n"
   ]
  },
  {
   "cell_type": "code",
   "execution_count": null,
   "metadata": {},
   "outputs": [],
   "source": [
    "#b_slack\n",
    "b_slack = np.zeros(G_slack.size)\n"
   ]
  },
  {
   "cell_type": "markdown",
   "metadata": {},
   "source": [
    "### KVL"
   ]
  },
  {
   "cell_type": "markdown",
   "metadata": {},
   "source": [
    "$$ \\begin{align}\n",
    "\\delta_{KVLRE,mn}^{\\phi} = A_{m}^{\\phi} - A_{n}^{\\phi} - \\sum_{\\psi} r_{mn}^{\\phi \\psi} C_{mn}^{\\psi} - x_{mn}^{\\phi \\psi} D_{mn}^{\\psi}  \\\\\n",
    "\\delta_{KVLIM,mn}^{\\phi} = B_{m}^{\\phi} - B_{n}^{\\phi} - \\sum_{\\psi} r_{mn}^{\\phi \\psi} D_{mn}^{\\psi} + x_{mn}^{\\phi \\psi} C_{mn}^{\\psi}\n",
    "\\end{align}\n",
    "$$"
   ]
  },
  {
   "cell_type": "code",
   "execution_count": null,
   "metadata": {},
   "outputs": [],
   "source": [
    "#GKVL\n",
    "G_KVL = np.zeros((len(line_names)))\n",
    "\n",
    "C_mn = np.array([])\n",
    "D_mn = np.array([])\n",
    "for k2 in range(len(dss.Lines.AllNames())):\n",
    "   \n",
    "    dss.Lines.Name(dss.Lines.AllNames()[k2]) #set the line\n",
    "    bus1 = dss.Lines.Bus1() #get start bus\n",
    "    bus2 = dss.Lines.Bus2() #get end bus\n",
    "    \n",
    "\n",
    "    dss.Circuit.SetActiveBus(bus1) #set active bus to bus 1\n",
    "    linecode = dss.Lines.LineCode() #get the linecode\n",
    "    dss.LineCodes.Name(linecode) #set the linecode\n",
    "    xmat = dss.LineCodes.Xmatrix() #get the xmat\n",
    "    rmat = dss.LineCodes.Rmatrix() #get the rmat\n",
    "    volts = dss.Bus.PuVoltage() #get bus1's puVoltage\n",
    "    A_m = volts[0] #split into re/im parts\n",
    "    B_m = volts[1]\n",
    "    \n",
    "    for i in range(0, len(dss.CktElement.Currents()), 2): #get the currents of the line\n",
    "        C_mn = np.append(C_mn, dss.CktElement.Currents()[i])\n",
    "        D_mn = np.append(D_mn, dss.CktElement.Currents()[i+1])\n",
    "\n",
    "    dss.Circuit.SetActiveBus(bus2)  #set active bus to bus 2\n",
    "    volts = dss.Bus.PuVoltage() #get bus2's puVoltage\n",
    "    A_n = volts[0] #split into re/im parts\n",
    "    B_n = volts[1]\n",
    "  \n",
    "    re_residual = 0 #calculate the residuals\n",
    "    im_residual = 0\n",
    "    \n",
    "    for i in range(len(C_mn)): #compute the summation part of the residual\n",
    "        re_sum = re_residual + (rmat * C_mn + xmat * D_mn)\n",
    "        im_sum = im_residual + (rmat * D_mn + xmat * C_mn)\n",
    "        \n",
    "    re_residual = A_m - A_n - (re_sum) #subtract real/imag volt parts from current\n",
    "    im_residual = B_m - B_n - (im_sum)\n",
    "    G_KVL = np.append(G_KVL, [re_residual, im_residual]) #add these residuals to G_KVL\n",
    "    \n",
    "    \n",
    "    #Is G_KVL the right shape?\n",
    "    #Am I properly calculating the summation? \n",
    "    #Does this work for 3 phase stuff? And what if the resistance is not just a scalar... ? \n",
    "print(G_KVL) \n"
   ]
  },
  {
   "cell_type": "code",
   "execution_count": null,
   "metadata": {},
   "outputs": [],
   "source": [
    "b_kvl = np.zeros(len(G_KVL))"
   ]
  },
  {
   "cell_type": "markdown",
   "metadata": {},
   "source": [
    "### KCL"
   ]
  },
  {
   "cell_type": "markdown",
   "metadata": {},
   "source": [
    "$$ u_{m}^{\\phi}, c_{m}^{\\phi},  v_{m}^{\\phi} $$"
   ]
  },
  {
   "cell_type": "code",
   "execution_count": null,
   "metadata": {},
   "outputs": [],
   "source": [
    "#b_k\n",
    "cap_names = dss.CapControls.AllNames() #i don't see a method to get capacitance\n",
    "active_power = np.array([])\n",
    "reactive_power = np.array([])\n",
    "\n",
    "for k1 in range(len(dss.Lines.AllNames())):\n",
    "    dss.Lines.Name(dss.Lines.AllNames()[k1])\n",
    "    Sk = dss.CktElement.Powers()\n",
    "  \n",
    "    active_power = np.append(active_power, Sk[0])\n",
    "    reactive_power = np.append(reactive_power, Sk[1])\n",
    "    \n",
    "print(active_power)\n",
    "print(reactive_power)\n"
   ]
  },
  {
   "cell_type": "markdown",
   "metadata": {},
   "source": [
    "$$\\sum_{l:(l,m) \\in \\mathcal{E}} \\left( A_{m}^{\\phi} C_{lm}^{\\phi} + B_{m}^{\\phi} D_{lm}^{\\phi} \\right)\n",
    "-\n",
    "\\sum_{n:(m,n) \\in \\mathcal{E}} \\left( A_{m}^{\\phi} C_{mn}^{\\phi} + B_{m}^{\\phi} D_{mn}^{\\phi} \\right)$$"
   ]
  },
  {
   "cell_type": "code",
   "execution_count": null,
   "metadata": {},
   "outputs": [],
   "source": [
    "def linelist(busname):\n",
    "    print(busname)\n",
    "    in_lines = np.array([])\n",
    "    out_lines = np.array([])\n",
    "    for k in range(len(dss.Lines.AllNames())):\n",
    "        dss.Lines.Name(dss.Lines.AllNames()[k])\n",
    "        if busname in dss.Lines.Bus1():\n",
    "            out_lines = np.append(out_lines, dss.Lines.AllNames()[k])\n",
    "        elif busname in dss.Lines.Bus2():\n",
    "            in_lines = np.append(in_lines,dss.Lines.AllNames()[k])\n",
    "    return in_lines,out_lines\n",
    "        \n",
    "il , ol = linelist(dss.Circuit.AllBusNames()[3])\n",
    "print(il)\n",
    "print(ol)"
   ]
  },
  {
   "cell_type": "code",
   "execution_count": null,
   "metadata": {},
   "outputs": [],
   "source": [
    "#the summation part of the KCL residual\n",
    "G_kcl = np.array([])\n",
    "\n",
    "for k2 in range(len(dss.Circuit.AllBusNames())):\n",
    "    dss.Circuit.SetActiveBus(dss.Circuit.AllBusNames()[k2]) #set active bus to bus 1\n",
    "    #linelist = dss.Bus.LineList()\n",
    "    \n",
    "    volts = dss.Bus.PuVoltage() #get bus1's puVoltage\n",
    "    A_m = volts[0] #split into re/im parts\n",
    "    B_m = volts[1]\n",
    "    \n",
    "    #get in and out lines of bus[k2]\n",
    "    in_lines, out_lines = linelist(dss.Circuit.AllBusNames()[k2])\n",
    "    \n",
    "    C_lm = np.array([]) #get incoming current re/im parts\n",
    "    D_lm = np.array([])\n",
    "    \n",
    "    for i in range(len(in_lines)):\n",
    "        try: \n",
    "            dss.Lines.Name(in_lines[i])\n",
    "            v_i = dss.CktElement.Currents()\n",
    "            for n in range(0, len(v), 2):\n",
    "                C_lm = np.append(C_lm, v_i[n])\n",
    "                D_lm = np.append(D_lm, v_i[n+1])\n",
    "            print(v)\n",
    "        except:\n",
    "            pass\n",
    "        \n",
    "    C_mn= np.array([]) #get outgoing current re/im parts\n",
    "    D_mn = np.array([])\n",
    "    \n",
    "    for i in range(len(out_lines)):\n",
    "        try: \n",
    "            dss.Lines.Name(out_lines[i])\n",
    "            v_o = dss.CktElement.Currents()\n",
    "            for n in range(0, len(v), 2):\n",
    "                C_mn = np.append(C_mn, v_o[n])\n",
    "                D_mn = np.append(D_mn, v_o[n+1])\n",
    "            print(v)\n",
    "        except:\n",
    "            pass\n",
    "\n",
    "\n",
    "    re1 = 0\n",
    "    im1 = 0\n",
    "    re2 = 0\n",
    "    im2 = 0\n",
    "    \n",
    "    for i in range(len(C_lm)): #first part of real and imaginary resid\n",
    "        re1 = re1 + (A_m * C_lm[i] + B_m * D_lm[i])\n",
    "        im1 = im1 + (-A_m * D_lm[i] + B_m * C_lm[i]) \n",
    "    for j in range(len(C_mn)): #second part of real and imaginary resid \n",
    "        re2 = re2 + (A_m * C_mn[i] + B_m*D_mn[i])\n",
    "        im2 = im2 + (-A_m * D_mn[i] + B_m * C_mn[i])\n",
    "    \n",
    "    re_resid = re1 - re2\n",
    "    im_resid = im1 - im2\n",
    "    \n",
    "    G_kcl = np.append(G_kcl, [re_resid, im_resid])\n",
    "\n",
    "#     #Is G_kcL the right shape?\n",
    "#     #Am I properly calculating the summation? \n",
    "\n",
    "\n",
    "\n"
   ]
  },
  {
   "cell_type": "markdown",
   "metadata": {},
   "source": [
    "$$ \\beta_{I,m}^{\\phi} \\left( \\left( A_{m}^{\\phi} \\right)^2 + \\left( B_{m}^{\\phi} \\right)^{2} \\right)^{\\frac{1}{2}} + \\beta_{Z,m}^{\\phi} \\left( \\left( A_{m}^{\\phi} \\right)^2 + \\left( B_{m}^{\\phi} \\right)^{2} \\right) $$"
   ]
  },
  {
   "cell_type": "code",
   "execution_count": null,
   "metadata": {},
   "outputs": [],
   "source": [
    "#g_k and H_k\n",
    "#FTKCL\n",
    "\n",
    "dA = XNR[idxAm] - A0\n",
    "dB = XNR[idxBm] - B0\n",
    "\n",
    "dX = np.array([dA[0], dB[0]]) #(1, 2)\n",
    "dX_t = np.array([dA[0], dB[0]]).T #(2,1)\n",
    "\n",
    "gradient_mag = np.array([A0 * ((A0**2+B0**2) ** (-1/2)), B0 * ((A0**2+B0**2) ** (-1/2))])\n",
    "gradient_mag_sq = np.array([2 *A0, 2 * B0])\n",
    "\n",
    "first_order_term_mag = ((A0**2+B0**2)**(1/2) + np.matmul(gradient_mag, dX_t)) \n",
    "first_order_term_mag_sq = (A0**2+B0**2) + np.matmul(gradient_mag_sq, np.array(dX_t))\n",
    "\n",
    "hessian_mag_sq = np.array([2, 0], [0, 2])\n",
    "hessian_mag = np.array([[-((A0**2)*(A0**2+B0**2)**(-3/2))+(A0**2+B0**2)**(-1/2), -A0*B0*(A0**2+B0**2)**(-3/2)],\n",
    "                        [-A0*B0*(A0**2+B0**2)**(-3/2), -((B0**2)*(A0**2+B0**2)**(-3/2))+((A0**2+B0**2)**(-1/2))]])\n",
    "\n",
    "\n",
    "second_order_term_mag_sq = (1/2) * np.matmul(dX_t,  2 * dX)\n",
    "second_order_term_mag = (1/2) * np.matmul(dX_t, np.matmul(hessian_mag, dX))\n",
    "\n",
    "#JKCL\n",
    "first_order_term_mag = gradient_mag\n",
    "first_order_term_mag_sq = gradient_mag_sq\n",
    "second_order_term_mag = gradient_mag + (np.matmul(hessian_mag,dX).T)\n",
    "second_order_term_mag_sq = gradient_mag_sq + (np.matmul(hessian_mag_sq, dX).T)\n",
    "\n",
    "\n"
   ]
  },
  {
   "cell_type": "markdown",
   "metadata": {},
   "source": [
    "---\n",
    "\n",
    "## Things of note\n",
    "                    "
   ]
  },
  {
   "cell_type": "code",
   "execution_count": null,
   "metadata": {},
   "outputs": [],
   "source": [
    "dA = 1\n",
    "dB = 2\n",
    "A0 = 5\n",
    "B0 = 2\n",
    "dX = np.array([dA, dB])\n",
    "dX_t = np.array([dA, dB]).T\n",
    "hess = np.array([[1,2], [3,4]])\n",
    "np.matmul(dX_t, np.matmul(hess, dX))"
   ]
  },
  {
   "cell_type": "code",
   "execution_count": null,
   "metadata": {},
   "outputs": [],
   "source": [
    "from opendssdirect.utils import Iterator\n",
    "load_kW = [i() for i in Iterator(dss.Loads, 'kW')]\n",
    "print(load_kW)"
   ]
  },
  {
   "cell_type": "code",
   "execution_count": null,
   "metadata": {},
   "outputs": [],
   "source": [
    "#Pandas Functions\n",
    "dss.utils.loads_to_dataframe()\n",
    "# dss.utils.fuses_to_dataframe\n",
    "# dss.utils.generators_to_dataframe\n",
    "# dss.utils.isource_to_dataframe\n",
    "#dss.utils.lines_to_dataframe()\n",
    "\n",
    "# dss.utils.transformers_to_dataframe\n",
    "#dss.utils.vsources_to_dataframe()\n",
    "# dss.utils.xycurves_to_dataframe\n",
    "\n"
   ]
  },
  {
   "cell_type": "code",
   "execution_count": null,
   "metadata": {},
   "outputs": [],
   "source": []
  },
  {
   "cell_type": "code",
   "execution_count": null,
   "metadata": {},
   "outputs": [],
   "source": []
  },
  {
   "cell_type": "code",
   "execution_count": null,
   "metadata": {},
   "outputs": [],
   "source": []
  }
 ],
 "metadata": {
  "kernelspec": {
   "display_name": "Python 3",
   "language": "python",
   "name": "python3"
  },
  "language_info": {
   "codemirror_mode": {
    "name": "ipython",
    "version": 3
   },
   "file_extension": ".py",
   "mimetype": "text/x-python",
   "name": "python",
   "nbconvert_exporter": "python",
   "pygments_lexer": "ipython3",
   "version": "3.8.3"
  }
 },
 "nbformat": 4,
 "nbformat_minor": 4
}
