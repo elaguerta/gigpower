{
 "cells": [
  {
   "cell_type": "code",
   "execution_count": 1,
   "metadata": {},
   "outputs": [],
   "source": [
    "import numpy as np\n",
    "import opendssdirect as dss\n",
    "import matplotlib.pyplot as plt\n",
    "from math import tan,acos\n",
    "import copy\n",
    "import pandas as pd\n",
    "import time"
   ]
  },
  {
   "cell_type": "code",
   "execution_count": 36,
   "metadata": {},
   "outputs": [],
   "source": [
    "dss.run_command('Redirect 05node_singlephase_balanced_oscillation_03.dss') #load dss file\n",
    "dss.Solution.Solve() #solve"
   ]
  },
  {
   "cell_type": "markdown",
   "metadata": {},
   "source": [
    "Asides: \n",
    " - what does it look like when the r and x matrix have all the parts? \n",
    " - are the negatives on the kvl c and d properly placed?\n",
    " "
   ]
  },
  {
   "cell_type": "markdown",
   "metadata": {},
   "source": [
    "### XNR"
   ]
  },
  {
   "cell_type": "code",
   "execution_count": 14,
   "metadata": {},
   "outputs": [
    {
     "name": "stdout",
     "output_type": "stream",
     "text": [
      "[[  9.99996847e-01   9.78981009e-01   9.78036549e-01   9.76619109e-01\n",
      "    9.76146616e-01   9.76146384e-01   9.75673640e-01]\n",
      " [ -5.13569112e-06  -3.60756228e-02  -3.63733986e-02  -3.68200381e-02\n",
      "   -3.69688969e-02  -3.69689191e-02  -3.71177683e-02]\n",
      " [ -4.99999967e-01   0.00000000e+00   0.00000000e+00   0.00000000e+00\n",
      "    0.00000000e+00   0.00000000e+00   0.00000000e+00]\n",
      " [ -8.66025072e-01   0.00000000e+00   0.00000000e+00   0.00000000e+00\n",
      "    0.00000000e+00   0.00000000e+00   0.00000000e+00]\n",
      " [ -4.99999968e-01   0.00000000e+00   0.00000000e+00   0.00000000e+00\n",
      "    0.00000000e+00   0.00000000e+00   0.00000000e+00]\n",
      " [  8.66025735e-01   0.00000000e+00   0.00000000e+00   0.00000000e+00\n",
      "    0.00000000e+00   0.00000000e+00   0.00000000e+00]]\n",
      "(6, 7)\n",
      "[[  9.99996847e-01]\n",
      " [ -5.13569112e-06]\n",
      " [ -4.99999967e-01]\n",
      " [ -8.66025072e-01]\n",
      " [ -4.99999968e-01]\n",
      " [  8.66025735e-01]]\n",
      "[ 52.75281871 -15.31629705 -52.75278047  15.31732994   0.           0.        ]\n",
      "[ 39.58154305 -11.49917995 -39.58150442  11.50021159   0.           0.        ]\n",
      "[ 13.19383129  -3.83340098 -13.19379234   3.83443163   0.           0.        ]\n",
      "[ 13.19952571  -3.83645793 -13.19948677   3.83748857   0.           0.        ]\n",
      "[ 13.19948677  -3.83748857 -13.19944767   3.83851872   0.           0.        ]\n",
      "[[ 52.75281871  39.58154305  13.19383129  13.19952571  13.19948677]\n",
      " [-15.31629705 -11.49917995  -3.83340098  -3.83645793  -3.83748857]\n",
      " [-52.75278047 -39.58150442 -13.19379234 -13.19948677 -13.19944767]\n",
      " [ 15.31732994  11.50021159   3.83443163   3.83748857   3.83851872]\n",
      " [  0.           0.           0.           0.           0.        ]\n",
      " [  0.           0.           0.           0.           0.        ]]\n"
     ]
    }
   ],
   "source": [
    "nnode = len(dss.Circuit.AllBusNames()) \n",
    "nline = len(dss.Lines.AllNames())\n",
    "\n",
    "#this is old code, but it makes XNR\n",
    "\n",
    "V_all = np.array([])\n",
    "for k1 in range(len(dss.Circuit.AllBusNames())):\n",
    "    dss.Circuit.SetActiveBus(dss.Circuit.AllBusNames()[k1])\n",
    "    v_temp = dss.Bus.PuVoltage()\n",
    "    z = np.zeros(6) #preallocate for re/im in 3 phases\n",
    "    z[:len(v_temp)] = np.array([v_temp])   \n",
    "    V_all = np.append(V_all, z)\n",
    "V_all = np.reshape(V_all, (nnode, 6)).T\n",
    "b_SB = V_all[:,:1]\n",
    "\n",
    "\n",
    "I_all = np.array([])\n",
    "for k2 in range(len(dss.Lines.AllNames())):\n",
    "    dss.Lines.Name(dss.Lines.AllNames()[k2]) \n",
    "    i_temp = np.divide(dss.CktElement.Currents(), dss.Bus.kVBase())\n",
    "    z = np.zeros(6)\n",
    "    z[:len(i_temp)] = i_temp \n",
    "    I_all = np.append(I_all, z)\n",
    "I_all = np.reshape(I_all, (nline, 6)).T\n",
    "\n",
    "XNR = np.zeros((2*3*(nnode+nline),1))\n",
    "\n",
    "for ph in range(0,3):\n",
    "    for k1 in range(0,nnode):\n",
    "        XNR[2*ph*nnode + 2*k1] = V_all[ph * 2 , k1]\n",
    "        XNR[2*ph*nnode + 2*k1+1] = V_all[(ph * 2) +1,k1]\n",
    "\n",
    "for ph in range(0,3):\n",
    "    for k1 in range(0,nline):\n",
    "        XNR[(2*3*nnode) + 2*ph*nline + 2*k1] = I_all[ph * 2,k1]\n",
    "        XNR[(2*3*nnode) + 2*ph*nline + (2*k1)+1] = I_all[(ph * 2) + 1,k1]\n"
   ]
  },
  {
   "cell_type": "markdown",
   "metadata": {},
   "source": [
    "### Slack Bus"
   ]
  },
  {
   "cell_type": "markdown",
   "metadata": {},
   "source": [
    "$$ \\delta_{SBRE,m} = A_{m}^{\\phi} - \\Re \\left\\{ V_{sl}^{\\phi} \\right\\} \\\\\n",
    "\\delta_{SBIM,m} = B_{m}^{\\phi} - \\Im \\left\\{ V_{sl}^{\\phi} \\right\\} $$\n",
    " --- \n",
    " \n",
    " $$ {\\Delta}_{SB} = {G}_{SB} {X} + {b}_{SB} $$\n",
    " ---\n",
    "$$ X $$"
   ]
  },
  {
   "cell_type": "code",
   "execution_count": 29,
   "metadata": {},
   "outputs": [
    {
     "name": "stdout",
     "output_type": "stream",
     "text": [
      "(72,)\n"
     ]
    }
   ],
   "source": [
    "line_names = dss.Lines.AllNames()\n",
    "\n",
    "A_m = np.array([])\n",
    "B_m = np.array([])\n",
    "\n",
    "C_mn = np.array([])\n",
    "D_mn = np.array([])\n",
    "\n",
    "R_matrix = np.zeros((nline,9))\n",
    "X_matrix = np.zeros((nline,9))\n",
    "\n",
    "dss.Circuit.SetActiveBus(dss.Circuit.AllBusNames()[0])\n",
    "kV_base = dss.Bus.kVBase()\n",
    "\n",
    "\n",
    "for k1 in range(len(dss.Circuit.AllBusNames())):\n",
    "    dss.Circuit.SetActiveBus(dss.Circuit.AllBusNames()[k1])\n",
    "    \n",
    "    volts = dss.Bus.PuVoltage() #get bus1's puVoltage\n",
    "    a_temp = np.zeros(3)\n",
    "    b_temp = np.zeros(3)\n",
    "    \n",
    "    for i in range(0, len(volts), 2):\n",
    "        a_temp[i//2] = volts[i]\n",
    "        b_temp[i//2] = volts[i+1]\n",
    "    A_m = np.append(A_m, a_temp) #split into re/im parts\n",
    "    B_m = np.append(B_m, b_temp)\n",
    "\n",
    "for k2 in range(len(dss.Lines.AllNames())):\n",
    "    dss.Lines.Name(dss.Lines.AllNames()[k2]) #set the line\n",
    "   \n",
    "    linecode = dss.Lines.LineCode() #get the linecode\n",
    "    dss.LineCodes.Name(linecode) #set the linecode\n",
    "    \n",
    "    xmat = dss.LineCodes.Xmatrix() #get the xmat \n",
    "    rmat = dss.LineCodes.Rmatrix() #get the rmat\n",
    "    \n",
    "    for i in range(len(xmat)):\n",
    "        X_matrix[k2][i] = xmat[i] #fill x/r where they are shaped like nline x 9 (for 9 components)\n",
    "    for j in range(len(rmat)):\n",
    "        R_matrix[k2][i] = rmat[j]\n",
    " \n",
    "    c_temp = np.zeros(3) #retrieve line current\n",
    "    d_temp = np.zeros(3)\n",
    "    \n",
    "    for i in range(0, len(dss.CktElement.Currents()), 2): #get the currents of the line\n",
    "        c_temp[i//2] = np.divide(dss.CktElement.Currents()[i], kV_base) #per unit-ify the currents\n",
    "        d_temp[i//2] = np.divide(dss.CktElement.Currents()[i+1], kV_base) \n",
    "    C_mn = np.append(C_mn, c_temp)\n",
    "    D_mn = np.append(D_mn, d_temp)\n",
    "    \n",
    "X = np.array([]) #make X, should be 2*3*(nline+nnode) long\n",
    "\n",
    "for ph in range(0,3):\n",
    "    for nodes in range(nnode):\n",
    "        X = np.append(X, A_m[nodes*3 + ph]) #add a, b by node and then phase\n",
    "        X = np.append(X, B_m[nodes*3 + ph])\n",
    "\n",
    "for ph in range(0, 3):\n",
    "    for lines in range(nline):\n",
    "        X = np.append(X, C_mn[lines*3 + ph]) #add c, d by line and then phase\n",
    "        X = np.append(X, D_mn[lines*3 + ph])\n",
    "\n",
    "print(X.shape)"
   ]
  },
  {
   "cell_type": "markdown",
   "metadata": {},
   "source": [
    "$$ G_{SB} $$ "
   ]
  },
  {
   "cell_type": "code",
   "execution_count": 23,
   "metadata": {},
   "outputs": [
    {
     "name": "stdout",
     "output_type": "stream",
     "text": [
      "(6, 72)\n"
     ]
    }
   ],
   "source": [
    "g_SB = np.array([]) #assumes slack bus is at index 0 \n",
    "sb_idx = [0, 1, 2*nnode, 2*nnode+1, 3*nnode, 3*nnode+1]\n",
    "for i in range(len(sb_idx)):    \n",
    "    temp_row = np.zeros(len(X))\n",
    "    temp_row[sb_idx[i]] = 1\n",
    "    g_SB = np.append(g_SB, temp_row)\n",
    "g_SB = np.reshape(g_SB, (6, len(g_SB) // 6))\n",
    "## print(g_SB)\n",
    "print(g_SB.shape)\n"
   ]
  },
  {
   "cell_type": "markdown",
   "metadata": {},
   "source": [
    "$$ b_{SB} $$ "
   ]
  },
  {
   "cell_type": "code",
   "execution_count": 32,
   "metadata": {},
   "outputs": [
    {
     "name": "stdout",
     "output_type": "stream",
     "text": [
      "[  9.99996847e-01  -5.13569112e-06  -4.99999967e-01  -8.66025072e-01\n",
      "   0.00000000e+00   0.00000000e+00]\n",
      "(6,)\n"
     ]
    }
   ],
   "source": [
    "b_SB = np.array([])\n",
    "sb_idx = [0, 1, 2*nnode, 2*nnode+1, 3*nnode, 3*nnode+1]\n",
    "for i in range(len(sb_idx)):\n",
    "    b_SB = np.append(b_SB, X[sb_idx[i]])\n",
    "print(b_SB)\n",
    "print(b_SB.shape)\n"
   ]
  },
  {
   "cell_type": "markdown",
   "metadata": {},
   "source": [
    "### KVL\n",
    "\n",
    "Need an example with a resistance reactance matrix (larger than just 1 element), and need to put it in G_KVL correctly (adapt to three phases)"
   ]
  },
  {
   "cell_type": "markdown",
   "metadata": {},
   "source": [
    "X is like $$[a^1_a, b^1_a, a^2_a, b^1_a, ...a^{nnode}_a, b^{nnode}_a, a^1_b, b^1_b, .... a^{nnode}_b, a^{nnode}_b, a1_c, b1_c, ... a^{nnode}_c, b^{nnode}_c, c_{mn, a}^1, d_{mn, a}^1, ..., c_{mn,a}^{nlinelast}, d_{mn, a}^{nlinelast}, c_{mn, b}^1, d_{mn, b}^1, ... , c_{mn, b}^{nlinelast}, d_{mn, b}^{nlinelast}, c_{mn,c}^{1}, d_{mn, c}^{1}, ..., c_{mn,c}^{nlinelast}, d_{mn, c}^{nlinelast} ] $$\n",
    "\n",
    "---\n",
    "\n",
    "Helper Method"
   ]
  },
  {
   "cell_type": "code",
   "execution_count": 63,
   "metadata": {},
   "outputs": [
    {
     "data": {
      "text/plain": [
       "1"
      ]
     },
     "execution_count": 63,
     "metadata": {},
     "output_type": "execute_result"
    }
   ],
   "source": [
    "def get_bus_idx(bus):\n",
    "    k = -1\n",
    "    for n in range(len(dss.Circuit.AllBusNames())):\n",
    "        if dss.Circuit.AllBusNames()[n] in bus:\n",
    "            k = n\n",
    "    return k\n",
    "dss.Lines.Name(dss.Lines.AllNames()[0]) #set the line\n",
    "bus1 = dss.Lines.Bus1()\n",
    "get_bus_idx(bus1)\n"
   ]
  },
  {
   "cell_type": "markdown",
   "metadata": {},
   "source": [
    "$$ G_{KVL} $$ "
   ]
  },
  {
   "cell_type": "code",
   "execution_count": 73,
   "metadata": {},
   "outputs": [
    {
     "name": "stdout",
     "output_type": "stream",
     "text": [
      "(30, 72)\n"
     ]
    }
   ],
   "source": [
    "G_KVL = np.array([])\n",
    "first_template = np.array([1, 0, -1, 0]) #first eqn coeff\n",
    "second_template = np.array([0, 1, 0, -1]) #second eqn coeff\n",
    "\n",
    "for ph in range(0, 3):\n",
    "    for line in range(len(dss.Lines.AllNames())):    \n",
    "        dss.Lines.Name(dss.Lines.AllNames()[line]) #set the line\n",
    "        bus1 = dss.Lines.Bus1()\n",
    "        bus2 = dss.Lines.Bus2()\n",
    "        \n",
    "        bus1_idx = get_bus_idx(bus1)\n",
    "        bus2_idx = get_bus_idx(bus2)\n",
    "\n",
    "        temp_row = np.zeros(len(X))\n",
    "        temp_row[2*nnode*ph + 2*bus1_idx] = 1 #A_m\n",
    "        temp_row[2*nnode*ph + 2*bus2_idx] = -1 #A_n\n",
    "        G_KVL = np.append(G_KVL, temp_row)\n",
    "        \n",
    "        temp_row = np.zeros(len(X))\n",
    "        temp_row[2*nnode*ph + 2*bus1_idx + 1] = -1 #B_m\n",
    "        temp_row[2*nnode*ph + 2*bus2_idx + 1] = 1 #B_n\n",
    "        G_KVL = np.append(G_KVL, temp_row)\n",
    "\n",
    "G_KVL = np.reshape(G_KVL,(2*3*nline, len(X)) )\n",
    "\n",
    "print(G_KVL.shape) #(6*line)x(2*3*(nline+nnode)) bc\n",
    "#each line is complex (2) and has 3 phases\n",
    "for ph in range(0,3):\n",
    "    for line in range(0,len(dss.Lines.AllNames())):\n",
    "        r_temp = sum(R_matrix[line, :]) #add up all the line resistance comp \n",
    "        x_temp = sum(X_matrix[line, :]) #add up all the line react comp\n",
    "        G_KVL[2 * ph * line][2*3*nnode + 2*line*ph] = -r_temp #C_mn #set g_kvl as such\n",
    "        G_KVL[2 * ph * line][2*3*nnode + 2*line*ph + 1] = -x_temp #D_mn\n",
    "        G_KVL[2 * ph * line + 1][2*3*nnode + 2*line*ph] = -x_temp #C_mn\n",
    "        G_KVL[2 * ph * line + 1][2*3*nnode + 2*line*ph + 1] = -r_temp #D_mn\n",
    "        line_counter += 1\n",
    "\n",
    "# import sys\n",
    "# np.set_printoptions(threshold=sys.maxsize)\n",
    "# print(G_KVL)\n"
   ]
  },
  {
   "cell_type": "markdown",
   "metadata": {},
   "source": [
    "$$ b_{KVL} $$"
   ]
  },
  {
   "cell_type": "code",
   "execution_count": 71,
   "metadata": {},
   "outputs": [],
   "source": [
    "b_kvl = np.zeros(len(G_KVL))"
   ]
  },
  {
   "cell_type": "markdown",
   "metadata": {},
   "source": [
    "### KCL\n",
    "\n",
    "How do you get capacitance"
   ]
  },
  {
   "cell_type": "markdown",
   "metadata": {},
   "source": [
    "Helpful Methods"
   ]
  },
  {
   "cell_type": "code",
   "execution_count": 74,
   "metadata": {},
   "outputs": [],
   "source": [
    "def linelist(busname): \n",
    "    in_lines = np.array([])\n",
    "    out_lines = np.array([])\n",
    "    for k in range(len(dss.Lines.AllNames())):\n",
    "        dss.Lines.Name(dss.Lines.AllNames()[k])\n",
    "        if busname in dss.Lines.Bus1():\n",
    "            out_lines = np.append(out_lines, dss.Lines.AllNames()[k])\n",
    "        elif busname in dss.Lines.Bus2():\n",
    "            in_lines = np.append(in_lines,dss.Lines.AllNames()[k])\n",
    "    return in_lines,out_lines\n",
    "        \n",
    "il , ol = linelist(dss.Circuit.AllBusNames()[3])\n",
    "\n",
    "\n",
    "def get_line_idx(line):\n",
    "    k = -1\n",
    "    for n in range(len(dss.Lines.AllNames())):\n",
    "        if dss.Lines.AllNames()[n] == line:\n",
    "            k = n\n",
    "    return k\n"
   ]
  },
  {
   "cell_type": "code",
   "execution_count": 75,
   "metadata": {},
   "outputs": [],
   "source": [
    "beta_S = 0.85 \n",
    "beta_I = 0.05\n",
    "beta_Z = 0.1 "
   ]
  },
  {
   "cell_type": "code",
   "execution_count": 76,
   "metadata": {},
   "outputs": [],
   "source": [
    "H = np.zeros((2 * 3 * (nnode + nline), 2 * 3* (nnode + nline), 3)) \n",
    "#(2*3*(nnode+nline)) x (2*3*(nnode+nline)) x (2*3*nline) \n",
    "    #(for each phase, real/im, line)\n",
    "g = np.zeros((len(X), 3)) #1 x (2*3*(nnode+nline))\n",
    "b = np.zeros(3) #scalar I guess\n",
    "\n",
    "def get_line_idx(line):\n",
    "    k = -1\n",
    "    for n in range(len(dss.Lines.AllNames())):\n",
    "        if dss.Lines.AllNames()[n] == line:\n",
    "            k = n\n",
    "    return k\n",
    "\n",
    "def KCL_residuals(cplx):\n",
    "    for ph in range(0,3):\n",
    "        if ph == 0:\n",
    "            A0 = 1\n",
    "            B0 = 0\n",
    "        elif ph == 1:\n",
    "            A0 = -1/2\n",
    "            B0 = -1 * np.sqrt(3)/2\n",
    "        elif ph == 2:\n",
    "            A0 = -1/2\n",
    "            B0 = np.sqrt(3)/2\n",
    "        for k2 in range(len(dss.Circuit.AllBusNames())):\n",
    "            dss.Circuit.SetActiveBus(dss.Circuit.AllBusNames()[k2])     \n",
    "            #dss.Lines.Name(dss.Lines.AllNames()[k1])\n",
    "            in_lines, out_lines = linelist(dss.Circuit.AllBusNames()[k2])\n",
    "\n",
    "#             dA = XNR[idxAm] - A0\n",
    "#             dB = XNR[idxBm] - B0\n",
    "\n",
    "#             dX = np.array([dA[0], dB[0]]) #(1, 2)\n",
    "#             dX_t = np.array([dA[0], dB[0]]).T #(2,1)\n",
    "\n",
    "            gradient_mag = np.array([A0 * ((A0**2+B0**2) ** (-1/2)), B0 * ((A0**2+B0**2) ** (-1/2))])\n",
    "            hessian_mag = np.array([[-((A0**2)*(A0**2+B0**2)**(-3/2))+(A0**2+B0**2)**(-1/2), -A0*B0*(A0**2+B0**2)**(-3/2)],\n",
    "                                [-A0*B0*(A0**2+B0**2)**(-3/2), -((B0**2)*(A0**2+B0**2)**(-3/2))+((A0**2+B0**2)**(-1/2))]])\n",
    "#             first_order_term_mag =  np.matmul(gradient_mag, dX_t)\n",
    "#             second_order_term_mag = (1/2) * np.matmul(dX_t, np.matmul(hessian_mag, dX))\n",
    "\n",
    "            H[2*nnode*ph + 2*k2,2*nnode*ph + 2*k2,ph] = beta_Z + (0.5 * beta_I * hessian_mag[0][0])\n",
    "            H[2*nnode*ph + 2*k2 + 1][2*nnode*ph + 2*k2 +1][ph] = beta_Z + (0.5 * beta_I * hessian_mag[1][1])\n",
    "            H[2*nnode*ph + 2*k2][2*nnode*ph + 2*k2 + 1][ph] = 0.5 + (beta_I * hessian_mag[0][1])\n",
    "            H[2*nnode*ph + 2*k2 + 1][2*nnode*ph + 2*k2][ph] = 0.5 + (beta_I * hessian_mag[0][1])\n",
    "\n",
    "\n",
    "            for i in range(len(in_lines)): #fill in H for the inlines\n",
    "                dss.Lines.Name(in_lines[i])\n",
    "                line_idx = get_line_idx(in_lines[i])\n",
    "                if cplx == 're': #real residual\n",
    "                    #A_m and C_lm\n",
    "                    H[2*nnode*ph + 2*k2][2*3*nnode + 2*ph*line_idx][ph] = 1/2\n",
    "                    H[2*3*nnode + 2*ph*line_idx][2*nnode*ph + 2*k2][ph] = 1/2\n",
    "                    #B_m and D_lm\n",
    "                    H[2*nnode*ph+2*k2+1][2*3*nnode+2*ph*line_idx+1][ph] = 1/2\n",
    "                    H[2*3*nnode+2*ph*line_idx+1][2*nnode*ph+2*k2+1][ph] = 1/2\n",
    "                if cplx == 'im': #complex residual\n",
    "                    #AD\n",
    "                    H[2*nnode*ph + 2*k2][2*3*nnode + 2 *ph * line_idx + 1][ph] = -1/2\n",
    "                    H[2*3*nnode + 2 *ph * line_idx + 1][2*nnode*ph + 2*k2][ph] = -1/2\n",
    "                    #B_m and C_lm\n",
    "                    H[2*nnode*ph + 2*k2 + 1][2*3*nnode + 2 *ph * line_idx][ph] = 1/2\n",
    "                    H[2*3*nnode + 2 * ph *line_idx][2*nnode*ph + 2*k2 + 1][ph] = 1/2\n",
    "                    \n",
    "            for j in range(len(out_lines)): #fill in H for the outlines\n",
    "                dss.Lines.Name(out_lines[j])\n",
    "                line_idx = get_line_idx(out_lines[j])\n",
    "                k = get_bus_idx(dss.Lines.Bus2())\n",
    "                if cplx == 're':\n",
    "                    #A_m and C_mn\n",
    "                    H[2*nnode*ph + 2*k2][2*3*nnode + 2 * ph *line_idx][ph] = -1/2\n",
    "                    H[2*3*nnode + 2 *ph * line_idx][2*nnode*ph + 2*k2][ph] = -1/2\n",
    "                    #B_m and D_mn\n",
    "                    H[2*nnode*ph + 2*k2 + 1][2*3*nnode + 2 *ph * line_idx + 1][ph] = -1/2\n",
    "                    H[2*3*nnode + 2 *ph * line_idx + 1][2*nnode*ph + 2*k2 + 1][ph] = -1/2\n",
    "                if cplx == 'im':\n",
    "                    #A_m and D_mn\n",
    "                    H[2*nnode*ph + 2*k2][2*3*nnode + 2 *ph * line_idx + 1][ph] = 1/2\n",
    "                    H[2*3*nnode + 2 * ph * line_idx + 1][2 * nnode * ph + 2 * k2][ph] = 1/2\n",
    "                    #C_m and B_mn\n",
    "                    H[2*nnode*ph + 2*k2 + 1][2*3*nnode + 2 * ph * line_idx][ph] = -1/2\n",
    "                    H[2*3*nnode + 2 * ph * line_idx ][2*nnode*ph + 2 * k2 + 1][ph] = -1/2\n",
    "\n",
    "        #inside ph loop\n",
    "        g_temp = np.zeros(len(X))\n",
    "        for i in range(0, len(g), 4):\n",
    "            g_temp[i] = -1/2 * beta_I * (2 * A0 * hessian_mag[0][0] - 2 * B0 * hessian_mag[0][1] \\\n",
    "                                   + beta_I * gradient_mag[0])\n",
    "            g_temp[i + 1] = 1/2 * beta_I * (-2*hessian_mag[0][1] * A0 - 2 * B0 * hessian_mag[1][1] \\\n",
    "                                       + beta_I * gradient_mag[1])\n",
    "        g[:, ph] = g_temp\n",
    "        \n",
    "        b_factor = 0\n",
    "        #still need capacitance\n",
    "        #still need loads\n",
    "        dss.Circuit.SetActiveBus(dss.Circuit.AllBusNames()[k2])   \n",
    "        Sk = dss.CktElement.Powers()\n",
    "        if cplx == 'im':\n",
    "            b_factor = Sk[1]\n",
    "            \n",
    "        elif cplx == 're':\n",
    "            b_factor = Sk[0]\n",
    "            \n",
    "        b_temp = beta_S \\\n",
    "            + (1/2*beta_I) * (2 * hessian_mag[0][1] * A0 * B0 + hessian_mag[0][0] * A0**2 + hessian_mag[1][1] * B0**2) \\\n",
    "            - beta_I * (gradient_mag[0] + gradient_mag[1]) \\\n",
    "            + beta_I * (A0**2 + B0**2) ** (1/2) \\\n",
    "            - b_factor\n",
    "        b[ph] = b_temp"
   ]
  },
  {
   "cell_type": "code",
   "execution_count": 77,
   "metadata": {},
   "outputs": [],
   "source": [
    "KCL_residuals('cplx')"
   ]
  },
  {
   "cell_type": "code",
   "execution_count": null,
   "metadata": {},
   "outputs": [],
   "source": []
  }
 ],
 "metadata": {
  "kernelspec": {
   "display_name": "Python 3",
   "language": "python",
   "name": "python3"
  },
  "language_info": {
   "codemirror_mode": {
    "name": "ipython",
    "version": 3
   },
   "file_extension": ".py",
   "mimetype": "text/x-python",
   "name": "python",
   "nbconvert_exporter": "python",
   "pygments_lexer": "ipython3",
   "version": "3.6.6"
  }
 },
 "nbformat": 4,
 "nbformat_minor": 4
}
