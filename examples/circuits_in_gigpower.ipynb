{
 "metadata": {
  "language_info": {
   "codemirror_mode": {
    "name": "ipython",
    "version": 3
   },
   "file_extension": ".py",
   "mimetype": "text/x-python",
   "name": "python",
   "nbconvert_exporter": "python",
   "pygments_lexer": "ipython3",
   "version": "3.8.3"
  },
  "orig_nbformat": 4,
  "kernelspec": {
   "name": "python3",
   "display_name": "Python 3.8.3  ('venv': venv)"
  },
  "interpreter": {
   "hash": "871f08b81357031f571dae09f92c0d12c386d46d105f4c92d00cc109e772ec9f"
  }
 },
 "nbformat": 4,
 "nbformat_minor": 2,
 "cells": [
  {
   "source": [
    "# Circuits in gigpower\n",
    "Last modified: 14 June 2021\n",
    "\n",
    "Circuit objects in gigpower are similar in concept to Circuit objects in OpenDSS. However, while OpenDSS.py wraps a Python interface over objects, `gigpower` `Circuits`, `CircuitElements`, and `CircuitElementGroups` are native Python structures.\n",
    "\n",
    "They are not purely Python structures however. `gigpower` uses OpenDSS.py in order to parse *.dss files and create `Circuits`,`CircuitElements`, and `CircuitElementGroups`. `gigpower` `Circuits` and `gigpower` `Solutions` maintain pointers to OpenDSS objects. Also, gigpower.solution_nr3 still relies on calls to OpenDSS.py to construct some initial matrices. A future goal of the project is to decouple gigpower from OpenDSS.py.\n",
    "\n",
    "This notebook provides examples for using getters and setters on `gigpower` `Circuit` objects. \n",
    "First, install `gigpower`. \n",
    "\n"
   ],
   "cell_type": "markdown",
   "metadata": {}
  },
  {
   "cell_type": "code",
   "execution_count": null,
   "metadata": {},
   "outputs": [],
   "source": [
    "import sys\n",
    "!{sys.executable} -m pip install gigpower"
   ]
  },
  {
   "source": [
    "## Select a .dss file\n",
    "Let's use some a simple feeder to demonstrate. You can find some test feeders in `./gigpower/tests/test_feeders`. This folder has modified versions of IEEE feeders.\n",
    "We'll use the 13 Bus allwye as an example. "
   ],
   "cell_type": "markdown",
   "metadata": {}
  },
  {
   "cell_type": "code",
   "execution_count": null,
   "metadata": {},
   "outputs": [],
   "source": [
    "dss_file = '../gigpower/tests/test_feeders/IEEE_13_Bus_allwye.dss'"
   ]
  },
  {
   "source": [
    "## Interact with a Solution's Circuit\n",
    "The Solution initializer takes a dss file as an argument, then creates a Circuit representing the feeder defined by the file. The code block below creates a Newton Raphson Solution, and then calls various getters and setters on its `Circuit`. Note that the methods demonstrated do not first require a call to `Solution.solve()`"
   ],
   "cell_type": "markdown",
   "metadata": {}
  },
  {
   "cell_type": "code",
   "execution_count": null,
   "metadata": {},
   "outputs": [],
   "source": [
    "from gigpower.solution_nr3 import SolutionNR3\n",
    "\n",
    "my_solution = SolutionNR3(dss_file)"
   ]
  },
  {
   "cell_type": "code",
   "execution_count": null,
   "metadata": {},
   "outputs": [],
   "source": [
    "# get nominal bus powers\n",
    "my_solution.circuit.get_nominal_bus_powers()"
   ]
  },
  {
   "cell_type": "code",
   "execution_count": null,
   "metadata": {},
   "outputs": [],
   "source": [
    "# get the spu matrix\n",
    "my_solution.circuit.get_spu_matrix()"
   ]
  },
  {
   "cell_type": "code",
   "execution_count": null,
   "metadata": {},
   "outputs": [],
   "source": [
    "# get all bus names\n",
    "my_solution.circuit.buses.all_names()"
   ]
  },
  {
   "cell_type": "code",
   "execution_count": null,
   "metadata": {},
   "outputs": [],
   "source": [
    "# get all load names\n",
    "my_solution.circuit.loads.all_names()"
   ]
  },
  {
   "cell_type": "code",
   "execution_count": null,
   "metadata": {},
   "outputs": [],
   "source": [
    "# get kW for a given load\n",
    "my_solution.circuit.loads.get_element('671').kW"
   ]
  },
  {
   "cell_type": "code",
   "execution_count": null,
   "metadata": {},
   "outputs": [],
   "source": [
    "# set kW for a given load\n",
    "my_solution.circuit.set_kW(('671'), 1000.0)\n",
    "my_solution.circuit.loads.get_element('671').kW"
   ]
  },
  {
   "cell_type": "code",
   "execution_count": null,
   "metadata": {},
   "outputs": [],
   "source": [
    "# get kvar for a given load\n",
    "my_solution.circuit.loads.get_element('634a').kvar"
   ]
  },
  {
   "cell_type": "code",
   "execution_count": null,
   "metadata": {},
   "outputs": [],
   "source": [
    "# set kvar for a given load\n",
    "my_solution.circuit.set_kvar('634a', 115.0)\n",
    "my_solution.circuit.loads.get_element('634a').kvar"
   ]
  }
 ]
}