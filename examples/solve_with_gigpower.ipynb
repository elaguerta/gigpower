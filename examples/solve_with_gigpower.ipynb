{
 "metadata": {
  "language_info": {
   "codemirror_mode": {
    "name": "ipython",
    "version": 3
   },
   "file_extension": ".py",
   "mimetype": "text/x-python",
   "name": "python",
   "nbconvert_exporter": "python",
   "pygments_lexer": "ipython3",
   "version": "3.8.3"
  },
  "orig_nbformat": 4,
  "kernelspec": {
   "name": "python3",
   "display_name": "Python 3.8.3  ('venv': venv)"
  },
  "interpreter": {
   "hash": "871f08b81357031f571dae09f92c0d12c386d46d105f4c92d00cc109e772ec9f"
  }
 },
 "nbformat": 4,
 "nbformat_minor": 2,
 "cells": [
  {
   "source": [
    "# How to solve power flow with gigpower\n",
    "Last modified: 14 June 2021\n",
    "\n",
    "This notebook will demonstrate how to solve powerflow with gigpower using Newton Raphson and Forward Backward Sweep. It will also show you how to compare solutions with the solution obtained by OpenDSS.\n",
    "\n",
    "First, install gigpower."
   ],
   "cell_type": "markdown",
   "metadata": {}
  },
  {
   "cell_type": "code",
   "execution_count": null,
   "metadata": {},
   "outputs": [],
   "source": [
    "import sys\n",
    "!{sys.executable} -m pip install gigpower"
   ]
  },
  {
   "source": [
    "## Select a .dss file\n",
    "Let's use some a simple feeder to demonstrate. You can find some test feeders in `./gigpower/tests/test_feeders`. This folder has modified versions of IEEE feeders.\n",
    "We'll use the 13 Bus allwye as an example. "
   ],
   "cell_type": "markdown",
   "metadata": {}
  },
  {
   "cell_type": "code",
   "execution_count": null,
   "metadata": {},
   "outputs": [],
   "source": [
    "dss_file = '../gigpower/tests/test_feeders/IEEE_13_Bus_allwye.dss'"
   ]
  },
  {
   "source": [
    "## Solve with Newton-Raphson method (NR3)\n",
    "The following code block creates a SolutionNR3, calls solve, and prints solution values. "
   ],
   "cell_type": "markdown",
   "metadata": {}
  },
  {
   "cell_type": "code",
   "execution_count": null,
   "metadata": {},
   "outputs": [],
   "source": [
    "\n",
    "from gigpower.solution_nr3 import SolutionNR3\n",
    "\n",
    "my_solution_nr3 = SolutionNR3(dss_file)\n",
    "my_solution_nr3.solve()\n",
    "my_solution_nr3.print_solution()"
   ]
  },
  {
   "source": [
    "## Solve with Forward Backward Sweep (FBS)\n",
    "Let's solve the same feeder with Forward Backward Sweep. Note that FBS only works for radial networks. The following code block creates a SolutionFBS, calls solve, and prints solution values. "
   ],
   "cell_type": "markdown",
   "metadata": {}
  },
  {
   "cell_type": "code",
   "execution_count": null,
   "metadata": {},
   "outputs": [],
   "source": [
    "from gigpower.solution_fbs import SolutionFBS\n",
    "\n",
    "my_solution_fbs = SolutionFBS(dss_file)\n",
    "my_solution_fbs.solve()\n",
    "my_solution_fbs.print_solution()"
   ]
  },
  {
   "source": [
    "## Solve with OpenDSS\n",
    "`gigpower.solution_dss` provides a wrapper over OpenDSS.py. Let's use it to solve the same feeder using OpenDSS."
   ],
   "cell_type": "markdown",
   "metadata": {}
  },
  {
   "cell_type": "code",
   "execution_count": null,
   "metadata": {},
   "outputs": [],
   "source": [
    "from gigpower.solution_dss import SolutionDSS\n",
    "\n",
    "my_solution_dss = SolutionDSS(dss_file)\n",
    "my_solution_dss.solve()\n",
    "my_solution_dss.print_solution()"
   ]
  },
  {
   "source": [
    "## Get solution dataframes\n",
    "After calling `.solve()`, can can query Solution objects for the following solution values, as Pandas DataFrames\n",
    "\n",
    "- Bus Voltage: `Solution.get_V()`\n",
    "- Bus Voltage Magnitude: `Solution.get_Vmag()`\n",
    "- Line Current: `Solution.get_I()`\n",
    "- Line Power, Incoming: `Solution.get_Stx()`\n",
    "- Line Power, Outgoing: `Solution.get_Srx()`\n",
    "- Bus Power: `Solution.get_sV()`\n",
    "\n",
    "Using the `orient` parameter, specify `'rows'` or `'cols'` to get row-major or column-major formats.\n",
    "The code blocks below get dataframes from our Solution objects, in row-major format."
   ],
   "cell_type": "markdown",
   "metadata": {}
  },
  {
   "cell_type": "code",
   "execution_count": null,
   "metadata": {},
   "outputs": [],
   "source": [
    "my_solution_nr3.get_V(orient='rows')"
   ]
  },
  {
   "cell_type": "code",
   "execution_count": null,
   "metadata": {},
   "outputs": [],
   "source": [
    "my_solution_nr3.get_Vmag(orient='rows')\n"
   ]
  },
  {
   "cell_type": "code",
   "execution_count": null,
   "metadata": {},
   "outputs": [],
   "source": [
    "my_solution_fbs.get_I(orient='rows')\n"
   ]
  },
  {
   "cell_type": "code",
   "execution_count": null,
   "metadata": {},
   "outputs": [],
   "source": [
    "my_solution_fbs.get_Stx(orient='rows')\n"
   ]
  },
  {
   "cell_type": "code",
   "execution_count": null,
   "metadata": {},
   "outputs": [],
   "source": [
    "my_solution_dss.get_Stx(orient='rows')"
   ]
  },
  {
   "cell_type": "code",
   "execution_count": null,
   "metadata": {},
   "outputs": [],
   "source": [
    "my_solution_dss.get_sV(orient='')"
   ]
  },
  {
   "source": [
    "## Compare Solutions\n",
    "`gigpower.pretty_print` provides a method for printing a useful comparison between two Solution objects. The code block below compares `my_solution_nr3` with `my_solution_fbs`. "
   ],
   "cell_type": "markdown",
   "metadata": {}
  },
  {
   "cell_type": "code",
   "execution_count": null,
   "metadata": {},
   "outputs": [],
   "source": [
    "from gigpower.pretty_print import compare_solutions\n",
    "compare_solutions(my_solution_nr3, my_solution_fbs, 'NR3', 'FBS')\n"
   ]
  },
  {
   "source": [
    "## Zip Values\n",
    "\n",
    "Zip Values are set **class-wide** on all Solutions. The default Zip Values are [0.1, 0.05, 0.85, 0.1, 0.05, 0.85,0.8]. Because the Zip Values are class variables, if you change them for one Solution you change them for all Solutions! So if you do change zip values, be sure to call `solve()` again on each Solution in scope. \n",
    "\n",
    "The code blocks below demonstrate getting and setting zip values.  "
   ],
   "cell_type": "markdown",
   "metadata": {}
  },
  {
   "cell_type": "code",
   "execution_count": null,
   "metadata": {},
   "outputs": [],
   "source": [
    "my_solution_dss.ZIP_V"
   ]
  },
  {
   "cell_type": "code",
   "execution_count": null,
   "metadata": {},
   "outputs": [],
   "source": [
    "# after running this cell, all Solution zip values will be re-set.\n",
    "my_solution_nr3.set_zip_values([1,0,0,1,0,0,.8])"
   ]
  },
  {
   "cell_type": "code",
   "execution_count": null,
   "metadata": {},
   "outputs": [],
   "source": [
    "my_solution_dss.ZIP_V"
   ]
  },
  {
   "source": [
    "## Other Solution API methods\n",
    "The code snippets below demonstrate other useful Solution getters and setters."
   ],
   "cell_type": "markdown",
   "metadata": {}
  },
  {
   "cell_type": "code",
   "execution_count": null,
   "metadata": {},
   "outputs": [],
   "source": [
    "# get nominal bus powers (you don't need to call solve() first for this)\n",
    "my_solution_nr3.get_nominal_bus_powers()"
   ]
  },
  {
   "cell_type": "code",
   "execution_count": null,
   "metadata": {},
   "outputs": [],
   "source": [
    "# get Solution instance parameters\n",
    "my_solution_fbs.get_params()"
   ]
  },
  {
   "cell_type": "code",
   "execution_count": null,
   "metadata": {},
   "outputs": [],
   "source": [
    "# View Solution class parameters - these are all the variables that the Solution will solve for, their axes, and their datatypes. \n",
    "my_solution_nr3.SOLUTION_PARAMS"
   ]
  },
  {
   "cell_type": "code",
   "execution_count": null,
   "metadata": {},
   "outputs": [],
   "source": [
    "# The SolutionFBS objects provide an adjacency matrix, with the convention that edges are directed away from the source bus. \n",
    "my_solution_fbs.adj"
   ]
  },
  {
   "cell_type": "code",
   "execution_count": null,
   "metadata": {},
   "outputs": [],
   "source": [
    "# You can get the reverse adjacency matrix to view edges directed towards source.\n",
    "my_solution_fbs.reverse_adj"
   ]
  }
 ]
}