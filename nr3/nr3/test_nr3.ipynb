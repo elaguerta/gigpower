{
 "metadata": {
  "language_info": {
   "codemirror_mode": {
    "name": "ipython",
    "version": 3
   },
   "file_extension": ".py",
   "mimetype": "text/x-python",
   "name": "python",
   "nbconvert_exporter": "python",
   "pygments_lexer": "ipython3",
   "version": "3.7.6-final"
  },
  "orig_nbformat": 2,
  "kernelspec": {
   "name": "python37664bitpycigartestconda6f494e4b862a4280a0a0055c3626089c",
   "display_name": "Python 3.7.6 64-bit ('pycigar-test': conda)"
  }
 },
 "nbformat": 4,
 "nbformat_minor": 2,
 "cells": [
  {
   "cell_type": "code",
   "execution_count": 1,
   "metadata": {
    "tags": []
   },
   "outputs": [
    {
     "output_type": "stream",
     "name": "stdout",
     "text": "[[ 1.        +0.j          0.99932801+0.00160646j  0.99865603+0.00321293j\n   0.99737988+0.0055795j   0.99799298+0.00558766j  0.99556049+0.00709159j\n   0.        +0.j        ]\n [-0.5       -0.8660254j  -0.49899972-0.86684268j -0.49799943-0.86765995j\n  -0.49676508-0.86892888j  0.        +0.j         -0.49698035-0.86899324j\n  -0.49689536-0.86851714j]\n [-0.5       +0.8660254j  -0.50157893+0.86521028j -0.50315787+0.86439516j\n  -0.50561723+0.86324779j -0.50563172+0.86192354j  0.        +0.j\n   0.        +0.j        ]]\n[[ 1.        +0.j          0.99932132+0.00162226j  0.99864264+0.00324452j\n   0.99735381+0.00563436j  0.99797294+0.00564264j  0.99551642+0.00716123j\n   0.        +0.j        ]\n [-0.5       -0.8660254j  -0.49898982-0.86685074j -0.49797964-0.86767607j\n  -0.49673305-0.86895753j  0.        +0.j         -0.49695043-0.8690226j\n  -0.49686463-0.8685418j ]\n [-0.5       +0.8660254j  -0.50159443+0.86520212j -0.50318886+0.86437884j\n  -0.50567235+0.86321995j -0.50568691+0.86188263j  0.        +0.j\n   0.        +0.j        ]]\n[[ 1.        +0.j          0.99931469+0.0016379j   0.99862938+0.00327581j\n   0.99732798+0.00568867j  0.9979531 +0.00569708j  0.99547278+0.00723019j\n   0.        +0.j        ]\n [-0.5       -0.8660254j  -0.49898002-0.86685872j -0.49796004-0.86769203j\n  -0.49670134-0.86898589j  0.        +0.j         -0.4969208 -0.86905166j\n  -0.49683419-0.86856623j]\n [-0.5       +0.8660254j  -0.50160977+0.86519404j -0.50321954+0.86436268j\n  -0.50572693+0.86319237j -0.50574155+0.86184211j  0.        +0.j\n   0.        +0.j        ]]\n[[ 1.        +0.j          0.99930819+0.00165324j  0.99861638+0.00330648j\n   0.99730266+0.00574192j  0.99793363+0.00575046j  0.99542998+0.0072978j\n   0.        +0.j        ]\n [-0.5       -0.8660254j  -0.49897041-0.86686654j -0.49794082-0.86770768j\n  -0.49667024-0.8690137j   0.        +0.j         -0.49689175-0.86908017j\n  -0.49680434-0.86859017j]\n [-0.5       +0.8660254j  -0.50162481+0.86518611j -0.50324963+0.86434682j\n  -0.50578043+0.86316532j -0.50579512+0.86180237j  0.        +0.j\n   0.        +0.j        ]]\n[[ 1.        +0.j          0.99930188+0.00166812j  0.99860377+0.00333625j\n   0.99727808+0.00579359j  0.99791474+0.00580225j  0.99538845+0.0073634j\n   0.        +0.j        ]\n [-0.5       -0.8660254j  -0.49896109-0.86687413j -0.49792218-0.86772286j\n  -0.49664006-0.86904069j  0.        +0.j         -0.49686355-0.86910782j\n  -0.49677538-0.86861341j]\n [-0.5       +0.8660254j  -0.50163941+0.86517842j -0.50327881+0.86433144j\n  -0.50583234+0.86313906j -0.5058471 +0.8617638j   0.        +0.j\n   0.        +0.j        ]]\n0.053495168685913086\n"
    }
   ],
   "source": [
    "import opendssdirect as dss\n",
    "from nr3 import NR3\n",
    "import numpy as np\n",
    "import time\n",
    "dss_path = '/home/toanngo/Documents/GitHub/LinDist3Flow//nr3/nr3/data/compare_opendss_05node_threephase_unbalanced_oscillation_03.dss'\n",
    "#dss_path = '/home/toanngo/Documents/GitHub/LinDist3Flow/lindist3flow/data/IEEE_13Node_Modified_01.dss'\n",
    "#dss_path = '/home/toanngo/Documents/GitHub/LinDist3Flow/lindist3flow/data/IEEE_13Node_Modified_01.dss'\n",
    "#dss_path = '/home/toanngo/Documents/GitHub/LinDist3Flow/lindist3flow/data/06node_threephase_unbalanced.dss'\n",
    "dss.run_command('Redirect ' + dss_path)\n",
    "nnode = len(dss.Circuit.AllBusNames())\n",
    "nline = len(dss.Lines.AllNames())\n",
    "\n",
    "\n",
    "# loads\n",
    "# Store the loads\n",
    "slackidx = 0\n",
    "Vslack = np.array([1, np.exp(1j*-120*np.pi/180), np.exp(1j*120*np.pi/180)])\n",
    "times = np.linspace(0, 2*np.pi, 5)\n",
    "\n",
    "kW_list = np.array([])\n",
    "kvar_list = np.array([])\n",
    "for k in range(len(dss.Loads.AllNames())):\n",
    "    dss.Loads.Name(dss.Loads.AllNames()[k])\n",
    "    kW_list = np.append(kW_list, dss.Loads.kW())\n",
    "    kvar_list = np.append(kvar_list, dss.Loads.kvar())\n",
    "all_load_names = dss.Loads.AllNames()\n",
    "\n",
    "VNR01 = np.zeros((len(times), 3, nnode), dtype = \"complex\")\n",
    "INR01 =  np.zeros((len(times), 3, nline), dtype = \"complex\")\n",
    "STXNR01 = np.zeros((len(times), 3, nline), dtype = \"complex\")\n",
    "SRXNR01 = np.zeros((len(times), 3, nline), dtype = \"complex\")\n",
    "iNR01 = np.zeros((len(times), 3, nnode), dtype = \"complex\")\n",
    "sNR01 = np.zeros((len(times), 3, nnode), dtype = \"complex\")\n",
    "\n",
    "NR3 = NR3(dss_path, slackidx, Vslack)\n",
    "start_time = time.time()\n",
    "for i in range(len(times)):\n",
    "    for k,v in enumerate(all_load_names):\n",
    "        NR3.set_load_kw(v, kW_list[k]* (1 + 0.1*np.sin(2*np.pi*0.01*times[i])))\n",
    "        NR3.set_load_kvar(v, kvar_list[k] * (1 + 0.1*np.sin(2*np.pi*0.01*times[i])))\n",
    "    VNR, INR, iNR, sNR, STXNR, SRXNR = NR3.solve()\n",
    "    # Time-varying load\n",
    "\n",
    "    #VNR01[i, :, :] = np.reshape(VNR, (3, nnode))\n",
    "    #INR01[i, :, :] = np.reshape(INR, (3, nline))\n",
    "    #STXNR01[i, :, :] = np.reshape(STXNR, (3, nline))\n",
    "    #SRXNR01[i, :, :] = np.reshape(SRXNR, (3, nline))\n",
    "    #iNR01[i, :, :] = np.reshape(iNR, (3, nnode))\n",
    "    #sNR01[i, :, :] = np.reshape(sNR, (3, nnode))\n",
    "    #print(VNR)\n",
    "print(time.time() - start_time)"
   ]
  }
 ]
}