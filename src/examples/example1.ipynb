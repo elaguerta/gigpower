{
 "cells": [
  {
   "cell_type": "code",
   "execution_count": null,
   "metadata": {},
   "outputs": [],
   "source": [
    "import sys\n",
    "import os\n",
    "from pathlib import Path\n",
    "import pytest\n",
    "import numpy as np\n",
    "\n",
    "sys.path.insert(1, 'C:\\\\Users\\\\kathl\\\\Desktop\\\\Github\\\\LinDist3Flow\\\\src\\\\')\n",
    "\n",
    "from circuit_mapper.solution_dss import SolutionDSS\n",
    "from circuit_mapper.solution_nr3 import SolutionNR3\n",
    "from circuit_mapper.circuit import Circuit\n",
    "from circuit_mapper.pretty_print import compare_data_frames\n",
    "\n",
    "DSS_FILE_DIR = Path('./src/nr3_python/') #input file path\n",
    "OUT_DIR = Path('./tests/test_compare_nr3_dss') #output file path\n",
    "OUT_PREFIX = 'NR3_v_DSS_' \n",
    "\n",
    "GENEROUS = 10e-1\n",
    "STRICT = 10e-2\n"
   ]
  },
  {
   "cell_type": "markdown",
   "metadata": {},
   "source": [
    "### Solve with NR3"
   ]
  },
  {
   "cell_type": "code",
   "execution_count": null,
   "metadata": {},
   "outputs": [],
   "source": [
    "def new_nr3_solution(dss_file):\n",
    "    fp = str(Path(DSS_FILE_DIR, dss_file)) #input file path + dss file name\n",
    "    solution = SolutionNR3(fp) #generate an NR3 solution object based on file path\n",
    "    # solution.maxiter = 1 #specify attributes of solution object\n",
    "    solution.solve() #solve the solution object\n",
    "    return solution\n",
    "\n",
    "nr3_vals = new_nr3_solution.get_data_frame(solution_param)\n",
    "print(nr3_vals)"
   ]
  },
  {
   "cell_type": "markdown",
   "metadata": {},
   "source": [
    "#### Solution "
   ]
  },
  {
   "cell_type": "code",
   "execution_count": null,
   "metadata": {},
   "outputs": [],
   "source": [
    "NR3_voltage = nr3_vals.V # voltage at buses in DSS bus order\n",
    "NR3_current = nr3_vals.I # current along lines in DSS line order\n",
    "NR3_stx = nr3_vals.Stx #sending-end line powers\n",
    "NR3_srx = nr3_vals.Srx #receiving-end line powers\n",
    "NR3_i = nr3_vals.i_Node #total bus current\n",
    "NR3_s = nr3_vals.sV #total bus load"
   ]
  },
  {
   "cell_type": "markdown",
   "metadata": {},
   "source": [
    "### Solve with FBS"
   ]
  },
  {
   "cell_type": "code",
   "execution_count": null,
   "metadata": {},
   "outputs": [],
   "source": [
    "def new_fbs_solution(dss_file):\n",
    "    fp = str(Path(DSS_FILE_DIR, dss_file))\n",
    "    solution = SolutionFBS(fp)\n",
    "    solution.solve()\n",
    "    return solution\n",
    "\n",
    "fbs_vals = new_fbs_solution.get_data_frame(solution_param)\n",
    "print(fbs_vals)"
   ]
  }
 ],
 "metadata": {
  "kernelspec": {
   "display_name": "Python 3",
   "language": "python",
   "name": "python3"
  },
  "language_info": {
   "codemirror_mode": {
    "name": "ipython",
    "version": 3
   },
   "file_extension": ".py",
   "mimetype": "text/x-python",
   "name": "python",
   "nbconvert_exporter": "python",
   "pygments_lexer": "ipython3",
   "version": "3.8.5"
  }
 },
 "nbformat": 4,
 "nbformat_minor": 4
}
